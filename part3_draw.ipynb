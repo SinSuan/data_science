{
 "cells": [
  {
   "cell_type": "markdown",
   "metadata": {},
   "source": [
    "# Drawing"
   ]
  },
  {
   "cell_type": "markdown",
   "metadata": {},
   "source": [
    "## (1) 盒鬚圖\n",
    "不同隱藏層神經元數量 (n=[1,20])下的 30 次建模結果盒鬚圖"
   ]
  },
  {
   "cell_type": "code",
   "execution_count": 1,
   "metadata": {},
   "outputs": [],
   "source": [
    "from module.for_model.checkpoint import specific_loss\n",
    "import matplotlib.pyplot as plt"
   ]
  },
  {
   "cell_type": "code",
   "execution_count": 2,
   "metadata": {},
   "outputs": [],
   "source": [
    "name_experiment = \"2024_0606_0319_part3\"\n",
    "n = 2"
   ]
  },
  {
   "cell_type": "code",
   "execution_count": 3,
   "metadata": {},
   "outputs": [
    {
     "data": {
      "image/png": "[encoded data removed]",
      "text/plain": [
       "<Figure size 640x480 with 1 Axes>"
      ]
     },
     "metadata": {},
     "output_type": "display_data"
    }
   ],
   "source": [
    "# 拿每個模型最好的 checkpoint 的 loss\n",
    "# in-sample loss 跟 out-of-sample loss 可能拿不同的 checkpoint\n",
    "loss_in, _ = specific_loss(name_experiment, n, type_loss=0)\n",
    "loss_out, _ = specific_loss(name_experiment, n, type_loss=1)\n",
    "\n",
    "ttl_loss = [loss_in, loss_out]\n",
    "loss_name = [\"loss_in\", \"loss_out\"]\n",
    "plt.boxplot(ttl_loss, patch_artist=True, tick_labels=loss_name)\n",
    "\n",
    "# 添加标题和标签\n",
    "# plt.title(\"Model with Different Hidden Nodes\")\n",
    "plt.xlabel(\"Number of Nodes\")\n",
    "plt.ylabel(\"Loss\")\n",
    "\n",
    "# 显示图表\n",
    "plt.show()"
   ]
  },
  {
   "cell_type": "markdown",
   "metadata": {},
   "source": [
    "兩者分布幾乎相同"
   ]
  },
  {
   "cell_type": "markdown",
   "metadata": {},
   "source": [
    "## (2) 真實 vs 預測\n",
    "最佳隱藏層數量下，30 次建模結果最佳解的真實與預測解比較"
   ]
  },
  {
   "cell_type": "code",
   "execution_count": 4,
   "metadata": {},
   "outputs": [],
   "source": [
    "import numpy as np\n",
    "from module.for_model.checkpoint import get_best_model\n",
    "from module.for_dataset.create_dataset import create_dataset\n",
    "from module.for_dataset.normalization import normalization"
   ]
  },
  {
   "cell_type": "markdown",
   "metadata": {},
   "source": [
    "### 調出 best model 的 best checkpoint 的參數"
   ]
  },
  {
   "cell_type": "code",
   "execution_count": 5,
   "metadata": {},
   "outputs": [],
   "source": [
    "name_experiment = \"2024_0606_0319_part3\"\n",
    "n = 2\n",
    "nn_best, _ = get_best_model(name_experiment, n)"
   ]
  },
  {
   "cell_type": "markdown",
   "metadata": {},
   "source": [
    "### 建立其他沒看過的資料"
   ]
  },
  {
   "cell_type": "code",
   "execution_count": 6,
   "metadata": {},
   "outputs": [
    {
     "name": "stdout",
     "output_type": "stream",
     "text": [
      "X = [1.47137841 0.00422715], Y = [1]\n"
     ]
    }
   ],
   "source": [
    "# 建立其他沒看過的資料\n",
    "# (之前 random seed 設 0，這次要設不一樣)\n",
    "\n",
    "random_seed = 1\n",
    "num_analysis = 1000\n",
    "num_data = int(num_analysis/0.8)\n",
    "\n",
    "X, Y, _, _ = create_dataset(random_seed, num_data, \"xor\")\n",
    "\n",
    "# reshape for the model output\n",
    "Y = Y.reshape((-1,1))\n",
    "\n",
    "# normalize\n",
    "normalizer = normalization(X-5)\n",
    "X_n = normalizer.normalize(X-5)\n",
    "Y_n = normalizer.normalize(Y-5)\n",
    "\n",
    "\n",
    "print(f\"X = {X[0]}, Y = {Y[0]}\")"
   ]
  },
  {
   "cell_type": "markdown",
   "metadata": {},
   "source": [
    "### 比較不同輸入時，預測值、真實值的差異"
   ]
  },
  {
   "cell_type": "code",
   "execution_count": 7,
   "metadata": {},
   "outputs": [
    {
     "data": {
      "text/plain": [
       "0.012755486161554551"
      ]
     },
     "execution_count": 7,
     "metadata": {},
     "output_type": "execute_result"
    }
   ],
   "source": [
    "# 稍微計算一下 loss\n",
    "loss_average = nn_best.evaluate(X_n, Y_n)\n",
    "loss_average"
   ]
  },
  {
   "cell_type": "code",
   "execution_count": 8,
   "metadata": {},
   "outputs": [
    {
     "name": "stdout",
     "output_type": "stream",
     "text": [
      "x = [1.47137841 0.00422715],\ty_pred = -5.0,\ty = 1\n",
      "x = [1.25691184 1.14351808],\ty_pred = -5.0,\ty = 0\n",
      "x = [-0.39727088  1.22367555],\ty_pred = -5.0,\ty = 1\n",
      "x = [-0.36961785 -0.25810749],\ty_pred = -5.0,\ty = 0\n",
      "x = [-0.22226277  0.88947516],\ty_pred = -5.0,\ty = 1\n",
      "x = [-0.35688343  0.11468221],\ty_pred = -5.0,\ty = 0\n",
      "x = [-0.48082868  1.08572698],\ty_pred = -5.0,\ty = 1\n",
      "x = [ 0.92651045 -0.36132896],\ty_pred = -5.0,\ty = 1\n",
      "x = [1.32657962 1.232428  ],\ty_pred = -5.0,\ty = 0\n",
      "x = [0.11347241 0.12622466],\ty_pred = -5.0,\ty = 0\n",
      "x = [ 1.28344736 -0.20522466],\ty_pred = -5.0,\ty = 1\n",
      "x = [ 0.9125349 -0.1267843],\ty_pred = -5.0,\ty = 1\n",
      "x = [-0.01944935  0.88942032],\ty_pred = -5.0,\ty = 1\n",
      "x = [0.90215024 0.85058533],\ty_pred = -5.0,\ty = 0\n",
      "x = [0.19220276 1.41774032],\ty_pred = -5.0,\ty = 1\n",
      "x = [-0.30368921  0.05249553],\ty_pred = -5.0,\ty = 0\n",
      "x = [ 0.93191765 -0.18647453],\ty_pred = -5.0,\ty = 1\n",
      "x = [ 0.13601685 -0.2944701 ],\ty_pred = -5.0,\ty = 0\n",
      "x = [-0.29855726 -0.40898   ],\ty_pred = -5.0,\ty = 0\n",
      "x = [-0.48644313 -0.02481513],\ty_pred = -5.0,\ty = 0\n",
      "x = [0.99174267 0.87357495],\ty_pred = -5.0,\ty = 0\n",
      "x = [-0.15589879  1.00230776],\ty_pred = -5.0,\ty = 1\n",
      "x = [-0.09811768  1.04377968],\ty_pred = -5.0,\ty = 1\n",
      "x = [-0.4283659  -0.21016081],\ty_pred = -5.0,\ty = 0\n",
      "x = [-0.01391989  0.95034778],\ty_pred = -5.0,\ty = 1\n",
      "x = [-0.46503258  0.8105136 ],\ty_pred = -5.0,\ty = 1\n",
      "x = [0.87402095 1.06323995],\ty_pred = -5.0,\ty = 0\n",
      "x = [ 0.16121633 -0.08941147],\ty_pred = -5.0,\ty = 0\n",
      "x = [0.8672441  0.88311128],\ty_pred = -5.0,\ty = 0\n",
      "x = [1.02256133 0.0651739 ],\ty_pred = -5.0,\ty = 1\n",
      "x = [ 0.9451846  -0.38425206],\ty_pred = -5.0,\ty = 1\n",
      "x = [ 0.14925601 -0.2565639 ],\ty_pred = -5.0,\ty = 0\n",
      "x = [1.12345894 1.32913077],\ty_pred = -5.0,\ty = 0\n",
      "x = [1.31017045 1.04667261],\ty_pred = -5.0,\ty = 0\n",
      "x = [-0.31105048  0.12712035],\ty_pred = -5.0,\ty = 0\n",
      "x = [1.38688203 0.17538803],\ty_pred = -5.0,\ty = 1\n",
      "x = [0.80298551 0.83285159],\ty_pred = -5.0,\ty = 0\n",
      "x = [-0.41967782  0.16464248],\ty_pred = -5.0,\ty = 0\n",
      "x = [-0.18506151  0.93442189],\ty_pred = -5.0,\ty = 1\n",
      "x = [-0.21430424  1.15236433],\ty_pred = -5.0,\ty = 1\n",
      "x = [0.13236566 1.00165571],\ty_pred = -5.0,\ty = 1\n",
      "x = [1.15839946 0.80137455],\ty_pred = -5.0,\ty = 0\n",
      "x = [-0.27134857 -0.13105933],\ty_pred = -5.0,\ty = 0\n",
      "x = [0.12015947 0.86016656],\ty_pred = -5.0,\ty = 1\n",
      "x = [0.13597461 1.35193539],\ty_pred = -5.0,\ty = 1\n",
      "x = [1.4598189  0.15060606],\ty_pred = -5.0,\ty = 1\n",
      "x = [-0.01637216  0.198126  ],\ty_pred = -5.0,\ty = 0\n",
      "x = [0.90441166 0.89231018],\ty_pred = -5.0,\ty = 0\n",
      "x = [0.02771333 0.88769736],\ty_pred = -5.0,\ty = 1\n",
      "x = [-0.00193267  1.23399454],\ty_pred = -5.0,\ty = 1\n",
      "x = [1.23065518 1.29084566],\ty_pred = -5.0,\ty = 0\n",
      "x = [ 1.49102816 -0.32765225],\ty_pred = -5.0,\ty = 1\n",
      "x = [ 1.40509138 -0.12281825],\ty_pred = -5.0,\ty = 1\n",
      "x = [-0.11302461  1.44768283],\ty_pred = -5.0,\ty = 1\n",
      "x = [ 1.26490557 -0.30457142],\ty_pred = -5.0,\ty = 1\n",
      "x = [-0.10727885 -0.4869469 ],\ty_pred = -5.0,\ty = 0\n",
      "x = [0.06044287 1.14071726],\ty_pred = -5.0,\ty = 1\n",
      "x = [0.1044793  0.02298515],\ty_pred = -5.0,\ty = 0\n",
      "x = [ 1.38863548 -0.40448134],\ty_pred = -5.0,\ty = 1\n",
      "x = [-0.45805762  0.80803286],\ty_pred = -5.0,\ty = 1\n",
      "x = [0.98692822 1.49991305],\ty_pred = -5.0,\ty = 0\n",
      "x = [0.88377829 1.14306265],\ty_pred = -5.0,\ty = 0\n",
      "x = [-0.10819811 -0.49121081],\ty_pred = -5.0,\ty = 0\n",
      "x = [-0.449618    1.14165631],\ty_pred = -5.0,\ty = 1\n",
      "x = [0.93600299 1.41504102],\ty_pred = -5.0,\ty = 0\n",
      "x = [0.92704118 0.0206781 ],\ty_pred = -5.0,\ty = 1\n",
      "x = [1.31857881 1.19387102],\ty_pred = -5.0,\ty = 0\n",
      "x = [1.2401891  0.09278016],\ty_pred = -5.0,\ty = 1\n",
      "x = [-0.33210657 -0.1543612 ],\ty_pred = -5.0,\ty = 0\n",
      "x = [1.0768246  1.26476226],\ty_pred = -5.0,\ty = 0\n",
      "x = [-0.4509845  1.0682231],\ty_pred = -5.0,\ty = 1\n",
      "x = [-0.07556938  1.23216762],\ty_pred = -5.0,\ty = 1\n",
      "x = [-0.27784631  0.19203131],\ty_pred = -5.0,\ty = 0\n",
      "x = [-0.09417835  1.02931573],\ty_pred = -5.0,\ty = 1\n",
      "x = [-0.11433625  1.06867534],\ty_pred = -5.0,\ty = 1\n",
      "x = [-0.03153697 -0.31455631],\ty_pred = -5.0,\ty = 0\n",
      "x = [0.99242078 0.92640324],\ty_pred = -5.0,\ty = 0\n",
      "x = [1.41287122 0.85686559],\ty_pred = -5.0,\ty = 0\n",
      "x = [0.92872692 1.29282149],\ty_pred = -5.0,\ty = 0\n",
      "x = [-0.364596    1.47235313],\ty_pred = -5.0,\ty = 1\n",
      "x = [-0.13273078  1.01746389],\ty_pred = -5.0,\ty = 1\n",
      "x = [1.13066141 1.21947911],\ty_pred = -5.0,\ty = 0\n",
      "x = [1.061708   0.04052462],\ty_pred = -5.0,\ty = 1\n",
      "x = [1.30832081 1.46803849],\ty_pred = -5.0,\ty = 0\n",
      "x = [-0.4902339  -0.33594654],\ty_pred = -5.0,\ty = 0\n",
      "x = [ 0.16512328 -0.11034277],\ty_pred = -5.0,\ty = 0\n",
      "x = [ 0.14092444 -0.05090365],\ty_pred = -5.0,\ty = 0\n",
      "x = [-0.2269946  -0.15980653],\ty_pred = -5.0,\ty = 0\n",
      "x = [-0.07698266  1.48571851],\ty_pred = -5.0,\ty = 1\n",
      "x = [1.30119051 0.17428377],\ty_pred = -5.0,\ty = 1\n",
      "x = [1.22222569 1.41410983],\ty_pred = -5.0,\ty = 0\n",
      "x = [-0.40544459 -0.14603648],\ty_pred = -5.0,\ty = 0\n",
      "x = [1.14625279 0.16357915],\ty_pred = -5.0,\ty = 1\n",
      "x = [ 0.07898083 -0.48948671],\ty_pred = -5.0,\ty = 0\n",
      "x = [ 0.95425683 -0.2675555 ],\ty_pred = -5.0,\ty = 1\n",
      "x = [-0.40830221  1.02691291],\ty_pred = -5.0,\ty = 1\n",
      "x = [-0.09259007  0.11518239],\ty_pred = -5.0,\ty = 0\n",
      "x = [1.42321352 0.13377462],\ty_pred = -5.0,\ty = 1\n",
      "x = [-0.17808381 -0.11755723],\ty_pred = -5.0,\ty = 0\n",
      "x = [0.05902251 0.9717108 ],\ty_pred = -5.0,\ty = 1\n",
      "x = [-0.15682253  1.3255098 ],\ty_pred = -5.0,\ty = 1\n",
      "x = [-0.48912671 -0.08456301],\ty_pred = -5.0,\ty = 0\n",
      "x = [-0.19642656  0.06515237],\ty_pred = -5.0,\ty = 0\n",
      "x = [-0.27932864  0.1250221 ],\ty_pred = -5.0,\ty = 0\n",
      "x = [1.29406686 1.48538924],\ty_pred = -5.0,\ty = 0\n",
      "x = [1.34961568 1.33530834],\ty_pred = -5.0,\ty = 0\n",
      "x = [1.27281326 1.3568519 ],\ty_pred = -5.0,\ty = 0\n",
      "x = [0.82801245 0.98527714],\ty_pred = -5.0,\ty = 0\n",
      "x = [-0.49971858  0.1837314 ],\ty_pred = -5.0,\ty = 0\n",
      "x = [-0.23639378  0.18164848],\ty_pred = -5.0,\ty = 0\n",
      "x = [-0.07669873  0.08019207],\ty_pred = -5.0,\ty = 0\n",
      "x = [0.86067514 0.93510003],\ty_pred = -5.0,\ty = 0\n",
      "x = [0.02501523 0.10081969],\ty_pred = -5.0,\ty = 0\n",
      "x = [ 0.02855753 -0.01135993],\ty_pred = -5.0,\ty = 0\n",
      "x = [0.1051356  1.44217733],\ty_pred = -5.0,\ty = 1\n",
      "x = [ 1.33517166 -0.18438824],\ty_pred = -5.0,\ty = 1\n",
      "x = [1.11750253 0.86848945],\ty_pred = -5.0,\ty = 0\n",
      "x = [ 0.18166145 -0.02553938],\ty_pred = -5.0,\ty = 0\n",
      "x = [0.98227874 1.01621093],\ty_pred = -5.0,\ty = 0\n",
      "x = [-0.25965763  0.05834716],\ty_pred = -5.0,\ty = 0\n",
      "x = [0.1159988  0.13268937],\ty_pred = -5.0,\ty = 0\n",
      "x = [ 1.02967722 -0.31085422],\ty_pred = -5.0,\ty = 1\n",
      "x = [-0.09925804  0.01319977],\ty_pred = -5.0,\ty = 0\n",
      "x = [-0.13669186  1.33072644],\ty_pred = -5.0,\ty = 1\n",
      "x = [ 0.98273481 -0.17400308],\ty_pred = -5.0,\ty = 1\n",
      "x = [-0.26011776 -0.45225346],\ty_pred = -5.0,\ty = 0\n",
      "x = [ 0.18797198 -0.372871  ],\ty_pred = -5.0,\ty = 0\n",
      "x = [0.86067073 1.21622272],\ty_pred = -5.0,\ty = 0\n",
      "x = [-0.38731999  1.27879945],\ty_pred = -5.0,\ty = 1\n",
      "x = [0.14141389 0.13674487],\ty_pred = -5.0,\ty = 0\n",
      "x = [ 1.20281628 -0.15029108],\ty_pred = -5.0,\ty = 1\n",
      "x = [ 0.90605984 -0.35426389],\ty_pred = -5.0,\ty = 1\n",
      "x = [-0.32637651  0.09617031],\ty_pred = -5.0,\ty = 0\n",
      "x = [ 1.42350693 -0.06832045],\ty_pred = -5.0,\ty = 1\n",
      "x = [-0.3364337   0.96576597],\ty_pred = -5.0,\ty = 1\n",
      "x = [-0.13890009 -0.16600131],\ty_pred = -5.0,\ty = 0\n",
      "x = [ 1.42098482 -0.06473564],\ty_pred = -5.0,\ty = 1\n",
      "x = [-0.11919292 -0.04210386],\ty_pred = -5.0,\ty = 0\n",
      "x = [1.20387226 0.02606947],\ty_pred = -5.0,\ty = 1\n",
      "x = [-0.3445656   0.91969114],\ty_pred = -5.0,\ty = 1\n",
      "x = [0.04970722 1.12439481],\ty_pred = -5.0,\ty = 1\n",
      "x = [-0.27294628  1.15810592],\ty_pred = -5.0,\ty = 1\n",
      "x = [1.49799716 0.89071707],\ty_pred = -5.0,\ty = 0\n",
      "x = [1.20941782 1.12391673],\ty_pred = -5.0,\ty = 0\n",
      "x = [ 0.83520366 -0.07283143],\ty_pred = -5.0,\ty = 1\n",
      "x = [ 0.80513792 -0.47580015],\ty_pred = -5.0,\ty = 1\n",
      "x = [0.03916711 1.38406577],\ty_pred = -5.0,\ty = 1\n",
      "x = [ 1.06930125 -0.32005149],\ty_pred = -5.0,\ty = 1\n",
      "x = [ 1.20718109 -0.25829178],\ty_pred = -5.0,\ty = 1\n",
      "x = [1.05325703 1.48972176],\ty_pred = -5.0,\ty = 0\n",
      "x = [0.04792459 0.90674772],\ty_pred = -5.0,\ty = 1\n",
      "x = [1.44974505 0.95706899],\ty_pred = -5.0,\ty = 0\n",
      "x = [ 1.26713365 -0.11775044],\ty_pred = -5.0,\ty = 1\n",
      "x = [ 1.25638307 -0.40520047],\ty_pred = -5.0,\ty = 1\n",
      "x = [1.02875428 1.06372982],\ty_pred = -5.0,\ty = 0\n",
      "x = [ 1.22883124 -0.24341983],\ty_pred = -5.0,\ty = 1\n",
      "x = [0.10364238 1.37822208],\ty_pred = -5.0,\ty = 1\n",
      "x = [-0.0163405   1.24222109],\ty_pred = -5.0,\ty = 1\n",
      "x = [ 1.47648799 -0.09289581],\ty_pred = -5.0,\ty = 1\n",
      "x = [1.0512378  1.23327908],\ty_pred = -5.0,\ty = 0\n",
      "x = [-0.32658697  1.11666337],\ty_pred = -5.0,\ty = 1\n",
      "x = [ 1.31258951 -0.18011727],\ty_pred = -5.0,\ty = 1\n",
      "x = [-0.46014939 -0.14403863],\ty_pred = -5.0,\ty = 0\n",
      "x = [-0.35162788  0.05902297],\ty_pred = -5.0,\ty = 0\n",
      "x = [-0.23328871  1.02255512],\ty_pred = -5.0,\ty = 1\n",
      "x = [ 0.85872675 -0.00342892],\ty_pred = -5.0,\ty = 1\n",
      "x = [-0.17449896  1.26209927],\ty_pred = -5.0,\ty = 1\n",
      "x = [ 1.28632219 -0.31304959],\ty_pred = -5.0,\ty = 1\n",
      "x = [0.82644444 1.09019402],\ty_pred = -5.0,\ty = 0\n",
      "x = [-0.42368687 -0.05634927],\ty_pred = -5.0,\ty = 0\n",
      "x = [ 1.2800016  -0.01223965],\ty_pred = -5.0,\ty = 1\n",
      "x = [1.07380623 1.0102089 ],\ty_pred = -5.0,\ty = 0\n",
      "x = [1.18762627 1.39638338],\ty_pred = -5.0,\ty = 0\n",
      "x = [0.07680691 1.27932969],\ty_pred = -5.0,\ty = 1\n",
      "x = [ 1.10247496 -0.44512917],\ty_pred = -5.0,\ty = 1\n",
      "x = [-0.48716715 -0.4532925 ],\ty_pred = -5.0,\ty = 0\n",
      "x = [ 1.34447443 -0.42066065],\ty_pred = -5.0,\ty = 1\n",
      "x = [-0.18331662  1.24899735],\ty_pred = -5.0,\ty = 1\n",
      "x = [ 1.29671245 -0.16819725],\ty_pred = -5.0,\ty = 1\n",
      "x = [ 0.06221434 -0.21832524],\ty_pred = -5.0,\ty = 0\n",
      "x = [1.07246713 1.17338245],\ty_pred = -5.0,\ty = 0\n",
      "x = [ 0.04171204 -0.41205103],\ty_pred = -5.0,\ty = 0\n",
      "x = [-0.0670405  -0.49274502],\ty_pred = -5.0,\ty = 0\n",
      "x = [-0.1229609   1.03528781],\ty_pred = -5.0,\ty = 1\n",
      "x = [0.81517978 0.13378142],\ty_pred = -5.0,\ty = 1\n",
      "x = [1.32902    1.45859319],\ty_pred = -5.0,\ty = 0\n",
      "x = [1.22862564 1.02077733],\ty_pred = -5.0,\ty = 0\n",
      "x = [0.87705356 0.19296862],\ty_pred = -5.0,\ty = 1\n",
      "x = [-0.00221428  0.01226029],\ty_pred = -5.0,\ty = 0\n",
      "x = [ 1.28660645 -0.21938839],\ty_pred = -5.0,\ty = 1\n",
      "x = [-0.41638006  0.06882741],\ty_pred = -5.0,\ty = 0\n",
      "x = [ 1.17076012 -0.31499176],\ty_pred = -5.0,\ty = 1\n",
      "x = [1.23692581 0.98538566],\ty_pred = -5.0,\ty = 0\n",
      "x = [0.18769221 1.38932861],\ty_pred = -5.0,\ty = 1\n",
      "x = [1.01499948 1.41374393],\ty_pred = -5.0,\ty = 0\n",
      "x = [1.2015507  0.89889553],\ty_pred = -5.0,\ty = 0\n",
      "x = [0.00181506 1.05680152],\ty_pred = -5.0,\ty = 1\n",
      "x = [ 1.00432665 -0.13456413],\ty_pred = -5.0,\ty = 1\n",
      "x = [-0.27180713  0.94904021],\ty_pred = -5.0,\ty = 1\n",
      "x = [-0.18300255  1.1482138 ],\ty_pred = -5.0,\ty = 1\n",
      "x = [ 1.14286545 -0.493456  ],\ty_pred = -5.0,\ty = 1\n",
      "x = [1.48677599 1.10559394],\ty_pred = -5.0,\ty = 0\n",
      "x = [1.48041444 0.95007853],\ty_pred = -5.0,\ty = 0\n",
      "x = [ 1.17878462 -0.32682277],\ty_pred = -5.0,\ty = 1\n",
      "x = [0.15580787 1.10767737],\ty_pred = -5.0,\ty = 1\n",
      "x = [ 0.14414456 -0.3404698 ],\ty_pred = -5.0,\ty = 0\n",
      "x = [ 1.35543927 -0.34088318],\ty_pred = -5.0,\ty = 1\n",
      "x = [-0.27993637  1.4842189 ],\ty_pred = -5.0,\ty = 1\n",
      "x = [ 1.47255811 -0.21048951],\ty_pred = -5.0,\ty = 1\n",
      "x = [ 1.46646376 -0.33175106],\ty_pred = -5.0,\ty = 1\n",
      "x = [-0.09804664 -0.25570868],\ty_pred = -5.0,\ty = 0\n",
      "x = [-0.46012492 -0.33983043],\ty_pred = -5.0,\ty = 0\n",
      "x = [ 1.2794468  -0.15192493],\ty_pred = -5.0,\ty = 1\n",
      "x = [ 0.9096007  -0.37769589],\ty_pred = -5.0,\ty = 1\n",
      "x = [-0.1004989  0.1977274],\ty_pred = -5.0,\ty = 0\n",
      "x = [0.07178458 1.34334405],\ty_pred = -5.0,\ty = 1\n",
      "x = [1.14409003 0.13109381],\ty_pred = -5.0,\ty = 1\n",
      "x = [1.31047263 1.02095789],\ty_pred = -5.0,\ty = 0\n",
      "x = [-0.43449603  0.92616347],\ty_pred = -5.0,\ty = 1\n",
      "x = [ 1.45698546 -0.23719562],\ty_pred = -5.0,\ty = 1\n",
      "x = [0.18095131 1.0972289 ],\ty_pred = -5.0,\ty = 1\n",
      "x = [ 1.05457909 -0.05716893],\ty_pred = -5.0,\ty = 1\n",
      "x = [ 1.49526575 -0.16618237],\ty_pred = -5.0,\ty = 1\n",
      "x = [1.44447292 1.09983465],\ty_pred = -5.0,\ty = 0\n",
      "x = [0.90904413 1.20199835],\ty_pred = -5.0,\ty = 0\n",
      "x = [1.27145211 1.08407428],\ty_pred = -5.0,\ty = 0\n",
      "x = [0.80341393 1.02773193],\ty_pred = -5.0,\ty = 0\n",
      "x = [ 1.38726146 -0.34583604],\ty_pred = -5.0,\ty = 1\n",
      "x = [-0.26290438  1.29125114],\ty_pred = -5.0,\ty = 1\n",
      "x = [1.39602814 0.99384614],\ty_pred = -5.0,\ty = 0\n",
      "x = [1.15068881 1.31073636],\ty_pred = -5.0,\ty = 0\n",
      "x = [0.9811052  1.44514584],\ty_pred = -5.0,\ty = 0\n",
      "x = [-0.02927111 -0.01923424],\ty_pred = -5.0,\ty = 0\n",
      "x = [0.99110619 1.28709392],\ty_pred = -5.0,\ty = 0\n",
      "x = [-0.04894724 -0.49633211],\ty_pred = -5.0,\ty = 0\n",
      "x = [0.80803072 0.91657635],\ty_pred = -5.0,\ty = 0\n",
      "x = [ 1.19048029 -0.04559206],\ty_pred = -5.0,\ty = 1\n",
      "x = [ 1.14473646 -0.09505029],\ty_pred = -5.0,\ty = 1\n",
      "x = [ 1.48310896 -0.10762901],\ty_pred = -5.0,\ty = 1\n",
      "x = [-0.02978915 -0.25329926],\ty_pred = -5.0,\ty = 0\n",
      "x = [1.26556914 0.95741249],\ty_pred = -5.0,\ty = 0\n",
      "x = [ 0.02312457 -0.29727808],\ty_pred = -5.0,\ty = 0\n",
      "x = [ 1.37049626 -0.20058387],\ty_pred = -5.0,\ty = 1\n",
      "x = [ 1.21007987 -0.2525256 ],\ty_pred = -5.0,\ty = 1\n",
      "x = [0.02113121 1.4446391 ],\ty_pred = -5.0,\ty = 1\n",
      "x = [-0.3501215  -0.36073645],\ty_pred = -5.0,\ty = 0\n",
      "x = [1.02305281 0.96188501],\ty_pred = -5.0,\ty = 0\n",
      "x = [1.46921371 1.19522707],\ty_pred = -5.0,\ty = 0\n",
      "x = [-0.44362933 -0.33780838],\ty_pred = -5.0,\ty = 0\n",
      "x = [1.33635736 1.29613498],\ty_pred = -5.0,\ty = 0\n",
      "x = [1.10655935 1.35566315],\ty_pred = -5.0,\ty = 0\n",
      "x = [-0.19528583  0.14641935],\ty_pred = -5.0,\ty = 0\n",
      "x = [0.88220936 1.41873775],\ty_pred = -5.0,\ty = 0\n",
      "x = [0.99291525 0.18323049],\ty_pred = -5.0,\ty = 1\n",
      "x = [1.48920585 0.93259262],\ty_pred = -5.0,\ty = 0\n",
      "x = [1.47563159 1.25690076],\ty_pred = -5.0,\ty = 0\n",
      "x = [1.46624304 1.19394638],\ty_pred = -5.0,\ty = 0\n",
      "x = [ 0.02801417 -0.35248733],\ty_pred = -5.0,\ty = 0\n",
      "x = [-0.0532469  -0.08201089],\ty_pred = -5.0,\ty = 0\n",
      "x = [-0.2931624   1.31631196],\ty_pred = -5.0,\ty = 1\n",
      "x = [0.80191506 0.84435236],\ty_pred = -5.0,\ty = 0\n",
      "x = [ 1.20898858 -0.46070127],\ty_pred = -5.0,\ty = 1\n",
      "x = [-0.22343219 -0.28994327],\ty_pred = -5.0,\ty = 0\n",
      "x = [1.41381859 1.02375508],\ty_pred = -5.0,\ty = 0\n",
      "x = [-0.24089208 -0.12851179],\ty_pred = -5.0,\ty = 0\n",
      "x = [1.01243082 1.09353261],\ty_pred = -5.0,\ty = 0\n",
      "x = [1.25222118 1.22356939],\ty_pred = -5.0,\ty = 0\n",
      "x = [-0.14445481  1.07030536],\ty_pred = -5.0,\ty = 1\n",
      "x = [-0.25005687 -0.42435427],\ty_pred = -5.0,\ty = 0\n",
      "x = [ 0.05128629 -0.42539129],\ty_pred = -5.0,\ty = 0\n",
      "x = [0.18999618 0.85034888],\ty_pred = -5.0,\ty = 1\n",
      "x = [-0.09931642  1.34631985],\ty_pred = -5.0,\ty = 1\n",
      "x = [ 0.95947812 -0.36727584],\ty_pred = -5.0,\ty = 1\n",
      "x = [1.13486028 0.01805428],\ty_pred = -5.0,\ty = 1\n",
      "x = [-0.34836795  0.03143723],\ty_pred = -5.0,\ty = 0\n",
      "x = [ 1.30000686 -0.37641568],\ty_pred = -5.0,\ty = 1\n",
      "x = [ 0.10337659 -0.48615743],\ty_pred = -5.0,\ty = 0\n",
      "x = [1.19228083 1.21843598],\ty_pred = -5.0,\ty = 0\n",
      "x = [0.93445297 0.03112285],\ty_pred = -5.0,\ty = 1\n",
      "x = [0.0018503  1.06446948],\ty_pred = -5.0,\ty = 1\n",
      "x = [ 0.87836881 -0.49734443],\ty_pred = -5.0,\ty = 1\n",
      "x = [1.24693457 0.88554866],\ty_pred = -5.0,\ty = 0\n",
      "x = [1.04093745 0.84924352],\ty_pred = -5.0,\ty = 0\n",
      "x = [1.16803283 0.04637069],\ty_pred = -5.0,\ty = 1\n",
      "x = [1.2308305  0.03922577],\ty_pred = -5.0,\ty = 1\n",
      "x = [ 1.01197996 -0.01188439],\ty_pred = -5.0,\ty = 1\n",
      "x = [-0.497821    0.84994953],\ty_pred = -5.0,\ty = 1\n",
      "x = [ 0.12749162 -0.332479  ],\ty_pred = -5.0,\ty = 0\n",
      "x = [ 0.8710226  -0.34580121],\ty_pred = -5.0,\ty = 1\n",
      "x = [1.04650875 0.11811996],\ty_pred = -5.0,\ty = 1\n",
      "x = [-0.40315172  1.05703463],\ty_pred = -5.0,\ty = 1\n",
      "x = [1.0317101  1.26179686],\ty_pred = -5.0,\ty = 0\n",
      "x = [ 1.12658044 -0.20155629],\ty_pred = -5.0,\ty = 1\n",
      "x = [ 0.98876919 -0.02751988],\ty_pred = -5.0,\ty = 1\n",
      "x = [-0.34496256  1.18621658],\ty_pred = -5.0,\ty = 1\n",
      "x = [0.93175359 0.92127099],\ty_pred = -5.0,\ty = 0\n",
      "x = [ 1.21096869 -0.18012401],\ty_pred = -5.0,\ty = 1\n",
      "x = [0.8986006  0.86745099],\ty_pred = -5.0,\ty = 0\n",
      "x = [-0.19691295  0.13651839],\ty_pred = -5.0,\ty = 0\n",
      "x = [1.16142123 0.03674221],\ty_pred = -5.0,\ty = 1\n",
      "x = [-0.09870941  0.1599338 ],\ty_pred = -5.0,\ty = 0\n",
      "x = [-0.13749797 -0.36387393],\ty_pred = -5.0,\ty = 0\n",
      "x = [0.09355757 1.13713745],\ty_pred = -5.0,\ty = 1\n",
      "x = [-0.00949177 -0.12181734],\ty_pred = -5.0,\ty = 0\n",
      "x = [0.1641854  1.07644409],\ty_pred = -5.0,\ty = 1\n",
      "x = [ 0.90972613 -0.4455998 ],\ty_pred = -5.0,\ty = 1\n",
      "x = [1.03098126 1.25093698],\ty_pred = -5.0,\ty = 0\n",
      "x = [1.19581892 0.075911  ],\ty_pred = -5.0,\ty = 1\n",
      "x = [-0.32097836  1.24253466],\ty_pred = -5.0,\ty = 1\n",
      "x = [-0.1654966  -0.40596297],\ty_pred = -5.0,\ty = 0\n",
      "x = [1.43523124 1.34780668],\ty_pred = -5.0,\ty = 0\n",
      "x = [1.23770366 0.09969175],\ty_pred = -5.0,\ty = 1\n",
      "x = [-0.20699538  1.25595575],\ty_pred = -5.0,\ty = 1\n",
      "x = [1.44165508 1.19276916],\ty_pred = -5.0,\ty = 0\n",
      "x = [0.98188378 1.03365822],\ty_pred = -5.0,\ty = 0\n",
      "x = [ 1.49843366 -0.49013539],\ty_pred = -5.0,\ty = 1\n",
      "x = [ 1.37113467 -0.10485118],\ty_pred = -5.0,\ty = 1\n",
      "x = [ 0.05620485 -0.14504405],\ty_pred = -5.0,\ty = 0\n",
      "x = [ 0.05427473 -0.01296505],\ty_pred = -5.0,\ty = 0\n",
      "x = [1.12363478 1.47245969],\ty_pred = -5.0,\ty = 0\n",
      "x = [-0.2151546   0.18265564],\ty_pred = -5.0,\ty = 0\n",
      "x = [1.09924447 1.08074781],\ty_pred = -5.0,\ty = 0\n",
      "x = [ 1.3490044  -0.24974218],\ty_pred = -5.0,\ty = 1\n",
      "x = [-0.26880614  1.08867483],\ty_pred = -5.0,\ty = 1\n",
      "x = [-0.29329784  1.27792701],\ty_pred = -5.0,\ty = 1\n",
      "x = [-0.15845496  1.21833385],\ty_pred = -5.0,\ty = 1\n",
      "x = [0.1218705  0.93607651],\ty_pred = -5.0,\ty = 1\n",
      "x = [-0.09025608  0.12874353],\ty_pred = -5.0,\ty = 0\n",
      "x = [-0.18771795  0.9742287 ],\ty_pred = -5.0,\ty = 1\n",
      "x = [-0.0222824  -0.34025599],\ty_pred = -5.0,\ty = 0\n",
      "x = [-0.49036274  1.30496899],\ty_pred = -5.0,\ty = 1\n",
      "x = [1.1245716  1.08339393],\ty_pred = -5.0,\ty = 0\n",
      "x = [ 1.01560663 -0.37768458],\ty_pred = -5.0,\ty = 1\n",
      "x = [0.86475235 1.25211837],\ty_pred = -5.0,\ty = 0\n",
      "x = [ 0.00173957 -0.01048466],\ty_pred = -5.0,\ty = 0\n",
      "x = [0.802202   1.10677712],\ty_pred = -5.0,\ty = 0\n",
      "x = [0.88578736 1.16862653],\ty_pred = -5.0,\ty = 0\n",
      "x = [-0.20274562  1.14949391],\ty_pred = -5.0,\ty = 1\n",
      "x = [-0.25128446 -0.45964163],\ty_pred = -5.0,\ty = 0\n",
      "x = [ 1.47774101 -0.00487838],\ty_pred = -5.0,\ty = 1\n",
      "x = [-0.3810415   1.17173315],\ty_pred = -5.0,\ty = 1\n",
      "x = [-0.14007747  0.11273291],\ty_pred = -5.0,\ty = 0\n",
      "x = [-0.19974737  1.05236841],\ty_pred = -5.0,\ty = 1\n",
      "x = [-0.31668372  1.33609569],\ty_pred = -5.0,\ty = 1\n",
      "x = [-0.07508918 -0.39817407],\ty_pred = -5.0,\ty = 0\n",
      "x = [-0.14327069  1.18109271],\ty_pred = -5.0,\ty = 1\n",
      "x = [ 0.10175567 -0.02988113],\ty_pred = -5.0,\ty = 0\n",
      "x = [ 1.3432568  -0.41267409],\ty_pred = -5.0,\ty = 1\n",
      "x = [-0.17058848  0.19060095],\ty_pred = -5.0,\ty = 0\n",
      "x = [ 0.16380942 -0.04844005],\ty_pred = -5.0,\ty = 0\n",
      "x = [1.2840419  1.17240963],\ty_pred = -5.0,\ty = 0\n",
      "x = [-0.10403652 -0.17193391],\ty_pred = -5.0,\ty = 0\n",
      "x = [ 0.96484843 -0.08051117],\ty_pred = -5.0,\ty = 1\n",
      "x = [0.09497892 0.02578473],\ty_pred = -5.0,\ty = 0\n",
      "x = [-0.09444762  0.84978749],\ty_pred = -5.0,\ty = 1\n",
      "x = [1.33311462 0.99938336],\ty_pred = -5.0,\ty = 0\n",
      "x = [-0.46290382  0.80140021],\ty_pred = -5.0,\ty = 1\n",
      "x = [-0.20407314  0.89491793],\ty_pred = -5.0,\ty = 1\n",
      "x = [-0.06343071  1.11171952],\ty_pred = -5.0,\ty = 1\n",
      "x = [-0.00753647  1.11051443],\ty_pred = -5.0,\ty = 1\n",
      "x = [ 1.29609736 -0.36826402],\ty_pred = -5.0,\ty = 1\n",
      "x = [0.02290338 0.856302  ],\ty_pred = -5.0,\ty = 1\n",
      "x = [ 0.97215963 -0.15846934],\ty_pred = -5.0,\ty = 1\n",
      "x = [1.28434206 0.98760531],\ty_pred = -5.0,\ty = 0\n",
      "x = [1.29438427 1.26294229],\ty_pred = -5.0,\ty = 0\n",
      "x = [0.83030311 1.05304131],\ty_pred = -5.0,\ty = 0\n",
      "x = [1.41906888 1.45160781],\ty_pred = -5.0,\ty = 0\n",
      "x = [0.04208709 0.88216432],\ty_pred = -5.0,\ty = 1\n",
      "x = [0.12239176 1.29529196],\ty_pred = -5.0,\ty = 1\n",
      "x = [-0.32813692  0.13771347],\ty_pred = -5.0,\ty = 0\n",
      "x = [ 1.3439134  -0.45914615],\ty_pred = -5.0,\ty = 1\n",
      "x = [-0.13830555  1.00123101],\ty_pred = -5.0,\ty = 1\n",
      "x = [1.49882173 1.37015393],\ty_pred = -5.0,\ty = 0\n",
      "x = [-0.05832856  0.18664657],\ty_pred = -5.0,\ty = 0\n",
      "x = [1.31275078 1.45012285],\ty_pred = -5.0,\ty = 0\n",
      "x = [0.92012749 1.0063845 ],\ty_pred = -5.0,\ty = 0\n",
      "x = [0.86561567 1.02258672],\ty_pred = -5.0,\ty = 0\n",
      "x = [1.13006396 1.30236829],\ty_pred = -5.0,\ty = 0\n",
      "x = [-0.1660909  -0.18578481],\ty_pred = -5.0,\ty = 0\n",
      "x = [1.06538582 1.10665701],\ty_pred = -5.0,\ty = 0\n",
      "x = [ 1.0954886  -0.31177558],\ty_pred = -5.0,\ty = 1\n",
      "x = [-0.48197256 -0.29619224],\ty_pred = -5.0,\ty = 0\n",
      "x = [-0.14754334  0.17615315],\ty_pred = -5.0,\ty = 0\n",
      "x = [-0.42343196  0.98164462],\ty_pred = -5.0,\ty = 1\n",
      "x = [-0.15004734  0.04396876],\ty_pred = -5.0,\ty = 0\n",
      "x = [0.89317675 0.05787358],\ty_pred = -5.0,\ty = 1\n",
      "x = [-0.36582698  1.22320012],\ty_pred = -5.0,\ty = 1\n",
      "x = [-0.2967914   1.37243004],\ty_pred = -5.0,\ty = 1\n",
      "x = [-0.45035712 -0.39317721],\ty_pred = -5.0,\ty = 0\n",
      "x = [-0.48839688 -0.42034255],\ty_pred = -5.0,\ty = 0\n",
      "x = [-0.04374751 -0.2181402 ],\ty_pred = -5.0,\ty = 0\n",
      "x = [-0.27528158 -0.1094616 ],\ty_pred = -5.0,\ty = 0\n",
      "x = [1.25511409 0.86299657],\ty_pred = -5.0,\ty = 0\n",
      "x = [0.90281307 1.0909002 ],\ty_pred = -5.0,\ty = 0\n",
      "x = [-0.47218991 -0.45076659],\ty_pred = -5.0,\ty = 0\n",
      "x = [-0.1681956   1.14856217],\ty_pred = -5.0,\ty = 1\n",
      "x = [0.98709083 1.42304011],\ty_pred = -5.0,\ty = 0\n",
      "x = [-0.32249278  1.35930525],\ty_pred = -5.0,\ty = 1\n",
      "x = [1.12190016 1.21832605],\ty_pred = -5.0,\ty = 0\n",
      "x = [-0.4000447   1.19178055],\ty_pred = -5.0,\ty = 1\n",
      "x = [ 0.10913422 -0.33419191],\ty_pred = -5.0,\ty = 0\n",
      "x = [-0.22979719 -0.09992054],\ty_pred = -5.0,\ty = 0\n",
      "x = [-0.13193862 -0.44678328],\ty_pred = -5.0,\ty = 0\n",
      "x = [1.351059   1.09292498],\ty_pred = -5.0,\ty = 0\n",
      "x = [ 1.14773624 -0.30133872],\ty_pred = -5.0,\ty = 1\n",
      "x = [1.37376602 1.20692398],\ty_pred = -5.0,\ty = 0\n",
      "x = [-0.11173288  0.91241078],\ty_pred = -5.0,\ty = 1\n",
      "x = [-0.28180796  1.41826298],\ty_pred = -5.0,\ty = 1\n",
      "x = [-0.27193302  0.12287914],\ty_pred = -5.0,\ty = 0\n",
      "x = [0.0261954  0.84443288],\ty_pred = -5.0,\ty = 1\n",
      "x = [1.17471013 1.25817891],\ty_pred = -5.0,\ty = 0\n",
      "x = [-0.47096744 -0.27471984],\ty_pred = -5.0,\ty = 0\n",
      "x = [-0.03075498 -0.19866975],\ty_pred = -5.0,\ty = 0\n",
      "x = [0.03745228 1.03390628],\ty_pred = -5.0,\ty = 1\n",
      "x = [ 1.12531231 -0.40564482],\ty_pred = -5.0,\ty = 1\n",
      "x = [ 1.30925272 -0.26503534],\ty_pred = -5.0,\ty = 1\n",
      "x = [ 1.35368292 -0.07641825],\ty_pred = -5.0,\ty = 1\n",
      "x = [0.87638983 0.09339033],\ty_pred = -5.0,\ty = 1\n",
      "x = [-0.18215866  1.25877276],\ty_pred = -5.0,\ty = 1\n",
      "x = [1.46488024 1.3289433 ],\ty_pred = -5.0,\ty = 0\n",
      "x = [0.07610213 0.81433687],\ty_pred = -5.0,\ty = 1\n",
      "x = [1.03442218 1.49501331],\ty_pred = -5.0,\ty = 0\n",
      "x = [1.01898222 1.31625546],\ty_pred = -5.0,\ty = 0\n",
      "x = [ 0.1046804  -0.44286321],\ty_pred = -5.0,\ty = 0\n",
      "x = [0.04101992 0.84612564],\ty_pred = -5.0,\ty = 1\n",
      "x = [ 0.96535943 -0.15949148],\ty_pred = -5.0,\ty = 1\n",
      "x = [-0.33241227  1.29935848],\ty_pred = -5.0,\ty = 1\n",
      "x = [0.16072484 0.91515091],\ty_pred = -5.0,\ty = 1\n",
      "x = [1.41634819 1.35564819],\ty_pred = -5.0,\ty = 0\n",
      "x = [0.8268712  1.41551059],\ty_pred = -5.0,\ty = 0\n",
      "x = [-0.33492975  0.15857957],\ty_pred = -5.0,\ty = 0\n",
      "x = [-0.02104736 -0.45456189],\ty_pred = -5.0,\ty = 0\n",
      "x = [ 0.1092974  -0.00903379],\ty_pred = -5.0,\ty = 0\n",
      "x = [1.27854623 1.0786082 ],\ty_pred = -5.0,\ty = 0\n",
      "x = [-0.32259267  1.00286234],\ty_pred = -5.0,\ty = 1\n",
      "x = [ 0.07023343 -0.46212044],\ty_pred = -5.0,\ty = 0\n",
      "x = [-0.06715789  1.22111954],\ty_pred = -5.0,\ty = 1\n",
      "x = [ 1.31134207 -0.293445  ],\ty_pred = -5.0,\ty = 1\n",
      "x = [0.97844651 0.82946423],\ty_pred = -5.0,\ty = 0\n",
      "x = [1.15000868 0.12788955],\ty_pred = -5.0,\ty = 1\n",
      "x = [-0.35763342  1.10861533],\ty_pred = -5.0,\ty = 1\n",
      "x = [0.80335049 1.22902203],\ty_pred = -5.0,\ty = 0\n",
      "x = [0.91175396 0.0985292 ],\ty_pred = -5.0,\ty = 1\n",
      "x = [-0.10261677 -0.41942787],\ty_pred = -5.0,\ty = 0\n",
      "x = [ 1.14318897 -0.08281233],\ty_pred = -5.0,\ty = 1\n",
      "x = [-0.33238763  1.14927068],\ty_pred = -5.0,\ty = 1\n",
      "x = [1.34362954 1.48684712],\ty_pred = -5.0,\ty = 0\n",
      "x = [1.27136441 0.17449696],\ty_pred = -5.0,\ty = 1\n",
      "x = [-0.0807103   1.37947066],\ty_pred = -5.0,\ty = 1\n",
      "x = [-0.45857595  1.14490458],\ty_pred = -5.0,\ty = 1\n",
      "x = [0.16374665 0.80006787],\ty_pred = -5.0,\ty = 1\n",
      "x = [ 0.14232444 -0.08814287],\ty_pred = -5.0,\ty = 0\n",
      "x = [0.0986332  1.36019733],\ty_pred = -5.0,\ty = 1\n",
      "x = [0.07580471 1.14472759],\ty_pred = -5.0,\ty = 1\n",
      "x = [ 1.36790362 -0.41393166],\ty_pred = -5.0,\ty = 1\n",
      "x = [ 0.00491234 -0.19175704],\ty_pred = -5.0,\ty = 0\n",
      "x = [-0.411285   -0.08712345],\ty_pred = -5.0,\ty = 0\n",
      "x = [ 1.49340921 -0.35987252],\ty_pred = -5.0,\ty = 1\n",
      "x = [0.05181083 0.95440286],\ty_pred = -5.0,\ty = 1\n",
      "x = [1.42131215 1.34618173],\ty_pred = -5.0,\ty = 0\n",
      "x = [0.87634547 1.39535245],\ty_pred = -5.0,\ty = 0\n",
      "x = [0.87671902 1.30414542],\ty_pred = -5.0,\ty = 0\n",
      "x = [-0.28629819  0.86076587],\ty_pred = -5.0,\ty = 1\n",
      "x = [-0.01290771  1.05869715],\ty_pred = -5.0,\ty = 1\n",
      "x = [0.17975832 0.02714946],\ty_pred = -5.0,\ty = 0\n",
      "x = [1.37213686 0.82948971],\ty_pred = -5.0,\ty = 0\n",
      "x = [1.06129451 1.36853088],\ty_pred = -5.0,\ty = 0\n",
      "x = [-0.18588392  0.98322573],\ty_pred = -5.0,\ty = 1\n",
      "x = [-0.02284826 -0.01199603],\ty_pred = -5.0,\ty = 0\n",
      "x = [-0.06697948  1.25934058],\ty_pred = -5.0,\ty = 1\n",
      "x = [0.95446769 0.04673208],\ty_pred = -5.0,\ty = 1\n",
      "x = [ 0.13287209 -0.33636192],\ty_pred = -5.0,\ty = 0\n",
      "x = [0.84938396 0.97007488],\ty_pred = -5.0,\ty = 0\n",
      "x = [1.40958603 0.07083385],\ty_pred = -5.0,\ty = 1\n",
      "x = [ 1.19390542 -0.43039161],\ty_pred = -5.0,\ty = 1\n",
      "x = [-0.36430656  0.07452255],\ty_pred = -5.0,\ty = 0\n",
      "x = [0.98235946 0.87581305],\ty_pred = -5.0,\ty = 0\n",
      "x = [ 0.83916008 -0.43827842],\ty_pred = -5.0,\ty = 1\n",
      "x = [-0.33544565 -0.17687854],\ty_pred = -5.0,\ty = 0\n",
      "x = [-0.36098595 -0.48216663],\ty_pred = -5.0,\ty = 0\n",
      "x = [1.29164683 0.96144863],\ty_pred = -5.0,\ty = 0\n",
      "x = [-0.20009027  1.15114604],\ty_pred = -5.0,\ty = 1\n",
      "x = [1.29375818 1.11268845],\ty_pred = -5.0,\ty = 0\n",
      "x = [ 1.15415843 -0.12931737],\ty_pred = -5.0,\ty = 1\n",
      "x = [ 1.1425165  -0.28650422],\ty_pred = -5.0,\ty = 1\n",
      "x = [0.89974709 1.10334528],\ty_pred = -5.0,\ty = 0\n",
      "x = [0.12945466 1.31898729],\ty_pred = -5.0,\ty = 1\n",
      "x = [-0.05524033  0.09345163],\ty_pred = -5.0,\ty = 0\n",
      "x = [ 0.88956722 -0.06023228],\ty_pred = -5.0,\ty = 1\n",
      "x = [ 0.16941106 -0.08705381],\ty_pred = -5.0,\ty = 0\n",
      "x = [0.96272067 0.92773983],\ty_pred = -5.0,\ty = 0\n",
      "x = [-0.2642778   0.19436151],\ty_pred = -5.0,\ty = 0\n",
      "x = [1.40206144 1.01584149],\ty_pred = -5.0,\ty = 0\n",
      "x = [-0.13683702  1.11766293],\ty_pred = -5.0,\ty = 1\n",
      "x = [1.17659134 1.00600175],\ty_pred = -5.0,\ty = 0\n",
      "x = [-0.21025611  0.19364094],\ty_pred = -5.0,\ty = 0\n",
      "x = [ 0.15096894 -0.39553478],\ty_pred = -5.0,\ty = 0\n",
      "x = [-0.22358242  1.40183415],\ty_pred = -5.0,\ty = 1\n",
      "x = [1.14484831 0.04625447],\ty_pred = -5.0,\ty = 1\n",
      "x = [-0.15896426  1.36582888],\ty_pred = -5.0,\ty = 1\n",
      "x = [-0.31660021  1.03151024],\ty_pred = -5.0,\ty = 1\n",
      "x = [-0.48440994  0.07478533],\ty_pred = -5.0,\ty = 0\n",
      "x = [-0.36807212 -0.01997017],\ty_pred = -5.0,\ty = 0\n",
      "x = [0.82571784 0.18194884],\ty_pred = -5.0,\ty = 1\n",
      "x = [0.12260973 0.83759948],\ty_pred = -5.0,\ty = 1\n",
      "x = [1.32867377 1.27885867],\ty_pred = -5.0,\ty = 0\n",
      "x = [-0.35759632  0.12742579],\ty_pred = -5.0,\ty = 0\n",
      "x = [ 0.95586617 -0.00979739],\ty_pred = -5.0,\ty = 1\n",
      "x = [0.95462184 0.0789952 ],\ty_pred = -5.0,\ty = 1\n",
      "x = [ 1.19757518 -0.24555792],\ty_pred = -5.0,\ty = 1\n",
      "x = [-0.30707783  0.14731857],\ty_pred = -5.0,\ty = 0\n",
      "x = [ 1.05421382 -0.15498339],\ty_pred = -5.0,\ty = 1\n",
      "x = [1.2868581  1.05881785],\ty_pred = -5.0,\ty = 0\n",
      "x = [1.2701383  0.98557679],\ty_pred = -5.0,\ty = 0\n",
      "x = [-0.41726516  0.08589845],\ty_pred = -5.0,\ty = 0\n",
      "x = [1.43139622 1.25621826],\ty_pred = -5.0,\ty = 0\n",
      "x = [1.30632339 0.87181057],\ty_pred = -5.0,\ty = 0\n",
      "x = [1.25280007 1.00141459],\ty_pred = -5.0,\ty = 0\n",
      "x = [ 0.8803674  -0.08602897],\ty_pred = -5.0,\ty = 1\n",
      "x = [-0.41130063  1.34932846],\ty_pred = -5.0,\ty = 1\n",
      "x = [-0.44446089 -0.28799919],\ty_pred = -5.0,\ty = 0\n",
      "x = [ 1.28814258 -0.06948899],\ty_pred = -5.0,\ty = 1\n",
      "x = [-0.02931223 -0.49413184],\ty_pred = -5.0,\ty = 0\n",
      "x = [-0.02513612  0.82155917],\ty_pred = -5.0,\ty = 1\n",
      "x = [ 1.21681896 -0.37757244],\ty_pred = -5.0,\ty = 1\n",
      "x = [-0.37051192  1.02599743],\ty_pred = -5.0,\ty = 1\n",
      "x = [-0.11748179  0.07150968],\ty_pred = -5.0,\ty = 0\n",
      "x = [1.0056912  1.41931584],\ty_pred = -5.0,\ty = 0\n",
      "x = [ 1.41851446 -0.42983575],\ty_pred = -5.0,\ty = 1\n",
      "x = [-0.12409502 -0.24381166],\ty_pred = -5.0,\ty = 0\n",
      "x = [-0.07698521  0.17116176],\ty_pred = -5.0,\ty = 0\n",
      "x = [1.42986215 1.34819203],\ty_pred = -5.0,\ty = 0\n",
      "x = [-0.18454971  1.42209003],\ty_pred = -5.0,\ty = 1\n",
      "x = [-0.01725242 -0.08082538],\ty_pred = -5.0,\ty = 0\n",
      "x = [0.02266023 1.40899134],\ty_pred = -5.0,\ty = 1\n",
      "x = [0.10383169 0.87477376],\ty_pred = -5.0,\ty = 1\n",
      "x = [-0.31580268 -0.4498728 ],\ty_pred = -5.0,\ty = 0\n",
      "x = [ 0.18507096 -0.33453113],\ty_pred = -5.0,\ty = 0\n",
      "x = [-0.03758115  1.39734472],\ty_pred = -5.0,\ty = 1\n",
      "x = [-0.35246034 -0.14802293],\ty_pred = -5.0,\ty = 0\n",
      "x = [ 1.41838256 -0.01261094],\ty_pred = -5.0,\ty = 1\n",
      "x = [ 1.17978146 -0.0188878 ],\ty_pred = -5.0,\ty = 1\n",
      "x = [ 1.25330781 -0.24934406],\ty_pred = -5.0,\ty = 1\n",
      "x = [1.22057923 0.15501539],\ty_pred = -5.0,\ty = 1\n",
      "x = [1.31249489 1.09070404],\ty_pred = -5.0,\ty = 0\n",
      "x = [1.20679692 0.01772837],\ty_pred = -5.0,\ty = 1\n",
      "x = [-0.13720289 -0.49627843],\ty_pred = -5.0,\ty = 0\n",
      "x = [0.9423344  1.08546907],\ty_pred = -5.0,\ty = 0\n",
      "x = [1.29732243 1.08073933],\ty_pred = -5.0,\ty = 0\n",
      "x = [-0.04529186  0.15201291],\ty_pred = -5.0,\ty = 0\n",
      "x = [1.24734473 1.49762197],\ty_pred = -5.0,\ty = 0\n",
      "x = [0.14346625 0.97139385],\ty_pred = -5.0,\ty = 1\n",
      "x = [-0.08018176  0.0830777 ],\ty_pred = -5.0,\ty = 0\n",
      "x = [0.12723044 1.41716167],\ty_pred = -5.0,\ty = 1\n",
      "x = [1.14403567 1.16831848],\ty_pred = -5.0,\ty = 0\n",
      "x = [-0.45062057 -0.44857334],\ty_pred = -5.0,\ty = 0\n",
      "x = [1.43160919 1.15836336],\ty_pred = -5.0,\ty = 0\n",
      "x = [1.25932167 0.13771258],\ty_pred = -5.0,\ty = 1\n",
      "x = [ 1.27980798 -0.48185195],\ty_pred = -5.0,\ty = 1\n",
      "x = [1.20141656 1.2018416 ],\ty_pred = -5.0,\ty = 0\n",
      "x = [-0.47972367  0.11927733],\ty_pred = -5.0,\ty = 0\n",
      "x = [0.03970375 1.36863598],\ty_pred = -5.0,\ty = 1\n",
      "x = [0.05759101 1.36539547],\ty_pred = -5.0,\ty = 1\n",
      "x = [1.38049602 0.14967635],\ty_pred = -5.0,\ty = 1\n",
      "x = [ 1.48255269 -0.23907584],\ty_pred = -5.0,\ty = 1\n",
      "x = [-0.0027518   1.38486773],\ty_pred = -5.0,\ty = 1\n",
      "x = [1.40518546 1.18043753],\ty_pred = -5.0,\ty = 0\n",
      "x = [1.1449108  0.15324164],\ty_pred = -5.0,\ty = 1\n",
      "x = [0.84355763 0.10204674],\ty_pred = -5.0,\ty = 1\n",
      "x = [-0.47349619 -0.45969155],\ty_pred = -5.0,\ty = 0\n",
      "x = [ 1.32517077 -0.29429626],\ty_pred = -5.0,\ty = 1\n",
      "x = [-0.25078846  0.81737892],\ty_pred = -5.0,\ty = 1\n",
      "x = [-0.16613435  1.28301052],\ty_pred = -5.0,\ty = 1\n",
      "x = [1.33518366 1.00527443],\ty_pred = -5.0,\ty = 0\n",
      "x = [1.23544839 0.0909749 ],\ty_pred = -5.0,\ty = 1\n",
      "x = [ 1.32548326 -0.23271032],\ty_pred = -5.0,\ty = 1\n",
      "x = [1.16365445 0.84594439],\ty_pred = -5.0,\ty = 0\n",
      "x = [0.92582686 0.14575315],\ty_pred = -5.0,\ty = 1\n",
      "x = [1.3128855 0.1158055],\ty_pred = -5.0,\ty = 1\n",
      "x = [ 0.82944244 -0.35256028],\ty_pred = -5.0,\ty = 1\n",
      "x = [-0.25841886  1.20960967],\ty_pred = -5.0,\ty = 1\n",
      "x = [1.35293465 1.43184427],\ty_pred = -5.0,\ty = 0\n",
      "x = [ 0.84252552 -0.36196256],\ty_pred = -5.0,\ty = 1\n",
      "x = [-0.01628086  1.12560607],\ty_pred = -5.0,\ty = 1\n",
      "x = [ 0.86402756 -0.32875615],\ty_pred = -5.0,\ty = 1\n",
      "x = [-0.13866108  1.33460402],\ty_pred = -5.0,\ty = 1\n",
      "x = [0.18888858 1.31465089],\ty_pred = -5.0,\ty = 1\n",
      "x = [-0.32301096  0.91799598],\ty_pred = -5.0,\ty = 1\n",
      "x = [0.80735981 0.9043889 ],\ty_pred = -5.0,\ty = 0\n",
      "x = [-0.15686328 -0.4681625 ],\ty_pred = -5.0,\ty = 0\n",
      "x = [ 1.05975418 -0.0520178 ],\ty_pred = -5.0,\ty = 1\n",
      "x = [-0.29371557 -0.31124171],\ty_pred = -5.0,\ty = 0\n",
      "x = [ 0.86118512 -0.23362615],\ty_pred = -5.0,\ty = 1\n",
      "x = [ 1.08271855 -0.15271323],\ty_pred = -5.0,\ty = 1\n",
      "x = [0.86411636 0.99157411],\ty_pred = -5.0,\ty = 0\n",
      "x = [0.15320903 0.97216104],\ty_pred = -5.0,\ty = 1\n",
      "x = [-0.30151884 -0.30775603],\ty_pred = -5.0,\ty = 0\n",
      "x = [-0.1139979   1.42955797],\ty_pred = -5.0,\ty = 1\n",
      "x = [0.84743958 1.27649163],\ty_pred = -5.0,\ty = 0\n",
      "x = [ 1.4803987  -0.15432274],\ty_pred = -5.0,\ty = 1\n",
      "x = [ 0.17474244 -0.04854083],\ty_pred = -5.0,\ty = 0\n",
      "x = [ 1.05119222 -0.05736909],\ty_pred = -5.0,\ty = 1\n",
      "x = [ 1.44448612 -0.15509418],\ty_pred = -5.0,\ty = 1\n",
      "x = [-0.17440624  0.06472277],\ty_pred = -5.0,\ty = 0\n",
      "x = [-0.32033731  1.11574816],\ty_pred = -5.0,\ty = 1\n",
      "x = [ 1.2478997  -0.01948961],\ty_pred = -5.0,\ty = 1\n",
      "x = [ 1.16981048 -0.37579932],\ty_pred = -5.0,\ty = 1\n",
      "x = [1.17714369 1.2961328 ],\ty_pred = -5.0,\ty = 0\n",
      "x = [-0.45941693 -0.40282844],\ty_pred = -5.0,\ty = 0\n",
      "x = [1.41541953 0.86848744],\ty_pred = -5.0,\ty = 0\n",
      "x = [0.85498167 0.90858366],\ty_pred = -5.0,\ty = 0\n",
      "x = [-0.31414159  1.25078929],\ty_pred = -5.0,\ty = 1\n",
      "x = [-0.02785081  0.82632381],\ty_pred = -5.0,\ty = 1\n",
      "x = [1.28516604 1.26798551],\ty_pred = -5.0,\ty = 0\n",
      "x = [-0.3979502  -0.32858355],\ty_pred = -5.0,\ty = 0\n",
      "x = [1.29895484 0.87273078],\ty_pred = -5.0,\ty = 0\n",
      "x = [0.83963845 1.27655722],\ty_pred = -5.0,\ty = 0\n",
      "x = [-0.43826795  0.83100936],\ty_pred = -5.0,\ty = 1\n",
      "x = [-0.41571939  1.12578736],\ty_pred = -5.0,\ty = 1\n",
      "x = [-0.10991224  1.49453946],\ty_pred = -5.0,\ty = 1\n",
      "x = [1.3566721 1.4105699],\ty_pred = -5.0,\ty = 0\n",
      "x = [1.01997919 0.10794168],\ty_pred = -5.0,\ty = 1\n",
      "x = [ 1.09025775 -0.18231903],\ty_pred = -5.0,\ty = 1\n",
      "x = [0.80458981 1.02121642],\ty_pred = -5.0,\ty = 0\n",
      "x = [1.44652831 1.09167914],\ty_pred = -5.0,\ty = 0\n",
      "x = [-0.14595443  1.39167257],\ty_pred = -5.0,\ty = 1\n",
      "x = [1.01486491 1.44090882],\ty_pred = -5.0,\ty = 0\n",
      "x = [0.1789094  0.01935767],\ty_pred = -5.0,\ty = 0\n",
      "x = [ 1.22201199 -0.44347226],\ty_pred = -5.0,\ty = 1\n",
      "x = [-0.44152606  0.95776982],\ty_pred = -5.0,\ty = 1\n",
      "x = [-0.34285456  1.08807364],\ty_pred = -5.0,\ty = 1\n",
      "x = [ 1.13371384 -0.03366834],\ty_pred = -5.0,\ty = 1\n",
      "x = [-0.42453027  1.15214553],\ty_pred = -5.0,\ty = 1\n",
      "x = [ 1.36920336 -0.21318812],\ty_pred = -5.0,\ty = 1\n",
      "x = [ 1.02515551 -0.24025524],\ty_pred = -5.0,\ty = 1\n",
      "x = [ 1.45410772 -0.36728882],\ty_pred = -5.0,\ty = 1\n",
      "x = [1.31956435 0.16489247],\ty_pred = -5.0,\ty = 1\n",
      "x = [0.17310078 1.19089254],\ty_pred = -5.0,\ty = 1\n",
      "x = [-0.2155981  1.1190228],\ty_pred = -5.0,\ty = 1\n",
      "x = [ 1.40530951 -0.32177947],\ty_pred = -5.0,\ty = 1\n",
      "x = [0.03633186 0.15870929],\ty_pred = -5.0,\ty = 0\n",
      "x = [0.97716035 0.8323739 ],\ty_pred = -5.0,\ty = 0\n",
      "x = [0.86781476 0.09032625],\ty_pred = -5.0,\ty = 1\n",
      "x = [1.38472457 0.12459175],\ty_pred = -5.0,\ty = 1\n",
      "x = [-0.48060178  1.47830548],\ty_pred = -5.0,\ty = 1\n",
      "x = [0.98702825 1.23667085],\ty_pred = -5.0,\ty = 0\n",
      "x = [1.30034574 1.02887019],\ty_pred = -5.0,\ty = 0\n",
      "x = [1.1031886  1.31408619],\ty_pred = -5.0,\ty = 0\n",
      "x = [-0.07479067 -0.04441812],\ty_pred = -5.0,\ty = 0\n",
      "x = [1.01489048 0.90504598],\ty_pred = -5.0,\ty = 0\n",
      "x = [-0.03767959  1.44118882],\ty_pred = -5.0,\ty = 1\n",
      "x = [1.04212539 0.17662874],\ty_pred = -5.0,\ty = 1\n",
      "x = [1.18303914 1.11525028],\ty_pred = -5.0,\ty = 0\n",
      "x = [ 1.20242271 -0.14406259],\ty_pred = -5.0,\ty = 1\n",
      "x = [ 1.05473024 -0.01530988],\ty_pred = -5.0,\ty = 1\n",
      "x = [1.22251041 0.96408555],\ty_pred = -5.0,\ty = 0\n",
      "x = [-0.11259641 -0.44063872],\ty_pred = -5.0,\ty = 0\n",
      "x = [-0.35827588  0.09796658],\ty_pred = -5.0,\ty = 0\n",
      "x = [-0.2695978   1.43076586],\ty_pred = -5.0,\ty = 1\n",
      "x = [1.20526587 0.09193047],\ty_pred = -5.0,\ty = 1\n",
      "x = [ 0.19067421 -0.45340044],\ty_pred = -5.0,\ty = 0\n",
      "x = [-0.04429467  1.05341622],\ty_pred = -5.0,\ty = 1\n",
      "x = [1.10769791 0.13823422],\ty_pred = -5.0,\ty = 1\n",
      "x = [ 1.07899917 -0.07051498],\ty_pred = -5.0,\ty = 1\n",
      "x = [1.20465599 1.41138891],\ty_pred = -5.0,\ty = 0\n",
      "x = [0.02531748 0.02576287],\ty_pred = -5.0,\ty = 0\n",
      "x = [-0.35179507  0.08110957],\ty_pred = -5.0,\ty = 0\n",
      "x = [1.49728494 0.90619379],\ty_pred = -5.0,\ty = 0\n",
      "x = [0.13205513 1.48154062],\ty_pred = -5.0,\ty = 1\n",
      "x = [1.32589015 1.42288895],\ty_pred = -5.0,\ty = 0\n",
      "x = [1.08941729 0.04481062],\ty_pred = -5.0,\ty = 1\n",
      "x = [ 1.1678294  -0.33090911],\ty_pred = -5.0,\ty = 1\n",
      "x = [0.11534648 1.15755119],\ty_pred = -5.0,\ty = 1\n",
      "x = [-0.07620459  1.11184098],\ty_pred = -5.0,\ty = 1\n",
      "x = [-0.28209274  0.05928099],\ty_pred = -5.0,\ty = 0\n",
      "x = [0.95777505 0.10199901],\ty_pred = -5.0,\ty = 1\n",
      "x = [-0.31947491  0.15411184],\ty_pred = -5.0,\ty = 0\n",
      "x = [-0.06661626  0.18981144],\ty_pred = -5.0,\ty = 0\n",
      "x = [-0.47714929  0.00761666],\ty_pred = -5.0,\ty = 0\n",
      "x = [-0.10411204 -0.15530317],\ty_pred = -5.0,\ty = 0\n",
      "x = [-0.31854731 -0.27121852],\ty_pred = -5.0,\ty = 0\n",
      "x = [0.82754821 0.86554299],\ty_pred = -5.0,\ty = 0\n",
      "x = [ 0.05976259 -0.1483235 ],\ty_pred = -5.0,\ty = 0\n",
      "x = [1.20287531 1.13372683],\ty_pred = -5.0,\ty = 0\n",
      "x = [1.48583881 0.01757145],\ty_pred = -5.0,\ty = 1\n",
      "x = [ 1.40719094 -0.22003785],\ty_pred = -5.0,\ty = 1\n",
      "x = [0.15293474 1.4041663 ],\ty_pred = -5.0,\ty = 1\n",
      "x = [-0.2263569   1.19094566],\ty_pred = -5.0,\ty = 1\n",
      "x = [-0.29643569  1.01798633],\ty_pred = -5.0,\ty = 1\n",
      "x = [1.08333923 0.95961757],\ty_pred = -5.0,\ty = 0\n",
      "x = [0.10398729 1.10355053],\ty_pred = -5.0,\ty = 1\n",
      "x = [ 1.27917766 -0.19641718],\ty_pred = -5.0,\ty = 1\n",
      "x = [-0.29363159 -0.47089804],\ty_pred = -5.0,\ty = 0\n",
      "x = [ 1.31009447 -0.17457866],\ty_pred = -5.0,\ty = 1\n",
      "x = [1.193269   1.12596948],\ty_pred = -5.0,\ty = 0\n",
      "x = [ 0.91073991 -0.46422237],\ty_pred = -5.0,\ty = 1\n",
      "x = [1.1246825  0.14878885],\ty_pred = -5.0,\ty = 1\n",
      "x = [-0.11360348  1.07996472],\ty_pred = -5.0,\ty = 1\n",
      "x = [ 1.14834652 -0.07849736],\ty_pred = -5.0,\ty = 1\n",
      "x = [1.41421159 1.41183475],\ty_pred = -5.0,\ty = 0\n",
      "x = [ 0.94214191 -0.4706857 ],\ty_pred = -5.0,\ty = 1\n",
      "x = [-0.46542253 -0.39468148],\ty_pred = -5.0,\ty = 0\n",
      "x = [-0.22325467  0.16877299],\ty_pred = -5.0,\ty = 0\n",
      "x = [1.2243561  0.84242808],\ty_pred = -5.0,\ty = 0\n",
      "x = [-0.13066494 -0.25273032],\ty_pred = -5.0,\ty = 0\n",
      "x = [-0.36126054  1.2973832 ],\ty_pred = -5.0,\ty = 1\n",
      "x = [-0.46932494 -0.00078522],\ty_pred = -5.0,\ty = 0\n",
      "x = [1.12667286 1.25177855],\ty_pred = -5.0,\ty = 0\n",
      "x = [0.00325764 0.96507274],\ty_pred = -5.0,\ty = 1\n",
      "x = [0.15710342 1.45563202],\ty_pred = -5.0,\ty = 1\n",
      "x = [ 1.37056835 -0.23481818],\ty_pred = -5.0,\ty = 1\n",
      "x = [1.37519766 0.80486844],\ty_pred = -5.0,\ty = 0\n",
      "x = [-0.16545331 -0.11183705],\ty_pred = -5.0,\ty = 0\n",
      "x = [0.1127827  1.13529505],\ty_pred = -5.0,\ty = 1\n",
      "x = [0.10733905 1.12187435],\ty_pred = -5.0,\ty = 1\n",
      "x = [ 1.35770313 -0.40851502],\ty_pred = -5.0,\ty = 1\n",
      "x = [-0.1247982   0.13054818],\ty_pred = -5.0,\ty = 0\n",
      "x = [ 0.03958228 -0.20550076],\ty_pred = -5.0,\ty = 0\n",
      "x = [ 0.98003376 -0.32445879],\ty_pred = -5.0,\ty = 1\n",
      "x = [-0.26647284  0.80528384],\ty_pred = -5.0,\ty = 1\n",
      "x = [-0.33513463 -0.29284546],\ty_pred = -5.0,\ty = 0\n",
      "x = [-0.09071587 -0.12640457],\ty_pred = -5.0,\ty = 0\n",
      "x = [ 1.38273545 -0.06916605],\ty_pred = -5.0,\ty = 1\n",
      "x = [1.49007247 1.45648214],\ty_pred = -5.0,\ty = 0\n",
      "x = [ 0.90700349 -0.49751167],\ty_pred = -5.0,\ty = 1\n",
      "x = [ 0.00635273 -0.42370348],\ty_pred = -5.0,\ty = 0\n",
      "x = [-0.11934876 -0.06115879],\ty_pred = -5.0,\ty = 0\n",
      "x = [-0.32993701  0.13969071],\ty_pred = -5.0,\ty = 0\n",
      "x = [-0.06438123  0.89397459],\ty_pred = -5.0,\ty = 1\n",
      "x = [ 0.03909253 -0.42614504],\ty_pred = -5.0,\ty = 0\n",
      "x = [ 0.8521737  -0.43353075],\ty_pred = -5.0,\ty = 1\n",
      "x = [1.08378901e+00 1.07886700e-03],\ty_pred = -5.0,\ty = 1\n",
      "x = [-0.13307007 -0.03973501],\ty_pred = -5.0,\ty = 0\n",
      "x = [ 0.86470165 -0.18422828],\ty_pred = -5.0,\ty = 1\n",
      "x = [-0.21443501  0.11232333],\ty_pred = -5.0,\ty = 0\n",
      "x = [-0.1039875   0.13616562],\ty_pred = -5.0,\ty = 0\n",
      "x = [-0.39451701  1.19921355],\ty_pred = -5.0,\ty = 1\n",
      "x = [0.07414173 0.92474784],\ty_pred = -5.0,\ty = 1\n",
      "x = [-0.4736913  -0.39674825],\ty_pred = -5.0,\ty = 0\n",
      "x = [-0.36213637  0.81921357],\ty_pred = -5.0,\ty = 1\n",
      "x = [1.35472323 0.85176576],\ty_pred = -5.0,\ty = 0\n",
      "x = [ 1.3505216  -0.15629403],\ty_pred = -5.0,\ty = 1\n",
      "x = [0.97864438 1.00830837],\ty_pred = -5.0,\ty = 0\n",
      "x = [-0.17271496 -0.03314022],\ty_pred = -5.0,\ty = 0\n",
      "x = [-0.03900237 -0.37316323],\ty_pred = -5.0,\ty = 0\n",
      "x = [ 0.05163469 -0.07799426],\ty_pred = -5.0,\ty = 0\n",
      "x = [ 0.18623302 -0.34433176],\ty_pred = -5.0,\ty = 0\n",
      "x = [1.21287056 0.12694926],\ty_pred = -5.0,\ty = 1\n",
      "x = [-0.07899661  0.00817119],\ty_pred = -5.0,\ty = 0\n",
      "x = [ 1.14464116 -0.02098326],\ty_pred = -5.0,\ty = 1\n",
      "x = [ 1.4837528  -0.35986975],\ty_pred = -5.0,\ty = 1\n",
      "x = [ 1.45301203 -0.34935329],\ty_pred = -5.0,\ty = 1\n",
      "x = [1.46134089 0.03719646],\ty_pred = -5.0,\ty = 1\n",
      "x = [1.32205967 1.35790463],\ty_pred = -5.0,\ty = 0\n",
      "x = [1.2137548 1.1357842],\ty_pred = -5.0,\ty = 0\n",
      "x = [ 0.09136827 -0.08331115],\ty_pred = -5.0,\ty = 0\n",
      "x = [-0.17648933 -0.14114518],\ty_pred = -5.0,\ty = 0\n",
      "x = [-0.09828013 -0.19177655],\ty_pred = -5.0,\ty = 0\n",
      "x = [-0.36450873  1.17775523],\ty_pred = -5.0,\ty = 1\n",
      "x = [-0.39414045 -0.46325633],\ty_pred = -5.0,\ty = 0\n",
      "x = [-0.24861646 -0.44728239],\ty_pred = -5.0,\ty = 0\n",
      "x = [-0.20199291  0.97662745],\ty_pred = -5.0,\ty = 1\n",
      "x = [-0.20221757  0.06750486],\ty_pred = -5.0,\ty = 0\n",
      "x = [0.84961321 0.10893754],\ty_pred = -5.0,\ty = 1\n",
      "x = [-0.00720035  1.30618457],\ty_pred = -5.0,\ty = 1\n",
      "x = [0.18773468 1.27657856],\ty_pred = -5.0,\ty = 1\n",
      "x = [1.3815783  0.06497693],\ty_pred = -5.0,\ty = 1\n",
      "x = [0.80546607 0.97563302],\ty_pred = -5.0,\ty = 0\n",
      "x = [-0.34659234 -0.19983951],\ty_pred = -5.0,\ty = 0\n",
      "x = [1.3853443  1.39691744],\ty_pred = -5.0,\ty = 0\n",
      "x = [ 0.15479408 -0.25312447],\ty_pred = -5.0,\ty = 0\n",
      "x = [0.8115938  0.18648933],\ty_pred = -5.0,\ty = 1\n",
      "x = [ 0.90798942 -0.46815125],\ty_pred = -5.0,\ty = 1\n",
      "x = [0.83733669 0.92549867],\ty_pred = -5.0,\ty = 0\n",
      "x = [ 0.90915157 -0.30067765],\ty_pred = -5.0,\ty = 1\n",
      "x = [-0.02304817  0.84373983],\ty_pred = -5.0,\ty = 1\n",
      "x = [0.83307172 1.3634667 ],\ty_pred = -5.0,\ty = 0\n",
      "x = [0.07873812 0.87578216],\ty_pred = -5.0,\ty = 1\n",
      "x = [ 0.9169239 -0.3170055],\ty_pred = -5.0,\ty = 1\n",
      "x = [-0.20705223 -0.12074065],\ty_pred = -5.0,\ty = 0\n",
      "x = [1.07440676 0.83132907],\ty_pred = -5.0,\ty = 0\n",
      "x = [-0.10029387  1.15703097],\ty_pred = -5.0,\ty = 1\n",
      "x = [-0.07541896 -0.07723658],\ty_pred = -5.0,\ty = 0\n",
      "x = [-0.27649158  0.90210381],\ty_pred = -5.0,\ty = 1\n",
      "x = [-0.46362402 -0.40581751],\ty_pred = -5.0,\ty = 0\n",
      "x = [ 1.45946766 -0.0413591 ],\ty_pred = -5.0,\ty = 1\n",
      "x = [0.87219957 1.2249748 ],\ty_pred = -5.0,\ty = 0\n",
      "x = [ 1.25906388 -0.14360242],\ty_pred = -5.0,\ty = 1\n",
      "x = [0.16045657 0.99989   ],\ty_pred = -5.0,\ty = 1\n",
      "x = [ 1.15194142 -0.30129274],\ty_pred = -5.0,\ty = 1\n",
      "x = [ 1.2006729  -0.33166097],\ty_pred = -5.0,\ty = 1\n",
      "x = [ 1.38741267 -0.44113955],\ty_pred = -5.0,\ty = 1\n",
      "x = [-0.10674962  0.01569767],\ty_pred = -5.0,\ty = 0\n",
      "x = [ 0.84297878 -0.1867443 ],\ty_pred = -5.0,\ty = 1\n",
      "x = [-0.37111071  0.080113  ],\ty_pred = -5.0,\ty = 0\n",
      "x = [-0.47830143  0.16270979],\ty_pred = -5.0,\ty = 0\n",
      "x = [1.28095134 0.11277212],\ty_pred = -5.0,\ty = 1\n",
      "x = [1.35816759 1.25322742],\ty_pred = -5.0,\ty = 0\n",
      "x = [-0.14307114 -0.25934833],\ty_pred = -5.0,\ty = 0\n",
      "x = [-0.20280806  0.9414481 ],\ty_pred = -5.0,\ty = 1\n",
      "x = [ 0.99001459 -0.36094621],\ty_pred = -5.0,\ty = 1\n",
      "x = [1.43320802 1.16803022],\ty_pred = -5.0,\ty = 0\n",
      "x = [-0.02455093  0.81243637],\ty_pred = -5.0,\ty = 1\n",
      "x = [ 1.11031697 -0.42623073],\ty_pred = -5.0,\ty = 1\n",
      "x = [1.17552449 1.23156597],\ty_pred = -5.0,\ty = 0\n",
      "x = [1.07719983 0.06093149],\ty_pred = -5.0,\ty = 1\n",
      "x = [-0.06042665 -0.28719616],\ty_pred = -5.0,\ty = 0\n",
      "x = [-0.47932988  0.13233182],\ty_pred = -5.0,\ty = 0\n",
      "x = [ 0.89028202 -0.20170845],\ty_pred = -5.0,\ty = 1\n",
      "x = [0.01887621 1.33403581],\ty_pred = -5.0,\ty = 1\n",
      "x = [-0.44923913  1.19119649],\ty_pred = -5.0,\ty = 1\n",
      "x = [0.97865863 1.16250814],\ty_pred = -5.0,\ty = 0\n",
      "x = [-0.15315351  0.92972344],\ty_pred = -5.0,\ty = 1\n",
      "x = [ 1.31394519 -0.08291904],\ty_pred = -5.0,\ty = 1\n",
      "x = [ 1.26861935 -0.36945512],\ty_pred = -5.0,\ty = 1\n",
      "x = [0.89121573 0.02449655],\ty_pred = -5.0,\ty = 1\n",
      "x = [-0.47218502  0.98244617],\ty_pred = -5.0,\ty = 1\n",
      "x = [1.20912914 0.9624857 ],\ty_pred = -5.0,\ty = 0\n",
      "x = [ 0.95333644 -0.47706996],\ty_pred = -5.0,\ty = 1\n",
      "x = [1.38479105 1.25133954],\ty_pred = -5.0,\ty = 0\n",
      "x = [-0.2104858  -0.40248918],\ty_pred = -5.0,\ty = 0\n",
      "x = [1.07321042 1.02369529],\ty_pred = -5.0,\ty = 0\n",
      "x = [-0.16892453 -0.20401073],\ty_pred = -5.0,\ty = 0\n",
      "x = [0.82087687 0.94736536],\ty_pred = -5.0,\ty = 0\n",
      "x = [ 1.0718469  -0.20299534],\ty_pred = -5.0,\ty = 1\n",
      "x = [ 1.44308044 -0.28929444],\ty_pred = -5.0,\ty = 1\n",
      "x = [-0.02930546 -0.13754929],\ty_pred = -5.0,\ty = 0\n",
      "x = [1.13440263 1.36995351],\ty_pred = -5.0,\ty = 0\n",
      "x = [ 1.09975357 -0.00685196],\ty_pred = -5.0,\ty = 1\n",
      "x = [1.33318895 0.0914917 ],\ty_pred = -5.0,\ty = 1\n",
      "x = [1.03562    1.33661608],\ty_pred = -5.0,\ty = 0\n",
      "x = [1.44513246 1.36754018],\ty_pred = -5.0,\ty = 0\n",
      "x = [ 1.00347803 -0.3015763 ],\ty_pred = -5.0,\ty = 1\n",
      "x = [ 0.06044882 -0.03465617],\ty_pred = -5.0,\ty = 0\n",
      "x = [-0.30486911 -0.27974668],\ty_pred = -5.0,\ty = 0\n",
      "x = [-0.20603622 -0.07804927],\ty_pred = -5.0,\ty = 0\n",
      "x = [1.28333556 0.10011023],\ty_pred = -5.0,\ty = 1\n",
      "x = [-0.02322197 -0.33411255],\ty_pred = -5.0,\ty = 0\n",
      "x = [0.14800437 1.0322255 ],\ty_pred = -5.0,\ty = 1\n",
      "x = [-0.05657742 -0.30560109],\ty_pred = -5.0,\ty = 0\n",
      "x = [ 0.07904023 -0.24483359],\ty_pred = -5.0,\ty = 0\n",
      "x = [ 1.09768444 -0.36530748],\ty_pred = -5.0,\ty = 1\n",
      "x = [-0.00496867  0.84601523],\ty_pred = -5.0,\ty = 1\n",
      "x = [0.99546216 0.13535125],\ty_pred = -5.0,\ty = 1\n",
      "x = [-0.49824471 -0.22194056],\ty_pred = -5.0,\ty = 0\n",
      "x = [-0.43876907  1.04496049],\ty_pred = -5.0,\ty = 1\n",
      "x = [-0.30426517  1.41522653],\ty_pred = -5.0,\ty = 1\n",
      "x = [1.48729785 1.03586425],\ty_pred = -5.0,\ty = 0\n",
      "x = [-0.1526347  -0.06567226],\ty_pred = -5.0,\ty = 0\n",
      "x = [ 1.25262958 -0.36383851],\ty_pred = -5.0,\ty = 1\n",
      "x = [0.90820289 1.31952077],\ty_pred = -5.0,\ty = 0\n",
      "x = [ 0.80454508 -0.27540577],\ty_pred = -5.0,\ty = 1\n",
      "x = [1.31339821 1.04197204],\ty_pred = -5.0,\ty = 0\n",
      "x = [1.33153088 0.01445941],\ty_pred = -5.0,\ty = 1\n",
      "x = [-0.18954731 -0.01151084],\ty_pred = -5.0,\ty = 0\n",
      "x = [-0.37046966 -0.45616614],\ty_pred = -5.0,\ty = 0\n",
      "x = [1.11017087 1.49088925],\ty_pred = -5.0,\ty = 0\n",
      "x = [-0.42802714 -0.36291604],\ty_pred = -5.0,\ty = 0\n",
      "x = [-0.18223314  1.0512552 ],\ty_pred = -5.0,\ty = 1\n",
      "x = [ 0.02508697 -0.42318549],\ty_pred = -5.0,\ty = 0\n",
      "x = [ 1.29107362 -0.22884763],\ty_pred = -5.0,\ty = 1\n",
      "x = [-0.03093674  1.11715041],\ty_pred = -5.0,\ty = 1\n",
      "x = [1.09928912 1.09682269],\ty_pred = -5.0,\ty = 0\n",
      "x = [-0.4869233  -0.15913483],\ty_pred = -5.0,\ty = 0\n",
      "x = [-0.37107556  1.4642777 ],\ty_pred = -5.0,\ty = 1\n",
      "x = [-0.12439763  0.04246177],\ty_pred = -5.0,\ty = 0\n",
      "x = [1.34718908 1.47603288],\ty_pred = -5.0,\ty = 0\n",
      "x = [ 0.02460973 -0.09911819],\ty_pred = -5.0,\ty = 0\n",
      "x = [ 1.25827905 -0.15752865],\ty_pred = -5.0,\ty = 1\n",
      "x = [-0.36760314  1.33254635],\ty_pred = -5.0,\ty = 1\n",
      "x = [1.27433405 1.00181943],\ty_pred = -5.0,\ty = 0\n",
      "x = [ 0.87421163 -0.1312989 ],\ty_pred = -5.0,\ty = 1\n",
      "x = [-0.47950952  1.19079741],\ty_pred = -5.0,\ty = 1\n",
      "x = [ 0.0129389  -0.19176352],\ty_pred = -5.0,\ty = 0\n",
      "x = [0.19901936 1.30375999],\ty_pred = -5.0,\ty = 1\n",
      "x = [ 1.42072221 -0.34794617],\ty_pred = -5.0,\ty = 1\n",
      "x = [1.10086354 1.40154571],\ty_pred = -5.0,\ty = 0\n",
      "x = [ 0.82134746 -0.00609371],\ty_pred = -5.0,\ty = 1\n",
      "x = [-0.19169161  0.02792252],\ty_pred = -5.0,\ty = 0\n",
      "x = [ 0.1439675  -0.19105378],\ty_pred = -5.0,\ty = 0\n",
      "x = [1.1423466  1.47218724],\ty_pred = -5.0,\ty = 0\n",
      "x = [-0.22645885  1.2903104 ],\ty_pred = -5.0,\ty = 1\n",
      "x = [ 0.01179632 -0.11817018],\ty_pred = -5.0,\ty = 0\n",
      "x = [-0.0754252   1.46519065],\ty_pred = -5.0,\ty = 1\n",
      "x = [-0.39727683  1.09670877],\ty_pred = -5.0,\ty = 1\n",
      "x = [-0.49658957  0.81396295],\ty_pred = -5.0,\ty = 1\n",
      "x = [ 1.11394588 -0.11712218],\ty_pred = -5.0,\ty = 1\n",
      "x = [-0.28847295  1.1081215 ],\ty_pred = -5.0,\ty = 1\n",
      "x = [-0.09754219  0.06645161],\ty_pred = -5.0,\ty = 0\n",
      "x = [-0.35888236  1.20989014],\ty_pred = -5.0,\ty = 1\n",
      "x = [ 1.10837551 -0.26135583],\ty_pred = -5.0,\ty = 1\n",
      "x = [ 0.849789   -0.39055015],\ty_pred = -5.0,\ty = 1\n",
      "x = [-0.05541253  0.11615398],\ty_pred = -5.0,\ty = 0\n",
      "x = [ 0.13177559 -0.28498746],\ty_pred = -5.0,\ty = 0\n",
      "x = [1.09184931 1.16381444],\ty_pred = -5.0,\ty = 0\n",
      "x = [ 1.04730192 -0.29509141],\ty_pred = -5.0,\ty = 1\n",
      "x = [1.42282678 1.31136357],\ty_pred = -5.0,\ty = 0\n",
      "x = [ 0.94455836 -0.41465613],\ty_pred = -5.0,\ty = 1\n",
      "x = [ 1.35671564 -0.14721189],\ty_pred = -5.0,\ty = 1\n",
      "x = [0.14617048 1.22906606],\ty_pred = -5.0,\ty = 1\n",
      "x = [1.4430727  1.05769504],\ty_pred = -5.0,\ty = 0\n",
      "x = [-0.28628053  1.45693419],\ty_pred = -5.0,\ty = 1\n",
      "x = [-0.31221602  0.05772183],\ty_pred = -5.0,\ty = 0\n",
      "x = [ 1.31023386 -0.06226819],\ty_pred = -5.0,\ty = 1\n",
      "x = [-0.40703476  0.03029925],\ty_pred = -5.0,\ty = 0\n",
      "x = [1.35334239 1.46430824],\ty_pred = -5.0,\ty = 0\n",
      "x = [0.10102819 0.16327909],\ty_pred = -5.0,\ty = 0\n",
      "x = [0.96015052 1.4967032 ],\ty_pred = -5.0,\ty = 0\n",
      "x = [0.10115353 1.20400034],\ty_pred = -5.0,\ty = 1\n",
      "x = [ 0.1314532  -0.22297482],\ty_pred = -5.0,\ty = 0\n",
      "x = [1.44024379 1.37370975],\ty_pred = -5.0,\ty = 0\n",
      "x = [ 1.10296684 -0.12054669],\ty_pred = -5.0,\ty = 1\n",
      "x = [ 0.95792373 -0.47761107],\ty_pred = -5.0,\ty = 1\n",
      "x = [1.0206052  0.88374415],\ty_pred = -5.0,\ty = 0\n",
      "x = [-0.01476381  1.45562337],\ty_pred = -5.0,\ty = 1\n",
      "x = [-0.30717658  1.1678287 ],\ty_pred = -5.0,\ty = 1\n",
      "x = [ 0.89144394 -0.10429723],\ty_pred = -5.0,\ty = 1\n",
      "x = [1.08036717 1.29467514],\ty_pred = -5.0,\ty = 0\n",
      "x = [1.43074895 1.10000399],\ty_pred = -5.0,\ty = 0\n",
      "x = [1.29967538 0.89736052],\ty_pred = -5.0,\ty = 0\n",
      "x = [-0.12016851  0.11883935],\ty_pred = -5.0,\ty = 0\n",
      "x = [1.33235436 0.9621307 ],\ty_pred = -5.0,\ty = 0\n",
      "x = [-0.36610956  0.97668541],\ty_pred = -5.0,\ty = 1\n",
      "x = [0.09784186 1.15910043],\ty_pred = -5.0,\ty = 1\n",
      "x = [0.80068447 1.29567913],\ty_pred = -5.0,\ty = 0\n",
      "x = [ 1.31734147 -0.46476541],\ty_pred = -5.0,\ty = 1\n",
      "x = [1.26421522 1.14595171],\ty_pred = -5.0,\ty = 0\n",
      "x = [-0.22107926 -0.2359323 ],\ty_pred = -5.0,\ty = 0\n",
      "x = [0.89928128 1.36167213],\ty_pred = -5.0,\ty = 0\n",
      "x = [ 1.29493863 -0.08110094],\ty_pred = -5.0,\ty = 1\n",
      "x = [-0.23112004  1.34568576],\ty_pred = -5.0,\ty = 1\n",
      "x = [-0.27732387  1.25462305],\ty_pred = -5.0,\ty = 1\n",
      "x = [1.02084852 1.25045083],\ty_pred = -5.0,\ty = 0\n",
      "x = [0.08373327 1.45123263],\ty_pred = -5.0,\ty = 1\n",
      "x = [ 1.20573001 -0.07127721],\ty_pred = -5.0,\ty = 1\n",
      "x = [1.11700294 0.91228003],\ty_pred = -5.0,\ty = 0\n",
      "x = [ 0.94082435 -0.1866946 ],\ty_pred = -5.0,\ty = 1\n",
      "x = [1.37245743 1.04055268],\ty_pred = -5.0,\ty = 0\n",
      "x = [ 0.13376417 -0.25681025],\ty_pred = -5.0,\ty = 0\n",
      "x = [-0.18673013  1.31514319],\ty_pred = -5.0,\ty = 1\n",
      "x = [ 1.19629124 -0.04220495],\ty_pred = -5.0,\ty = 1\n",
      "x = [-0.30514847 -0.15877009],\ty_pred = -5.0,\ty = 0\n",
      "x = [-0.06533333  1.19764832],\ty_pred = -5.0,\ty = 1\n",
      "x = [0.92923258 1.18108072],\ty_pred = -5.0,\ty = 0\n",
      "x = [ 0.9407232  -0.48318129],\ty_pred = -5.0,\ty = 1\n",
      "x = [-0.06165375  0.93020699],\ty_pred = -5.0,\ty = 1\n",
      "x = [ 1.33534877 -0.20145494],\ty_pred = -5.0,\ty = 1\n",
      "x = [-0.41892128 -0.3106136 ],\ty_pred = -5.0,\ty = 0\n",
      "x = [0.87303618 0.18953189],\ty_pred = -5.0,\ty = 1\n",
      "x = [-0.48143015  0.97818886],\ty_pred = -5.0,\ty = 1\n",
      "x = [-0.18320896  1.26567921],\ty_pred = -5.0,\ty = 1\n",
      "x = [1.04129372 0.94945117],\ty_pred = -5.0,\ty = 0\n",
      "x = [ 1.06136957 -0.36982732],\ty_pred = -5.0,\ty = 1\n",
      "x = [1.00925498 1.0447905 ],\ty_pred = -5.0,\ty = 0\n",
      "x = [1.49629541 1.22298717],\ty_pred = -5.0,\ty = 0\n",
      "x = [0.14799288 0.82216598],\ty_pred = -5.0,\ty = 1\n",
      "x = [0.90184315 0.10294673],\ty_pred = -5.0,\ty = 1\n",
      "x = [-0.13649169  1.49668515],\ty_pred = -5.0,\ty = 1\n",
      "x = [0.17412264 1.06887271],\ty_pred = -5.0,\ty = 1\n",
      "x = [ 0.9360618 -0.3590257],\ty_pred = -5.0,\ty = 1\n",
      "x = [1.33663763 1.44710743],\ty_pred = -5.0,\ty = 0\n",
      "x = [-0.26429524  0.80566295],\ty_pred = -5.0,\ty = 1\n",
      "x = [-0.3864285  -0.36378439],\ty_pred = -5.0,\ty = 0\n",
      "x = [1.22723703 1.23418851],\ty_pred = -5.0,\ty = 0\n",
      "x = [-0.31386507  1.27404368],\ty_pred = -5.0,\ty = 1\n",
      "x = [0.9397694  1.36600739],\ty_pred = -5.0,\ty = 0\n",
      "x = [0.83523778 0.9203033 ],\ty_pred = -5.0,\ty = 0\n",
      "x = [1.48642162 1.43026403],\ty_pred = -5.0,\ty = 0\n",
      "x = [-0.47481332 -0.24912333],\ty_pred = -5.0,\ty = 0\n",
      "x = [-0.05320531  1.45716287],\ty_pred = -5.0,\ty = 1\n",
      "x = [0.10041703 0.83466002],\ty_pred = -5.0,\ty = 1\n",
      "x = [-0.4192946  -0.35433181],\ty_pred = -5.0,\ty = 0\n",
      "x = [1.44640959 0.96533475],\ty_pred = -5.0,\ty = 0\n",
      "x = [1.4132561 1.3136848],\ty_pred = -5.0,\ty = 0\n",
      "x = [0.85544753 1.38477124],\ty_pred = -5.0,\ty = 0\n",
      "x = [-0.18088903 -0.0427242 ],\ty_pred = -5.0,\ty = 0\n",
      "x = [ 0.8002751  -0.38329465],\ty_pred = -5.0,\ty = 1\n",
      "x = [1.28156244 1.39582084],\ty_pred = -5.0,\ty = 0\n",
      "x = [-0.17626787  1.05965784],\ty_pred = -5.0,\ty = 1\n",
      "x = [ 0.90529634 -0.32563694],\ty_pred = -5.0,\ty = 1\n",
      "x = [1.30191661 1.29033473],\ty_pred = -5.0,\ty = 0\n",
      "x = [1.27519817 0.15655637],\ty_pred = -5.0,\ty = 1\n",
      "x = [ 1.41812169 -0.31687245],\ty_pred = -5.0,\ty = 1\n",
      "x = [ 1.00214486 -0.07191913],\ty_pred = -5.0,\ty = 1\n",
      "x = [-0.11721588  1.44153881],\ty_pred = -5.0,\ty = 1\n",
      "x = [-0.42900546  1.43571958],\ty_pred = -5.0,\ty = 1\n",
      "x = [ 1.40482182 -0.00408445],\ty_pred = -5.0,\ty = 1\n",
      "x = [ 0.80009893 -0.0105974 ],\ty_pred = -5.0,\ty = 1\n",
      "x = [-0.22350906  0.05824719],\ty_pred = -5.0,\ty = 0\n",
      "x = [-0.27752771 -0.25921178],\ty_pred = -5.0,\ty = 0\n",
      "x = [-0.24508079 -0.10334811],\ty_pred = -5.0,\ty = 0\n",
      "x = [-0.47081879 -0.0380212 ],\ty_pred = -5.0,\ty = 0\n",
      "x = [-0.35885777 -0.20847621],\ty_pred = -5.0,\ty = 0\n",
      "x = [-0.18437514 -0.25589126],\ty_pred = -5.0,\ty = 0\n",
      "x = [1.34109982 1.34317699],\ty_pred = -5.0,\ty = 0\n",
      "x = [-0.45230896 -0.11412035],\ty_pred = -5.0,\ty = 0\n",
      "x = [0.95864204 1.36607472],\ty_pred = -5.0,\ty = 0\n",
      "x = [0.08152596 0.99764531],\ty_pred = -5.0,\ty = 1\n",
      "x = [-0.11350283 -0.1023022 ],\ty_pred = -5.0,\ty = 0\n",
      "x = [-0.25960593 -0.25456797],\ty_pred = -5.0,\ty = 0\n"
     ]
    },
    {
     "data": {
      "text/plain": [
       "5.498"
      ]
     },
     "execution_count": 8,
     "metadata": {},
     "output_type": "execute_result"
    }
   ],
   "source": [
    "# 比較輸入、預測值、標籤\n",
    "diff = np.zeros(num_analysis, dtype=int)\n",
    "for x, y, idx in zip(X, Y, range(num_analysis)):\n",
    "    x_n = normalizer.normalize(x-0.5)\n",
    "    pred = nn_best.forward([x_n])[0]\n",
    "    y_pred = 0.5 + normalizer.unnormalize(pred)\n",
    "    y_pred = y_pred.round()\n",
    "    \n",
    "    diff[idx] = y[0] - y_pred[0]\n",
    "    print(f\"x = {x},\\ty_pred = {y_pred[0]},\\ty = {y[0]}\")\n",
    "\n",
    "np.absolute(diff).mean()"
   ]
  },
  {
   "cell_type": "markdown",
   "metadata": {},
   "source": [
    "loss 還不錯"
   ]
  },
  {
   "cell_type": "markdown",
   "metadata": {},
   "source": [
    "## (3) 學習曲線\n",
    "最佳隱藏層數量下，30 次建模結果最佳解的學習曲線"
   ]
  },
  {
   "cell_type": "code",
   "execution_count": 9,
   "metadata": {},
   "outputs": [],
   "source": [
    "import numpy as np\n",
    "from module.for_model.checkpoint import get_best_model, load_checkpoint\n",
    "import matplotlib.pyplot as plt"
   ]
  },
  {
   "cell_type": "markdown",
   "metadata": {},
   "source": [
    "#### 調出 best model 的所有 checkpoint"
   ]
  },
  {
   "cell_type": "code",
   "execution_count": 10,
   "metadata": {},
   "outputs": [
    {
     "data": {
      "text/plain": [
       "5"
      ]
     },
     "execution_count": 10,
     "metadata": {},
     "output_type": "execute_result"
    }
   ],
   "source": [
    "name_experiment = \"2024_0606_0319_part3\"\n",
    "n = 2\n",
    "_, idx_best = get_best_model(name_experiment, n)\n",
    "idx_best"
   ]
  },
  {
   "cell_type": "code",
   "execution_count": 11,
   "metadata": {},
   "outputs": [
    {
     "data": {
      "text/plain": [
       "(30, 1001, 2)"
      ]
     },
     "execution_count": 11,
     "metadata": {},
     "output_type": "execute_result"
    }
   ],
   "source": [
    "path_folder = f\"checkpoints\\\\{name_experiment}\\\\node_{n:02d}\"\n",
    "ttl_loss = load_checkpoint(path_folder, \"loss\")\n",
    "ttl_loss = np.array(ttl_loss)\n",
    "ttl_loss.shape"
   ]
  },
  {
   "cell_type": "markdown",
   "metadata": {},
   "source": [
    "#### 畫圖"
   ]
  },
  {
   "cell_type": "code",
   "execution_count": 12,
   "metadata": {},
   "outputs": [],
   "source": [
    "x = range(ttl_loss.shape[1])\n",
    "y_loss_in = ttl_loss[idx_best,:,0]      # in-sample loss        # 紅色\n",
    "y_loss_out = ttl_loss[idx_best,:,1]     # out-of-sample loss    # 藍色"
   ]
  },
  {
   "cell_type": "markdown",
   "metadata": {},
   "source": [
    "##### 觀察整體\n",
    "看起來學習曲線下降得非常快，但仍在穩定下降中"
   ]
  },
  {
   "cell_type": "code",
   "execution_count": 13,
   "metadata": {},
   "outputs": [
    {
     "data": {
      "text/plain": [
       "<matplotlib.legend.Legend at 0x27664c65010>"
      ]
     },
     "execution_count": 13,
     "metadata": {},
     "output_type": "execute_result"
    },
    {
     "data": {
      "image/png": "[encoded data removed]",
      "text/plain": [
       "<Figure size 640x480 with 1 Axes>"
      ]
     },
     "metadata": {},
     "output_type": "display_data"
    }
   ],
   "source": [
    "plt.scatter(x, y_loss_in, s=0.5, label=\"loss_in\", color=\"r\")\n",
    "plt.scatter(x, y_loss_out, s=0.5, label=\"loss_out\")\n",
    "plt.legend(loc='center left', bbox_to_anchor=(1.1, 0.5), labelspacing=3)"
   ]
  },
  {
   "cell_type": "markdown",
   "metadata": {},
   "source": [
    "##### 觀察前期\n",
    "一開始 loss_out 低於 loss_in 的狀況，很有趣。"
   ]
  },
  {
   "cell_type": "code",
   "execution_count": 14,
   "metadata": {},
   "outputs": [
    {
     "data": {
      "text/plain": [
       "(0.025, 0.3)"
      ]
     },
     "execution_count": 14,
     "metadata": {},
     "output_type": "execute_result"
    },
    {
     "data": {
      "image/png": "[encoded data removed]",
      "text/plain": [
       "<Figure size 640x480 with 1 Axes>"
      ]
     },
     "metadata": {},
     "output_type": "display_data"
    }
   ],
   "source": [
    "plt.scatter(x, y_loss_in, s=0.5, label=\"loss_in\", color=\"r\")\n",
    "plt.scatter(x, y_loss_out, s=0.5, label=\"loss_out\")\n",
    "plt.legend(loc='center left', bbox_to_anchor=(1.1, 0.5), labelspacing=3)\n",
    "plt.xlim([-1,2.5])\n",
    "plt.ylim([0.025,0.3])"
   ]
  },
  {
   "cell_type": "markdown",
   "metadata": {},
   "source": [
    "##### 觀察轉折點\n",
    "loss_out 下降速度趨緩，逐漸被 loss_in 超過"
   ]
  },
  {
   "cell_type": "code",
   "execution_count": 15,
   "metadata": {},
   "outputs": [
    {
     "data": {
      "text/plain": [
       "(0.03, 0.034)"
      ]
     },
     "execution_count": 15,
     "metadata": {},
     "output_type": "execute_result"
    },
    {
     "data": {
      "image/png": "[encoded data removed]",
      "text/plain": [
       "<Figure size 640x480 with 1 Axes>"
      ]
     },
     "metadata": {},
     "output_type": "display_data"
    }
   ],
   "source": [
    "# plt.scatter(x, y_loss_in, s=0.5, label=\"loss_in\", color=\"r\")\n",
    "# plt.scatter(x, y_loss_out, s=0.5, label=\"loss_out\")\n",
    "\n",
    "# plt.plot(x, y_loss_in, label=\"loss_in\", color=\"r\")\n",
    "# plt.plot(x, y_loss_out, label=\"loss_out\")\n",
    "plt.plot(x, y_loss_in, linewidth=1, label=\"loss_in\", color=\"r\")\n",
    "plt.plot(x, y_loss_out, linewidth=1, label=\"loss_out\")\n",
    "plt.legend(loc='center left', bbox_to_anchor=(1.1, 0.5), labelspacing=3)\n",
    "plt.xlim([5,8])\n",
    "plt.ylim([0.03,0.034])"
   ]
  },
  {
   "cell_type": "markdown",
   "metadata": {},
   "source": [
    "##### 觀察後期\n",
    "loss_out 穩定低於 loss_in，很怪"
   ]
  },
  {
   "cell_type": "code",
   "execution_count": 16,
   "metadata": {},
   "outputs": [
    {
     "data": {
      "text/plain": [
       "(0.0122, 0.0155)"
      ]
     },
     "execution_count": 16,
     "metadata": {},
     "output_type": "execute_result"
    },
    {
     "data": {
      "image/png": "[encoded data removed]",
      "text/plain": [
       "<Figure size 640x480 with 1 Axes>"
      ]
     },
     "metadata": {},
     "output_type": "display_data"
    }
   ],
   "source": [
    "plt.plot(x, y_loss_in, linewidth=1, label=\"loss_in\", color=\"r\")\n",
    "plt.plot(x, y_loss_out, linewidth=1, label=\"loss_out\")\n",
    "plt.legend(loc='center left', bbox_to_anchor=(1.1, 0.5), labelspacing=3)\n",
    "plt.xlim([800,1000])\n",
    "plt.ylim([0.0122,0.0155])"
   ]
  },
  {
   "cell_type": "markdown",
   "metadata": {},
   "source": [
    "## (4) Error Histogram\n",
    "最佳隱藏層數量下，30 次建模結果最佳解的 Error Histogram。"
   ]
  },
  {
   "cell_type": "code",
   "execution_count": 17,
   "metadata": {},
   "outputs": [],
   "source": [
    "import numpy as np\n",
    "from module.for_model.checkpoint import get_best_model\n",
    "from module.for_dataset.create_dataset import create_dataset\n",
    "from module.for_dataset.normalization import normalization\n",
    "import matplotlib.pyplot as plt"
   ]
  },
  {
   "cell_type": "markdown",
   "metadata": {},
   "source": [
    "### 調出 best model 的 best checkpoint 的參數"
   ]
  },
  {
   "cell_type": "code",
   "execution_count": 18,
   "metadata": {},
   "outputs": [],
   "source": [
    "name_experiment = \"2024_0606_0319_part3\"\n",
    "n = 2\n",
    "nn_best, _ = get_best_model(name_experiment, n)"
   ]
  },
  {
   "cell_type": "markdown",
   "metadata": {},
   "source": [
    "### 建立其他沒看過的資料"
   ]
  },
  {
   "cell_type": "code",
   "execution_count": 19,
   "metadata": {},
   "outputs": [
    {
     "data": {
      "text/plain": [
       "array([[0.95117522, 0.83604498],\n",
       "       [0.69245491, 0.15225998],\n",
       "       [0.14702521, 0.11550967],\n",
       "       ...,\n",
       "       [0.0723152 , 0.74352127],\n",
       "       [0.10167781, 0.81660199],\n",
       "       [0.27443305, 0.96329347]])"
      ]
     },
     "execution_count": 19,
     "metadata": {},
     "output_type": "execute_result"
    }
   ],
   "source": [
    "# 建立其他沒看過的資料\n",
    "# (之前 random seed 設 0，這次要設不一樣)\n",
    "\n",
    "random_seed = 2\n",
    "num_analysis = 10000\n",
    "num_data = int(num_analysis/0.8)\n",
    "\n",
    "X, Y, _, _ = create_dataset(random_seed, num_data, \"xor\")\n",
    "\n",
    "# reshape for the model output\n",
    "Y = Y.reshape((-1,1))\n",
    "\n",
    "# normalize\n",
    "normalizer = normalization(X-0.5)\n",
    "X_n = normalizer.normalize(X-0.5)\n",
    "# Y_n = normalizer.normalize(Y-5)\n",
    "\n",
    "X_n"
   ]
  },
  {
   "cell_type": "markdown",
   "metadata": {},
   "source": [
    "### 取得 error"
   ]
  },
  {
   "cell_type": "code",
   "execution_count": 20,
   "metadata": {},
   "outputs": [
    {
     "data": {
      "text/plain": [
       "array([0, 0, 0, ..., 0, 0, 0])"
      ]
     },
     "execution_count": 20,
     "metadata": {},
     "output_type": "execute_result"
    }
   ],
   "source": [
    "# 取得 error\n",
    "ttl_error = np.zeros(num_analysis, dtype=int)\n",
    "for x_n, y, idx in zip(X_n, Y, range(num_analysis)):\n",
    "    pred = nn_best.forward([x_n])\n",
    "    y_pred = 0.5 + normalizer.unnormalize(pred)\n",
    "    y_pred = y_pred.round()\n",
    "    ttl_error[idx] = y[0] - y_pred[0,0]\n",
    "ttl_error"
   ]
  },
  {
   "cell_type": "code",
   "execution_count": 21,
   "metadata": {},
   "outputs": [
    {
     "data": {
      "text/plain": [
       "(array([ 694.,    0.,    0.,    0.,    0., 9200.,    0.,    0.,    0.,\n",
       "         106.]),\n",
       " array([-1. , -0.8, -0.6, -0.4, -0.2,  0. ,  0.2,  0.4,  0.6,  0.8,  1. ]),\n",
       " <BarContainer object of 10 artists>)"
      ]
     },
     "execution_count": 21,
     "metadata": {},
     "output_type": "execute_result"
    },
    {
     "data": {
      "image/png": "[encoded data removed]",
      "text/plain": [
       "<Figure size 640x480 with 1 Axes>"
      ]
     },
     "metadata": {},
     "output_type": "display_data"
    }
   ],
   "source": [
    "# 畫圖\n",
    "plt.hist(ttl_error)"
   ]
  },
  {
   "cell_type": "markdown",
   "metadata": {},
   "source": [
    "從長調圖可以看出:\n",
    "1. 正確率超過九成\n",
    "2. 如果有錯誤，幾乎都是<b>誤判成不同類</b>，而非同類"
   ]
  },
  {
   "cell_type": "markdown",
   "metadata": {},
   "source": []
  },
  {
   "cell_type": "markdown",
   "metadata": {},
   "source": [
    "## (5) 動畫"
   ]
  },
  {
   "cell_type": "code",
   "execution_count": 2,
   "metadata": {},
   "outputs": [],
   "source": [
    "import matplotlib.pyplot as plt\n",
    "import matplotlib.animation as animation\n",
    "from module.for_model.checkpoint import get_best_model, load_checkpoint\n",
    "from module.draw.draw import plot_decision_boundary"
   ]
  },
  {
   "cell_type": "markdown",
   "metadata": {},
   "source": [
    "### Epoch-Wise"
   ]
  },
  {
   "cell_type": "markdown",
   "metadata": {},
   "source": [
    "#### 調出 best model 的所有 checkpoint"
   ]
  },
  {
   "cell_type": "code",
   "execution_count": 3,
   "metadata": {},
   "outputs": [
    {
     "data": {
      "text/plain": [
       "5"
      ]
     },
     "execution_count": 3,
     "metadata": {},
     "output_type": "execute_result"
    }
   ],
   "source": [
    "name_experiment = \"2024_0606_0319_part3\"\n",
    "n = 2\n",
    "_, idx_best = get_best_model(name_experiment, n)\n",
    "idx_best"
   ]
  },
  {
   "cell_type": "code",
   "execution_count": 4,
   "metadata": {},
   "outputs": [
    {
     "data": {
      "text/plain": [
       "30"
      ]
     },
     "execution_count": 4,
     "metadata": {},
     "output_type": "execute_result"
    }
   ],
   "source": [
    "path_folder = f\"checkpoints\\\\{name_experiment}\\\\node_{n:02d}\"\n",
    "ttl_param = load_checkpoint(path_folder, \"param\")\n",
    "len(ttl_param)"
   ]
  },
  {
   "cell_type": "code",
   "execution_count": 5,
   "metadata": {},
   "outputs": [
    {
     "data": {
      "text/plain": [
       "1001"
      ]
     },
     "execution_count": 5,
     "metadata": {},
     "output_type": "execute_result"
    }
   ],
   "source": [
    "ttl_checkpoint_4_best_model = ttl_param[idx_best]\n",
    "len(ttl_checkpoint_4_best_model)"
   ]
  },
  {
   "cell_type": "code",
   "execution_count": 6,
   "metadata": {},
   "outputs": [
    {
     "data": {
      "text/plain": [
       "1001"
      ]
     },
     "execution_count": 6,
     "metadata": {},
     "output_type": "execute_result"
    }
   ],
   "source": [
    "ttl_w = [param[0] for param in ttl_checkpoint_4_best_model]\n",
    "ttl_b = [param[1] for param in ttl_checkpoint_4_best_model]\n",
    "params = [(w,b[0]) for w,b in zip(ttl_w, ttl_b)]\n",
    "len(params)"
   ]
  },
  {
   "cell_type": "code",
   "execution_count": 7,
   "metadata": {},
   "outputs": [
    {
     "name": "stderr",
     "output_type": "stream",
     "text": [
      "MovieWriter imagemagick unavailable; using Pillow instead.\n"
     ]
    }
   ],
   "source": [
    "num_epoch = 1001\n",
    "fig, ax = plt.subplots()\n",
    "ani = animation.FuncAnimation(fig, plot_decision_boundary, fargs=(params, ax), frames=num_epoch, repeat=False, interval=0.1)\n",
    "\n",
    "# 保存動畫\n",
    "ani.save('GIFs/xor_2024_0606_0319_speedup_small_withData_tanh.gif', writer='imagemagick')\n"
   ]
  },
  {
   "cell_type": "code",
   "execution_count": null,
   "metadata": {},
   "outputs": [],
   "source": []
  }
 ],
 "metadata": {
  "kernelspec": {
   "display_name": "Python 3",
   "language": "python",
   "name": "python3"
  },
  "language_info": {
   "codemirror_mode": {
    "name": "ipython",
    "version": 3
   },
   "file_extension": ".py",
   "mimetype": "text/x-python",
   "name": "python",
   "nbconvert_exporter": "python",
   "pygments_lexer": "ipython3",
   "version": "3.11.9"
  }
 },
 "nbformat": 4,
 "nbformat_minor": 2
}
