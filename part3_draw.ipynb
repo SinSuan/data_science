{
 "cells": [
  {
   "cell_type": "markdown",
   "metadata": {},
   "source": [
    "# Drawing"
   ]
  },
  {
   "cell_type": "markdown",
   "metadata": {},
   "source": [
    "## (1) 盒鬚圖\n",
    "不同隱藏層神經元數量 (n=[1,20])下的 30 次建模結果盒鬚圖"
   ]
  },
  {
   "cell_type": "code",
   "execution_count": 1,
   "metadata": {},
   "outputs": [],
   "source": [
    "from module.for_model.checkpoint import specific_loss\n",
    "import matplotlib.pyplot as plt"
   ]
  },
  {
   "cell_type": "code",
   "execution_count": 2,
   "metadata": {},
   "outputs": [],
   "source": [
    "name_experiment = \"2024_0610_1241_part3\"\n",
    "n = 2"
   ]
  },
  {
   "cell_type": "code",
   "execution_count": 3,
   "metadata": {},
   "outputs": [
    {
     "data": {
      "image/png": "[encoded data removed]",
      "text/plain": [
       "<Figure size 640x480 with 1 Axes>"
      ]
     },
     "metadata": {},
     "output_type": "display_data"
    }
   ],
   "source": [
    "# 拿每個模型最好的 checkpoint 的 loss\n",
    "# in-sample loss 跟 out-of-sample loss 可能拿不同的 checkpoint\n",
    "loss_in, _ = specific_loss(name_experiment, n, type_loss=0)\n",
    "loss_out, _ = specific_loss(name_experiment, n, type_loss=1)\n",
    "\n",
    "ttl_loss = [loss_in, loss_out]\n",
    "loss_name = [\"loss_in\", \"loss_out\"]\n",
    "plt.boxplot(ttl_loss, patch_artist=True, tick_labels=loss_name)\n",
    "\n",
    "# 添加标题和标签\n",
    "# plt.title(\"Model with Different Hidden Nodes\")\n",
    "plt.xlabel(\"Number of Nodes\")\n",
    "plt.ylabel(\"Loss\")\n",
    "\n",
    "# 显示图表\n",
    "plt.show()"
   ]
  },
  {
   "cell_type": "markdown",
   "metadata": {},
   "source": [
    "兩者分布幾乎相同，但 loss_in 略低"
   ]
  },
  {
   "cell_type": "markdown",
   "metadata": {},
   "source": [
    "## (2) 真實 vs 預測\n",
    "最佳隱藏層數量下，30 次建模結果最佳解的真實與預測解比較"
   ]
  },
  {
   "cell_type": "code",
   "execution_count": 4,
   "metadata": {},
   "outputs": [],
   "source": [
    "import numpy as np\n",
    "from module.for_model.checkpoint import get_best_model\n",
    "from module.for_dataset.create_dataset import create_dataset\n",
    "from module.for_dataset.normalization import normalization"
   ]
  },
  {
   "cell_type": "markdown",
   "metadata": {},
   "source": [
    "### 建立其他沒看過的資料"
   ]
  },
  {
   "cell_type": "code",
   "execution_count": 5,
   "metadata": {},
   "outputs": [
    {
     "name": "stdout",
     "output_type": "stream",
     "text": [
      "X = [-0.2080846   1.40627367], Y = [1]\n"
     ]
    }
   ],
   "source": [
    "# 建立其他沒看過的資料\n",
    "# (之前 random seed 設 0，這次要設不一樣)\n",
    "\n",
    "random_seed = 1\n",
    "num_analysis = 10000\n",
    "num_data = int(num_analysis/0.8)\n",
    "\n",
    "X, Y, _, _ = create_dataset(random_seed, num_data, \"xor\")\n",
    "\n",
    "# reshape for the model output\n",
    "Y = Y.reshape((-1,1))\n",
    "\n",
    "# normalize\n",
    "normalizer = normalization(X)\n",
    "X_n = normalizer.normalize(X)\n",
    "Y_n = normalizer.normalize(Y)\n",
    "\n",
    "\n",
    "print(f\"X = {X[0]}, Y = {Y[0]}\")"
   ]
  },
  {
   "cell_type": "markdown",
   "metadata": {},
   "source": [
    "### 調出 best model 的 best checkpoint 的參數"
   ]
  },
  {
   "cell_type": "code",
   "execution_count": 6,
   "metadata": {},
   "outputs": [
    {
     "data": {
      "text/plain": [
       "19"
      ]
     },
     "execution_count": 6,
     "metadata": {},
     "output_type": "execute_result"
    }
   ],
   "source": [
    "name_experiment = \"2024_0610_1241_part3\"\n",
    "n = 2\n",
    "nn_best, idx_best = get_best_model(name_experiment, n)\n",
    "idx_best"
   ]
  },
  {
   "cell_type": "markdown",
   "metadata": {},
   "source": [
    "### 比較不同輸入時，預測值、真實值的差異"
   ]
  },
  {
   "cell_type": "code",
   "execution_count": 7,
   "metadata": {},
   "outputs": [
    {
     "data": {
      "text/plain": [
       "0.02945750279437898"
      ]
     },
     "execution_count": 7,
     "metadata": {},
     "output_type": "execute_result"
    }
   ],
   "source": [
    "# 稍微計算一下 loss\n",
    "loss_average = nn_best.evaluate(X_n, Y_n)\n",
    "loss_average"
   ]
  },
  {
   "cell_type": "code",
   "execution_count": 8,
   "metadata": {},
   "outputs": [
    {
     "name": "stdout",
     "output_type": "stream",
     "text": [
      "x = [-0.2080846   1.40627367],\tpred = [1.11153769],\ty_pred = [1.7229559],\ty_pred_r = [2.],\ty = 1\n",
      "x = [1.26122229 1.34189489],\tpred = [-0.03351448],\ty_pred = [-0.56699138],\ty_pred_r = [-1.],\ty = 0\n",
      "x = [1.21319567 1.1331072 ],\tpred = [-0.07278464],\ty_pred = [-0.64552631],\ty_pred_r = [-1.],\ty = 0\n",
      "x = [-0.20656384 -0.02034635],\tpred = [0.0427556],\ty_pred = [-0.41446168],\ty_pred_r = [-0.],\ty = 0\n",
      "x = [1.30719563 1.30902471],\tpred = [-0.06418465],\ty_pred = [-0.6283275],\ty_pred_r = [-1.],\ty = 0\n",
      "x = [-0.20788664  0.85069635],\tpred = [0.84469136],\ty_pred = [1.18929985],\ty_pred_r = [1.],\ty = 1\n",
      "x = [-0.40172914 -0.36132896],\tpred = [-0.04541086],\ty_pred = [-0.5907825],\ty_pred_r = [-1.],\ty = 0\n",
      "x = [0.9726302 0.1777831],\tpred = [0.7245115],\ty_pred = [0.94895662],\ty_pred_r = [1.],\ty = 1\n",
      "x = [ 0.90409814 -0.01537417],\tpred = [0.860822],\ty_pred = [1.22155892],\ty_pred_r = [1.],\ty = 1\n",
      "x = [0.94905869 0.12622466],\tpred = [0.7586762],\ty_pred = [1.01728133],\ty_pred_r = [1.],\ty = 1\n",
      "x = [-0.44046905  1.10903608],\tpred = [1.09083704],\ty_pred = [1.68155744],\ty_pred_r = [2.],\ty = 1\n",
      "x = [0.89695776 0.11469975],\tpred = [0.70803966],\ty_pred = [0.9160152],\ty_pred_r = [1.],\ty = 1\n",
      "x = [ 0.86095172 -0.20522466],\tpred = [0.9666752],\ty_pred = [1.4332508],\ty_pred_r = [1.],\ty = 1\n",
      "x = [0.97507858 0.91823386],\tpred = [-0.07239669],\ty_pred = [-0.64475046],\ty_pred_r = [-1.],\ty = 0\n",
      "x = [0.93476319 1.32500236],\tpred = [0.2235734],\ty_pred = [-0.05285088],\ty_pred_r = [-0.],\ty = 0\n"
     ]
    },
    {
     "name": "stderr",
     "output_type": "stream",
     "text": [
      "C:\\Users\\vicky\\AppData\\Local\\Temp\\ipykernel_12504\\3828631978.py:9: DeprecationWarning: Conversion of an array with ndim > 0 to a scalar is deprecated, and will error in future. Ensure you extract a single element from your array before performing this operation. (Deprecated NumPy 1.25.)\n",
      "  diff[idx] = y[0] - y_pred[0]\n"
     ]
    },
    {
     "data": {
      "text/plain": [
       "0.0"
      ]
     },
     "execution_count": 8,
     "metadata": {},
     "output_type": "execute_result"
    }
   ],
   "source": [
    "# 比較輸入、預測值、標籤\n",
    "diff = np.zeros(num_analysis, dtype=int)\n",
    "for x, y, idx in zip(X, Y, range(num_analysis)):\n",
    "    x_n = normalizer.normalize(x)\n",
    "    pred = nn_best.forward([x_n])\n",
    "    y_pred = normalizer.unnormalize(pred)\n",
    "    y_pred_r = y_pred.round()\n",
    "    \n",
    "    diff[idx] = y[0] - y_pred[0]\n",
    "    if idx<15:\n",
    "        print(f\"x = {x},\\tpred = {pred[0]},\\ty_pred = {y_pred[0]},\\ty_pred_r = {y_pred_r[0]},\\ty = {y[0]}\")\n",
    "\n",
    "np.absolute(diff).mean()"
   ]
  },
  {
   "cell_type": "markdown",
   "metadata": {},
   "source": [
    "loss 還不錯"
   ]
  },
  {
   "cell_type": "markdown",
   "metadata": {},
   "source": [
    "## (3) 學習曲線\n",
    "最佳隱藏層數量下，30 次建模結果最佳解的學習曲線"
   ]
  },
  {
   "cell_type": "code",
   "execution_count": 9,
   "metadata": {},
   "outputs": [],
   "source": [
    "import numpy as np\n",
    "from module.for_model.checkpoint import get_best_model, load_checkpoint\n",
    "import matplotlib.pyplot as plt"
   ]
  },
  {
   "cell_type": "markdown",
   "metadata": {},
   "source": [
    "#### 調出 best model 的所有 checkpoint"
   ]
  },
  {
   "cell_type": "code",
   "execution_count": 10,
   "metadata": {},
   "outputs": [
    {
     "data": {
      "text/plain": [
       "19"
      ]
     },
     "execution_count": 10,
     "metadata": {},
     "output_type": "execute_result"
    }
   ],
   "source": [
    "name_experiment = \"2024_0610_1241_part3\"\n",
    "n = 2\n",
    "_, idx_best = get_best_model(name_experiment, n)\n",
    "idx_best"
   ]
  },
  {
   "cell_type": "code",
   "execution_count": 11,
   "metadata": {},
   "outputs": [
    {
     "data": {
      "text/plain": [
       "(30, 201, 2)"
      ]
     },
     "execution_count": 11,
     "metadata": {},
     "output_type": "execute_result"
    }
   ],
   "source": [
    "path_folder = f\"checkpoints\\\\{name_experiment}\\\\node_{n:02d}\"\n",
    "ttl_loss = load_checkpoint(path_folder, \"loss\")\n",
    "ttl_loss = np.array(ttl_loss)\n",
    "ttl_loss.shape"
   ]
  },
  {
   "cell_type": "markdown",
   "metadata": {},
   "source": [
    "#### 畫圖"
   ]
  },
  {
   "cell_type": "code",
   "execution_count": 12,
   "metadata": {},
   "outputs": [],
   "source": [
    "x = range(ttl_loss.shape[1])\n",
    "y_loss_in = ttl_loss[idx_best,:,0]      # in-sample loss        # 紅色\n",
    "y_loss_out = ttl_loss[idx_best,:,1]     # out-of-sample loss    # 藍色"
   ]
  },
  {
   "cell_type": "markdown",
   "metadata": {},
   "source": [
    "##### 觀察整體\n",
    "看起來學習曲線下降得非常快，但仍在穩定下降中"
   ]
  },
  {
   "cell_type": "code",
   "execution_count": 13,
   "metadata": {},
   "outputs": [
    {
     "data": {
      "text/plain": [
       "<matplotlib.legend.Legend at 0x206bcc90950>"
      ]
     },
     "execution_count": 13,
     "metadata": {},
     "output_type": "execute_result"
    },
    {
     "data": {
      "image/png": "[encoded data removed]",
      "text/plain": [
       "<Figure size 640x480 with 1 Axes>"
      ]
     },
     "metadata": {},
     "output_type": "display_data"
    }
   ],
   "source": [
    "plt.scatter(x, y_loss_in, s=0.5, label=\"loss_in\", color=\"r\")\n",
    "plt.scatter(x, y_loss_out, s=0.5, label=\"loss_out\")\n",
    "plt.legend(loc='center left', bbox_to_anchor=(1.1, 0.5), labelspacing=3)"
   ]
  },
  {
   "cell_type": "markdown",
   "metadata": {},
   "source": [
    "##### 觀察前期\n",
    "一開始 loss_out 低於 loss_in 的狀況，而且竟然呈現 Concave，很有趣。"
   ]
  },
  {
   "cell_type": "code",
   "execution_count": 14,
   "metadata": {},
   "outputs": [
    {
     "data": {
      "text/plain": [
       "(0.022, 0.031)"
      ]
     },
     "execution_count": 14,
     "metadata": {},
     "output_type": "execute_result"
    },
    {
     "data": {
      "image/png": "[encoded data removed]",
      "text/plain": [
       "<Figure size 640x480 with 1 Axes>"
      ]
     },
     "metadata": {},
     "output_type": "display_data"
    }
   ],
   "source": [
    "plt.scatter(x, y_loss_in, s=0.5, label=\"loss_in\", color=\"r\")\n",
    "plt.scatter(x, y_loss_out, s=0.5, label=\"loss_out\")\n",
    "plt.legend(loc='center left', bbox_to_anchor=(1.1, 0.5), labelspacing=3)\n",
    "plt.xlim([0,6.5])\n",
    "plt.ylim([0.022,0.031])"
   ]
  },
  {
   "cell_type": "markdown",
   "metadata": {},
   "source": [
    "##### 觀察轉折點\n",
    "oss_out 仍低於 loss_in，但轉而呈現正常的 Convex"
   ]
  },
  {
   "cell_type": "code",
   "execution_count": 15,
   "metadata": {},
   "outputs": [
    {
     "data": {
      "text/plain": [
       "(0.004, 0.027)"
      ]
     },
     "execution_count": 15,
     "metadata": {},
     "output_type": "execute_result"
    },
    {
     "data": {
      "image/png": "[encoded data removed]",
      "text/plain": [
       "<Figure size 640x480 with 1 Axes>"
      ]
     },
     "metadata": {},
     "output_type": "display_data"
    }
   ],
   "source": [
    "plt.scatter(x, y_loss_in, s=0.5, label=\"loss_in\", color=\"r\")\n",
    "plt.scatter(x, y_loss_out, s=0.5, label=\"loss_out\")\n",
    "\n",
    "# plt.plot(x, y_loss_in, label=\"loss_in\", color=\"r\")\n",
    "# plt.plot(x, y_loss_out, label=\"loss_out\")\n",
    "# plt.plot(x, y_loss_in, linewidth=1, label=\"loss_in\", color=\"r\")\n",
    "# plt.plot(x, y_loss_out, linewidth=1, label=\"loss_out\")\n",
    "plt.legend(loc='center left', bbox_to_anchor=(1.1, 0.5), labelspacing=3)\n",
    "plt.xlim([5,20])\n",
    "plt.ylim([0.004,0.027])"
   ]
  },
  {
   "cell_type": "markdown",
   "metadata": {},
   "source": [
    "##### 觀察後期\n",
    "loss_out 穩定低於 loss_in，很怪"
   ]
  },
  {
   "cell_type": "code",
   "execution_count": 16,
   "metadata": {},
   "outputs": [
    {
     "data": {
      "text/plain": [
       "(0.00254, 0.00265)"
      ]
     },
     "execution_count": 16,
     "metadata": {},
     "output_type": "execute_result"
    },
    {
     "data": {
      "image/png": "[encoded data removed]",
      "text/plain": [
       "<Figure size 640x480 with 1 Axes>"
      ]
     },
     "metadata": {},
     "output_type": "display_data"
    }
   ],
   "source": [
    "plt.plot(x, y_loss_in, linewidth=1, label=\"loss_in\", color=\"r\")\n",
    "plt.plot(x, y_loss_out, linewidth=1, label=\"loss_out\")\n",
    "plt.legend(loc='center left', bbox_to_anchor=(1.1, 0.5), labelspacing=3)\n",
    "plt.xlim([180,200])\n",
    "plt.ylim([0.00254,0.00265])"
   ]
  },
  {
   "cell_type": "markdown",
   "metadata": {},
   "source": [
    "## (4) Error Histogram\n",
    "最佳隱藏層數量下，30 次建模結果最佳解的 Error Histogram。"
   ]
  },
  {
   "cell_type": "code",
   "execution_count": 17,
   "metadata": {},
   "outputs": [],
   "source": [
    "import numpy as np\n",
    "from module.for_model.checkpoint import get_best_model\n",
    "from module.for_dataset.create_dataset import create_dataset\n",
    "from module.for_dataset.normalization import normalization\n",
    "import matplotlib.pyplot as plt"
   ]
  },
  {
   "cell_type": "markdown",
   "metadata": {},
   "source": [
    "### 調出 best model 的 best checkpoint 的參數"
   ]
  },
  {
   "cell_type": "code",
   "execution_count": 18,
   "metadata": {},
   "outputs": [],
   "source": [
    "name_experiment = \"2024_0610_1241_part3\"\n",
    "n = 2\n",
    "nn_best, _ = get_best_model(name_experiment, n)"
   ]
  },
  {
   "cell_type": "markdown",
   "metadata": {},
   "source": [
    "### 建立其他沒看過的資料"
   ]
  },
  {
   "cell_type": "code",
   "execution_count": 19,
   "metadata": {},
   "outputs": [
    {
     "data": {
      "text/plain": [
       "array([[0.95117997, 0.83606089],\n",
       "       [0.1923625 , 0.15234228],\n",
       "       [0.14710802, 0.72622475],\n",
       "       ...,\n",
       "       [0.66627579, 0.12821466],\n",
       "       [0.66651388, 0.03566454],\n",
       "       [0.07240527, 0.74354617]])"
      ]
     },
     "execution_count": 19,
     "metadata": {},
     "output_type": "execute_result"
    }
   ],
   "source": [
    "# 建立其他沒看過的資料\n",
    "# (之前 random seed 設 0，這次要設不一樣)\n",
    "\n",
    "random_seed = 2\n",
    "num_analysis = 10000\n",
    "num_data = int(num_analysis/0.8)\n",
    "\n",
    "X, Y, _, _ = create_dataset(random_seed, num_data, \"xor\")\n",
    "\n",
    "# reshape for the model output\n",
    "Y = Y.reshape((-1,1))\n",
    "\n",
    "# normalize\n",
    "normalizer = normalization(X-0.5)\n",
    "X_n = normalizer.normalize(X-0.5)\n",
    "# Y_n = normalizer.normalize(Y-5)\n",
    "\n",
    "X_n"
   ]
  },
  {
   "cell_type": "markdown",
   "metadata": {},
   "source": [
    "### 取得 error"
   ]
  },
  {
   "cell_type": "code",
   "execution_count": 20,
   "metadata": {},
   "outputs": [
    {
     "data": {
      "text/plain": [
       "array([ 1,  1,  0, ...,  0, -1, -1])"
      ]
     },
     "execution_count": 20,
     "metadata": {},
     "output_type": "execute_result"
    }
   ],
   "source": [
    "# 取得 error\n",
    "ttl_error = np.zeros(num_analysis, dtype=int)\n",
    "for x_n, y, idx in zip(X_n, Y, range(num_analysis)):\n",
    "    pred = nn_best.forward([x_n])\n",
    "    y_pred = 0.5 + normalizer.unnormalize(pred)\n",
    "    y_pred = y_pred.round()\n",
    "    ttl_error[idx] = y[0] - y_pred[0,0]\n",
    "ttl_error"
   ]
  },
  {
   "cell_type": "code",
   "execution_count": 21,
   "metadata": {},
   "outputs": [
    {
     "data": {
      "text/plain": [
       "(array([2596.,    0.,    0.,    0.,    0., 5038.,    0.,    0.,    0.,\n",
       "        2366.]),\n",
       " array([-1. , -0.8, -0.6, -0.4, -0.2,  0. ,  0.2,  0.4,  0.6,  0.8,  1. ]),\n",
       " <BarContainer object of 10 artists>)"
      ]
     },
     "execution_count": 21,
     "metadata": {},
     "output_type": "execute_result"
    },
    {
     "data": {
      "image/png": "[encoded data removed]",
      "text/plain": [
       "<Figure size 640x480 with 1 Axes>"
      ]
     },
     "metadata": {},
     "output_type": "display_data"
    }
   ],
   "source": [
    "# 畫圖\n",
    "plt.hist(ttl_error)"
   ]
  },
  {
   "cell_type": "code",
   "execution_count": 22,
   "metadata": {},
   "outputs": [
    {
     "data": {
      "text/plain": [
       "(0.0, 30.0)"
      ]
     },
     "execution_count": 22,
     "metadata": {},
     "output_type": "execute_result"
    },
    {
     "data": {
      "image/png": "[encoded data removed]",
      "text/plain": [
       "<Figure size 640x480 with 1 Axes>"
      ]
     },
     "metadata": {},
     "output_type": "display_data"
    }
   ],
   "source": [
    "# 畫圖\n",
    "plt.hist(ttl_error)\n",
    "plt.ylim([0,30])"
   ]
  },
  {
   "cell_type": "markdown",
   "metadata": {},
   "source": [
    "從長調圖可以看出:\n",
    "1. 正確率近乎100%\n",
    "2. 如果有錯誤，則比較偏向<b>誤判成不同類</b>"
   ]
  },
  {
   "cell_type": "markdown",
   "metadata": {},
   "source": []
  },
  {
   "cell_type": "markdown",
   "metadata": {},
   "source": [
    "## (5) 動畫"
   ]
  },
  {
   "cell_type": "code",
   "execution_count": 1,
   "metadata": {},
   "outputs": [],
   "source": [
    "import matplotlib.pyplot as plt\n",
    "import matplotlib.animation as animation\n",
    "from module.for_model.checkpoint import get_best_model, load_checkpoint\n",
    "from module.draw.draw import plot_decision_boundary"
   ]
  },
  {
   "cell_type": "markdown",
   "metadata": {},
   "source": [
    "### Epoch-Wise"
   ]
  },
  {
   "cell_type": "markdown",
   "metadata": {},
   "source": [
    "#### 調出 best model 的所有 checkpoint"
   ]
  },
  {
   "cell_type": "code",
   "execution_count": 2,
   "metadata": {},
   "outputs": [
    {
     "data": {
      "text/plain": [
       "19"
      ]
     },
     "execution_count": 2,
     "metadata": {},
     "output_type": "execute_result"
    }
   ],
   "source": [
    "name_experiment = \"2024_0610_1241_part3\"\n",
    "n = 2\n",
    "_, idx_best = get_best_model(name_experiment, n)\n",
    "idx_best"
   ]
  },
  {
   "cell_type": "code",
   "execution_count": 3,
   "metadata": {},
   "outputs": [
    {
     "data": {
      "text/plain": [
       "30"
      ]
     },
     "execution_count": 3,
     "metadata": {},
     "output_type": "execute_result"
    }
   ],
   "source": [
    "path_folder = f\"checkpoints\\\\{name_experiment}\\\\node_{n:02d}\"\n",
    "ttl_param = load_checkpoint(path_folder, \"param\")\n",
    "len(ttl_param)"
   ]
  },
  {
   "cell_type": "code",
   "execution_count": 4,
   "metadata": {},
   "outputs": [
    {
     "data": {
      "text/plain": [
       "201"
      ]
     },
     "execution_count": 4,
     "metadata": {},
     "output_type": "execute_result"
    }
   ],
   "source": [
    "ttl_checkpoint_4_best_model = ttl_param[idx_best]\n",
    "len(ttl_checkpoint_4_best_model)"
   ]
  },
  {
   "cell_type": "code",
   "execution_count": 5,
   "metadata": {},
   "outputs": [
    {
     "data": {
      "text/plain": [
       "201"
      ]
     },
     "execution_count": 5,
     "metadata": {},
     "output_type": "execute_result"
    }
   ],
   "source": [
    "ttl_w = [param[0] for param in ttl_checkpoint_4_best_model]\n",
    "ttl_b = [param[1] for param in ttl_checkpoint_4_best_model]\n",
    "params = [(w,b[0]) for w,b in zip(ttl_w, ttl_b)]\n",
    "len(params)"
   ]
  },
  {
   "cell_type": "code",
   "execution_count": 6,
   "metadata": {},
   "outputs": [
    {
     "name": "stderr",
     "output_type": "stream",
     "text": [
      "MovieWriter imagemagick unavailable; using Pillow instead.\n"
     ]
    },
    {
     "data": {
      "image/png": "[encoded data removed]",
      "text/plain": [
       "<Figure size 640x480 with 1 Axes>"
      ]
     },
     "metadata": {},
     "output_type": "display_data"
    }
   ],
   "source": [
    "num_epoch = 101\n",
    "fig, ax = plt.subplots()\n",
    "ani = animation.FuncAnimation(fig, plot_decision_boundary, fargs=(params, ax), frames=num_epoch, repeat=False, interval=0.1)\n",
    "\n",
    "# 保存動畫\n",
    "ani.save('GIFs/2024_0610_1241_part3_tanh.gif', writer='imagemagick')\n"
   ]
  },
  {
   "cell_type": "code",
   "execution_count": null,
   "metadata": {},
   "outputs": [],
   "source": []
  }
 ],
 "metadata": {
  "kernelspec": {
   "display_name": "Python 3",
   "language": "python",
   "name": "python3"
  },
  "language_info": {
   "codemirror_mode": {
    "name": "ipython",
    "version": 3
   },
   "file_extension": ".py",
   "mimetype": "text/x-python",
   "name": "python",
   "nbconvert_exporter": "python",
   "pygments_lexer": "ipython3",
   "version": "3.11.9"
  }
 },
 "nbformat": 4,
 "nbformat_minor": 2
}
