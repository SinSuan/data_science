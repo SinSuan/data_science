{
 "cells": [
  {
   "cell_type": "markdown",
   "metadata": {},
   "source": [
    "# Drawing"
   ]
  },
  {
   "cell_type": "markdown",
   "metadata": {},
   "source": [
    "## (1) 盒鬚圖\n",
    "不同隱藏層神經元數量 (n=[1,20])下的 30 次建模結果盒鬚圖"
   ]
  },
  {
   "cell_type": "code",
   "execution_count": 7,
   "metadata": {},
   "outputs": [],
   "source": [
    "from module.for_model.checkpoint import specific_loss\n",
    "import matplotlib.pyplot as plt"
   ]
  },
  {
   "cell_type": "code",
   "execution_count": 8,
   "metadata": {},
   "outputs": [],
   "source": [
    "name_test = \"2024_0606_0319_part3\"\n",
    "n = 2"
   ]
  },
  {
   "cell_type": "code",
   "execution_count": 9,
   "metadata": {},
   "outputs": [
    {
     "data": {
      "image/png": "[encoded data removed]",
      "text/plain": [
       "<Figure size 640x480 with 1 Axes>"
      ]
     },
     "metadata": {},
     "output_type": "display_data"
    }
   ],
   "source": [
    "# 拿每個模型最好的 checkpoint 的 loss\n",
    "# in-sample loss 跟 out-of-sample loss 可能拿不同的 checkpoint\n",
    "loss_in, _ = specific_loss(name_test, n, type_loss=0)\n",
    "loss_out, _ = specific_loss(name_test, n, type_loss=1)\n",
    "\n",
    "ttl_loss = [loss_in, loss_out]\n",
    "loss_name = [\"loss_in\", \"loss_out\"]\n",
    "plt.boxplot(ttl_loss, patch_artist=True, tick_labels=loss_name)\n",
    "\n",
    "# 添加标题和标签\n",
    "# plt.title(\"Model with Different Hidden Nodes\")\n",
    "plt.xlabel(\"Number of Nodes\")\n",
    "plt.ylabel(\"Loss\")\n",
    "\n",
    "# 显示图表\n",
    "plt.show()"
   ]
  },
  {
   "cell_type": "markdown",
   "metadata": {},
   "source": [
    "兩者分布幾乎相同"
   ]
  },
  {
   "cell_type": "markdown",
   "metadata": {},
   "source": [
    "## (2) 真實 vs 預測\n",
    "最佳隱藏層數量下，30 次建模結果最佳解的真實與預測解比較"
   ]
  },
  {
   "cell_type": "code",
   "execution_count": 10,
   "metadata": {},
   "outputs": [],
   "source": [
    "import numpy as np\n",
    "from module.for_model.checkpoint import get_best_model\n",
    "from module.for_dataset.create_dataset import create_dataset\n",
    "from module.for_dataset.normalization import normalization"
   ]
  },
  {
   "cell_type": "markdown",
   "metadata": {},
   "source": [
    "### 調出 best model 的 best checkpoint 的參數"
   ]
  },
  {
   "cell_type": "code",
   "execution_count": 11,
   "metadata": {},
   "outputs": [],
   "source": [
    "name_experiment = \"2024_0606_0319_part3\"\n",
    "n = 2\n",
    "nn_best, _ = get_best_model(name_experiment, n)"
   ]
  },
  {
   "cell_type": "markdown",
   "metadata": {},
   "source": [
    "### 建立其他沒看過的資料"
   ]
  },
  {
   "cell_type": "code",
   "execution_count": 12,
   "metadata": {},
   "outputs": [
    {
     "name": "stdout",
     "output_type": "stream",
     "text": [
      "X = [1.47137841 0.00422715], Y = [1]\n"
     ]
    }
   ],
   "source": [
    "# 建立其他沒看過的資料\n",
    "# (之前 random seed 設 0，這次要設不一樣)\n",
    "\n",
    "random_seed = 1\n",
    "num_analysis = 1000\n",
    "num_data = int(num_analysis/0.8)\n",
    "\n",
    "X, Y, _, _ = create_dataset(random_seed, num_data, \"xor\")\n",
    "\n",
    "# reshape for the model output\n",
    "Y = Y.reshape((-1,1))\n",
    "\n",
    "# normalize\n",
    "normalizer = normalization(X-5)\n",
    "X_n = normalizer.normalize(X-5)\n",
    "Y_n = normalizer.normalize(Y-5)\n",
    "\n",
    "\n",
    "print(f\"X = {X[0]}, Y = {Y[0]}\")"
   ]
  },
  {
   "cell_type": "markdown",
   "metadata": {},
   "source": [
    "### 比較不同輸入時，預測值、真實值的差異"
   ]
  },
  {
   "cell_type": "code",
   "execution_count": 13,
   "metadata": {},
   "outputs": [
    {
     "data": {
      "text/plain": [
       "0.012426286027653029"
      ]
     },
     "execution_count": 13,
     "metadata": {},
     "output_type": "execute_result"
    }
   ],
   "source": [
    "# 稍微計算一下 loss\n",
    "loss_average = nn_best.evaluate(X_n, Y_n)\n",
    "loss_average"
   ]
  },
  {
   "cell_type": "code",
   "execution_count": 14,
   "metadata": {},
   "outputs": [
    {
     "name": "stdout",
     "output_type": "stream",
     "text": [
      "x = [1.47137841 0.00422715],\ty_pred = -5.0,\ty = 1\n",
      "x = [-0.49991994  1.14351808],\ty_pred = -5.0,\ty = 1\n",
      "x = [-0.39727088  1.22367555],\ty_pred = -5.0,\ty = 1\n",
      "x = [0.90162131 1.03427637],\ty_pred = -5.0,\ty = 0\n",
      "x = [1.1223038  0.88947516],\ty_pred = -5.0,\ty = 0\n",
      "x = [-0.20656384 -0.02034635],\ty_pred = -5.0,\ty = 0\n",
      "x = [-0.35688343  0.11468221],\ty_pred = -5.0,\ty = 0\n",
      "x = [-0.48082868  1.08572698],\ty_pred = -5.0,\ty = 1\n",
      "x = [ 1.27814483 -0.10891712],\ty_pred = -5.0,\ty = 1\n",
      "x = [-0.40172914  1.28601486],\ty_pred = -5.0,\ty = 1\n",
      "x = [-0.28060308 -0.01537417],\ty_pred = -5.0,\ty = 0\n",
      "x = [0.11347241 0.12622466],\ty_pred = -5.0,\ty = 0\n",
      "x = [-0.38111871  1.04088354],\ty_pred = -5.0,\ty = 1\n",
      "x = [1.28344736 0.84029733],\ty_pred = -5.0,\ty = 0\n",
      "x = [-0.01568602  1.45068526],\ty_pred = -5.0,\ty = 1\n",
      "x = [0.90215024 0.02510102],\ty_pred = -5.0,\ty = 1\n",
      "x = [1.17225433 1.3472007 ],\ty_pred = -5.0,\ty = 0\n",
      "x = [0.93191765 1.40417788],\ty_pred = -5.0,\ty = 0\n",
      "x = [ 1.09504371 -0.40898   ],\ty_pred = -5.0,\ty = 1\n",
      "x = [ 1.47951941 -0.02481513],\ty_pred = -5.0,\ty = 1\n",
      "x = [0.99174267 0.87357495],\ty_pred = -5.0,\ty = 0\n",
      "x = [-0.15589879  1.00230776],\ty_pred = -5.0,\ty = 1\n",
      "x = [ 1.15931024 -0.39729   ],\ty_pred = -5.0,\ty = 1\n",
      "x = [-0.08748612  1.35296346],\ty_pred = -5.0,\ty = 1\n",
      "x = [ 1.40270796 -0.21016081],\ty_pred = -5.0,\ty = 1\n",
      "x = [-0.01391989 -0.21007451],\ty_pred = -5.0,\ty = 0\n",
      "x = [ 1.407767   -0.12487252],\ty_pred = -5.0,\ty = 1\n",
      "x = [ 0.87402095 -0.13957762],\ty_pred = -5.0,\ty = 1\n",
      "x = [ 0.16121633 -0.08941147],\ty_pred = -5.0,\ty = 0\n",
      "x = [0.13238134 0.88311128],\ty_pred = -5.0,\ty = 1\n",
      "x = [1.02256133 1.46555498],\ty_pred = -5.0,\ty = 0\n",
      "x = [ 0.9451846  -0.38425206],\ty_pred = -5.0,\ty = 1\n",
      "x = [0.02556847 0.00819859],\ty_pred = -5.0,\ty = 0\n",
      "x = [1.12345894 1.32913077],\ty_pred = -5.0,\ty = 0\n",
      "x = [1.1353975  0.12712035],\ty_pred = -5.0,\ty = 1\n",
      "x = [-0.20033617  1.02394169],\ty_pred = -5.0,\ty = 1\n",
      "x = [-0.03559095  0.83285159],\ty_pred = -5.0,\ty = 1\n",
      "x = [ 1.13704007 -0.09512727],\ty_pred = -5.0,\ty = 1\n",
      "x = [ 0.13236566 -0.09842436],\ty_pred = -5.0,\ty = 0\n",
      "x = [ 1.15839946 -0.06799856],\ty_pred = -5.0,\ty = 1\n",
      "x = [ 0.99410653 -0.13105933],\ty_pred = -5.0,\ty = 1\n",
      "x = [ 0.99876562 -0.24991117],\ty_pred = -5.0,\ty = 1\n",
      "x = [ 0.13597461 -0.06364792],\ty_pred = -5.0,\ty = 0\n",
      "x = [1.4598189  1.14810285],\ty_pred = -5.0,\ty = 0\n",
      "x = [ 0.90441166 -0.40400498],\ty_pred = -5.0,\ty = 1\n",
      "x = [-0.45379988  0.02882414],\ty_pred = -5.0,\ty = 0\n",
      "x = [0.02771333 0.14611717],\ty_pred = -5.0,\ty = 0\n",
      "x = [-0.00193267  1.23399454],\ty_pred = -5.0,\ty = 1\n",
      "x = [ 1.23065518 -0.48165231],\ty_pred = -5.0,\ty = 1\n",
      "x = [1.49102816 1.19367612],\ty_pred = -5.0,\ty = 0\n",
      "x = [1.40509138 1.09309607],\ty_pred = -5.0,\ty = 0\n",
      "x = [-0.11302461  1.44768283],\ty_pred = -5.0,\ty = 1\n",
      "x = [1.26490557 1.01215647],\ty_pred = -5.0,\ty = 0\n",
      "x = [-0.10727885 -0.4869469 ],\ty_pred = -5.0,\ty = 0\n",
      "x = [0.91222626 1.14071726],\ty_pred = -5.0,\ty = 0\n",
      "x = [ 0.06497364 -0.22849755],\ty_pred = -5.0,\ty = 0\n",
      "x = [0.1044793  1.12818726],\ty_pred = -5.0,\ty = 1\n",
      "x = [-0.11063184  1.38986741],\ty_pred = -5.0,\ty = 1\n",
      "x = [1.37946227 0.80803286],\ty_pred = -5.0,\ty = 0\n",
      "x = [-0.46881369  1.49991305],\ty_pred = -5.0,\ty = 1\n",
      "x = [ 0.88377829 -0.00090771],\ty_pred = -5.0,\ty = 1\n",
      "x = [1.35301831 0.88554974],\ty_pred = -5.0,\ty = 0\n",
      "x = [1.26368643 1.14165631],\ty_pred = -5.0,\ty = 0\n",
      "x = [ 0.93600299 -0.35769474],\ty_pred = -5.0,\ty = 1\n",
      "x = [1.31857881 1.19387102],\ty_pred = -5.0,\ty = 0\n",
      "x = [0.17901399 0.88327578],\ty_pred = -5.0,\ty = 1\n",
      "x = [ 1.01562589 -0.1543612 ],\ty_pred = -5.0,\ty = 1\n",
      "x = [-0.066031    0.08028663],\ty_pred = -5.0,\ty = 0\n",
      "x = [1.35306686 0.19203131],\ty_pred = -5.0,\ty = 1\n",
      "x = [-0.11433625  0.0217341 ],\ty_pred = -5.0,\ty = 0\n",
      "x = [0.95048354 0.82300568],\ty_pred = -5.0,\ty = 0\n",
      "x = [-0.45356562  0.92640324],\ty_pred = -5.0,\ty = 1\n",
      "x = [-0.05919775 -0.35287819],\ty_pred = -5.0,\ty = 0\n",
      "x = [ 0.92872692 -0.45342446],\ty_pred = -5.0,\ty = 1\n",
      "x = [1.44345812 0.97602092],\ty_pred = -5.0,\ty = 0\n",
      "x = [-0.364596    1.47235313],\ty_pred = -5.0,\ty = 1\n",
      "x = [-0.13273078  1.01746389],\ty_pred = -5.0,\ty = 1\n",
      "x = [ 1.13066141 -0.45382724],\ty_pred = -5.0,\ty = 1\n",
      "x = [1.30832081 1.46803849],\ty_pred = -5.0,\ty = 0\n",
      "x = [1.04574587 1.45602186],\ty_pred = -5.0,\ty = 0\n",
      "x = [1.07738156 1.11356218],\ty_pred = -5.0,\ty = 0\n",
      "x = [ 1.37209392 -0.15980653],\ty_pred = -5.0,\ty = 1\n",
      "x = [-0.07698266  1.48571851],\ty_pred = -5.0,\ty = 1\n",
      "x = [-0.22358707  1.32316791],\ty_pred = -5.0,\ty = 1\n",
      "x = [-0.37823103 -0.41156934],\ty_pred = -5.0,\ty = 0\n",
      "x = [ 0.97639332 -0.14603648],\ty_pred = -5.0,\ty = 1\n",
      "x = [-0.48493264  1.02051896],\ty_pred = -5.0,\ty = 1\n",
      "x = [-0.37666262  1.13973622],\ty_pred = -5.0,\ty = 1\n",
      "x = [1.49508695 0.06664348],\ty_pred = -5.0,\ty = 1\n",
      "x = [0.82475334 0.15807524],\ty_pred = -5.0,\ty = 1\n",
      "x = [1.15231475 0.8369487 ],\ty_pred = -5.0,\ty = 0\n",
      "x = [0.09131411 0.13377462],\ty_pred = -5.0,\ty = 0\n",
      "x = [1.45049123 1.08145472],\ty_pred = -5.0,\ty = 0\n",
      "x = [-0.48912671 -0.08456301],\ty_pred = -5.0,\ty = 0\n",
      "x = [1.41127179 1.17363276],\ty_pred = -5.0,\ty = 0\n",
      "x = [1.29406686 1.48538924],\ty_pred = -5.0,\ty = 0\n",
      "x = [1.34961568 1.33530834],\ty_pred = -5.0,\ty = 0\n",
      "x = [1.27281326 1.3568519 ],\ty_pred = -5.0,\ty = 0\n",
      "x = [-0.02465181  0.14302124],\ty_pred = -5.0,\ty = 0\n",
      "x = [1.28677828 0.1837314 ],\ty_pred = -5.0,\ty = 1\n",
      "x = [1.27222481 0.92339329],\ty_pred = -5.0,\ty = 0\n",
      "x = [1.45541592 1.43236509],\ty_pred = -5.0,\ty = 0\n",
      "x = [ 0.99263512 -0.08921666],\ty_pred = -5.0,\ty = 1\n",
      "x = [0.02501523 1.20482567],\ty_pred = -5.0,\ty = 1\n",
      "x = [ 0.9397519  -0.01135993],\ty_pred = -5.0,\ty = 1\n",
      "x = [ 0.89650144 -0.2741233 ],\ty_pred = -5.0,\ty = 1\n",
      "x = [ 1.11750253 -0.21243206],\ty_pred = -5.0,\ty = 1\n",
      "x = [-0.21896429  0.88444296],\ty_pred = -5.0,\ty = 1\n",
      "x = [-0.06465644 -0.19882691],\ty_pred = -5.0,\ty = 0\n",
      "x = [ 0.18166145 -0.02553938],\ty_pred = -5.0,\ty = 0\n",
      "x = [-0.36100108 -0.20130929],\ty_pred = -5.0,\ty = 0\n",
      "x = [1.07139359 1.00828425],\ty_pred = -5.0,\ty = 0\n",
      "x = [1.27568913 0.82455153],\ty_pred = -5.0,\ty = 0\n",
      "x = [1.45996559 1.36191279],\ty_pred = -5.0,\ty = 0\n",
      "x = [-0.13059975  0.96304083],\ty_pred = -5.0,\ty = 1\n",
      "x = [-0.09925804  1.41774827],\ty_pred = -5.0,\ty = 1\n",
      "x = [-0.13669186  0.03961874],\ty_pred = -5.0,\ty = 0\n",
      "x = [ 0.98273481 -0.17400308],\ty_pred = -5.0,\ty = 1\n",
      "x = [ 1.31341339 -0.45225346],\ty_pred = -5.0,\ty = 1\n",
      "x = [-0.23545307  1.02869088],\ty_pred = -5.0,\ty = 1\n",
      "x = [ 0.18797198 -0.372871  ],\ty_pred = -5.0,\ty = 0\n",
      "x = [-0.01811072 -0.10135391],\ty_pred = -5.0,\ty = 0\n",
      "x = [ 1.15910861 -0.17318398],\ty_pred = -5.0,\ty = 1\n",
      "x = [ 0.92028083 -0.34247203],\ty_pred = -5.0,\ty = 1\n",
      "x = [-0.08524169 -0.28141111],\ty_pred = -5.0,\ty = 0\n",
      "x = [0.14141389 1.25617882],\ty_pred = -5.0,\ty = 1\n",
      "x = [ 0.90605984 -0.35426389],\ty_pred = -5.0,\ty = 1\n",
      "x = [0.91548059 0.09617031],\ty_pred = -5.0,\ty = 1\n",
      "x = [-0.2089059   1.40110058],\ty_pred = -5.0,\ty = 1\n",
      "x = [-0.3364337  -0.42862292],\ty_pred = -5.0,\ty = 0\n",
      "x = [ 0.81285385 -0.16600131],\ty_pred = -5.0,\ty = 1\n",
      "x = [0.87655736 0.92147985],\ty_pred = -5.0,\ty = 0\n",
      "x = [1.20387226 0.97615988],\ty_pred = -5.0,\ty = 0\n",
      "x = [ 1.01012028 -0.13645372],\ty_pred = -5.0,\ty = 1\n",
      "x = [ 0.9327142 -0.4843687],\ty_pred = -5.0,\ty = 1\n",
      "x = [1.15691178 1.15810592],\ty_pred = -5.0,\ty = 0\n",
      "x = [ 1.49799716 -0.12309159],\ty_pred = -5.0,\ty = 1\n",
      "x = [0.10662579 0.16486419],\ty_pred = -5.0,\ty = 0\n",
      "x = [-0.43087962  1.37972615],\ty_pred = -5.0,\ty = 1\n",
      "x = [0.83520366 1.47408863],\ty_pred = -5.0,\ty = 0\n",
      "x = [ 0.05973068 -0.47580015],\ty_pred = -5.0,\ty = 0\n",
      "x = [1.20070157 1.38406577],\ty_pred = -5.0,\ty = 0\n",
      "x = [1.06930125 0.86372861],\ty_pred = -5.0,\ty = 0\n",
      "x = [ 1.05325703 -0.18769764],\ty_pred = -5.0,\ty = 1\n",
      "x = [1.40814521 0.90674772],\ty_pred = -5.0,\ty = 0\n",
      "x = [ 1.44974505 -0.12090843],\ty_pred = -5.0,\ty = 1\n",
      "x = [0.18231826 1.37921086],\ty_pred = -5.0,\ty = 1\n",
      "x = [-0.13150185 -0.40520047],\ty_pred = -5.0,\ty = 0\n",
      "x = [-0.25100638 -0.481647  ],\ty_pred = -5.0,\ty = 0\n",
      "x = [1.02875428 0.02194603],\ty_pred = -5.0,\ty = 1\n",
      "x = [-0.47872022  1.26001553],\ty_pred = -5.0,\ty = 1\n",
      "x = [ 0.10364238 -0.0151256 ],\ty_pred = -5.0,\ty = 0\n",
      "x = [ 1.06614462 -0.36795424],\ty_pred = -5.0,\ty = 1\n",
      "x = [-0.190667    1.19535036],\ty_pred = -5.0,\ty = 1\n",
      "x = [1.15125518 1.11666337],\ty_pred = -5.0,\ty = 0\n",
      "x = [ 1.31258951 -0.18011727],\ty_pred = -5.0,\ty = 1\n",
      "x = [ 1.13548999 -0.14403863],\ty_pred = -5.0,\ty = 1\n",
      "x = [1.19875749 0.9714656 ],\ty_pred = -5.0,\ty = 0\n",
      "x = [-0.29186803 -0.48067579],\ty_pred = -5.0,\ty = 0\n",
      "x = [1.14174626 1.02255512],\ty_pred = -5.0,\ty = 0\n",
      "x = [-0.14220097 -0.12133374],\ty_pred = -5.0,\ty = 0\n",
      "x = [0.85872675 0.87599109],\ty_pred = -5.0,\ty = 0\n",
      "x = [1.17047915 1.26209927],\ty_pred = -5.0,\ty = 0\n",
      "x = [0.82644444 1.09019402],\ty_pred = -5.0,\ty = 0\n",
      "x = [-0.42368687  0.80078038],\ty_pred = -5.0,\ty = 1\n",
      "x = [ 0.03634797 -0.26028212],\ty_pred = -5.0,\ty = 0\n",
      "x = [ 0.07680691 -0.06145269],\ty_pred = -5.0,\ty = 0\n",
      "x = [-0.39960387  1.28330381],\ty_pred = -5.0,\ty = 1\n",
      "x = [-0.48716715 -0.4532925 ],\ty_pred = -5.0,\ty = 0\n",
      "x = [ 1.34447443 -0.42066065],\ty_pred = -5.0,\ty = 1\n",
      "x = [-0.18331662 -0.18493928],\ty_pred = -5.0,\ty = 0\n",
      "x = [-0.16534925 -0.16819725],\ty_pred = -5.0,\ty = 0\n",
      "x = [0.8575008  1.43443455],\ty_pred = -5.0,\ty = 0\n",
      "x = [ 0.13328031 -0.47405727],\ty_pred = -5.0,\ty = 0\n",
      "x = [1.4742691  1.33133781],\ty_pred = -5.0,\ty = 0\n",
      "x = [1.02787821 0.86009451],\ty_pred = -5.0,\ty = 0\n",
      "x = [-0.1229609  -0.49788743],\ty_pred = -5.0,\ty = 0\n",
      "x = [1.06943639 1.19992481],\ty_pred = -5.0,\ty = 0\n",
      "x = [1.32902    1.45859319],\ty_pred = -5.0,\ty = 0\n",
      "x = [1.22862564 1.02077733],\ty_pred = -5.0,\ty = 0\n",
      "x = [1.02378354 1.2625874 ],\ty_pred = -5.0,\ty = 0\n",
      "x = [0.13650524 0.94540263],\ty_pred = -5.0,\ty = 1\n",
      "x = [ 0.85795716 -0.37859888],\ty_pred = -5.0,\ty = 1\n",
      "x = [1.18330219 0.06882741],\ty_pred = -5.0,\ty = 1\n",
      "x = [ 0.07336243 -0.28258892],\ty_pred = -5.0,\ty = 0\n",
      "x = [ 1.24726347 -0.27987309],\ty_pred = -5.0,\ty = 1\n",
      "x = [0.13754098 1.41374393],\ty_pred = -5.0,\ty = 1\n",
      "x = [ 1.49217532 -0.14139512],\ty_pred = -5.0,\ty = 1\n",
      "x = [0.15722053 0.89889553],\ty_pred = -5.0,\ty = 1\n",
      "x = [0.00181506 1.05680152],\ty_pred = -5.0,\ty = 1\n",
      "x = [1.00432665 1.11216697],\ty_pred = -5.0,\ty = 0\n",
      "x = [1.22744276 0.94904021],\ty_pred = -5.0,\ty = 0\n",
      "x = [ 1.01531201 -0.06018367],\ty_pred = -5.0,\ty = 1\n",
      "x = [-0.2969322   1.49690405],\ty_pred = -5.0,\ty = 1\n",
      "x = [ 1.48677599 -0.28198905],\ty_pred = -5.0,\ty = 1\n",
      "x = [-0.13791268  0.1414841 ],\ty_pred = -5.0,\ty = 0\n",
      "x = [1.17878462 1.11740472],\ty_pred = -5.0,\ty = 0\n",
      "x = [-0.24009437  0.15230278],\ty_pred = -5.0,\ty = 0\n",
      "x = [0.15580787 1.10767737],\ty_pred = -5.0,\ty = 1\n",
      "x = [ 0.91793388 -0.3404698 ],\ty_pred = -5.0,\ty = 1\n",
      "x = [-0.43876245  0.8251154 ],\ty_pred = -5.0,\ty = 1\n",
      "x = [0.93395121 1.4842189 ],\ty_pred = -5.0,\ty = 0\n",
      "x = [ 1.25226351 -0.37040872],\ty_pred = -5.0,\ty = 1\n",
      "x = [-0.00868643  1.26884236],\ty_pred = -5.0,\ty = 1\n",
      "x = [1.2794468  1.31854727],\ty_pred = -5.0,\ty = 0\n",
      "x = [ 0.9096007  -0.37769589],\ty_pred = -5.0,\ty = 1\n",
      "x = [-0.1004989  0.1977274],\ty_pred = -5.0,\ty = 0\n",
      "x = [ 0.80184226 -0.08393916],\ty_pred = -5.0,\ty = 1\n",
      "x = [0.18319235 0.94307081],\ty_pred = -5.0,\ty = 1\n",
      "x = [ 1.41867231 -0.4542398 ],\ty_pred = -5.0,\ty = 1\n",
      "x = [-0.1837868  -0.23719562],\ty_pred = -5.0,\ty = 0\n",
      "x = [0.18274502 1.40374048],\ty_pred = -5.0,\ty = 1\n",
      "x = [0.18095131 1.0972289 ],\ty_pred = -5.0,\ty = 1\n",
      "x = [-0.03188706 -0.16618237],\ty_pred = -5.0,\ty = 0\n",
      "x = [-0.15554974  1.38719138],\ty_pred = -5.0,\ty = 1\n",
      "x = [0.90904413 1.20199835],\ty_pred = -5.0,\ty = 0\n",
      "x = [-0.40363608 -0.49237789],\ty_pred = -5.0,\ty = 0\n",
      "x = [ 0.80341393 -0.27603301],\ty_pred = -5.0,\ty = 1\n",
      "x = [ 1.38726146 -0.34583604],\ty_pred = -5.0,\ty = 1\n",
      "x = [ 1.39602814 -0.02830569],\ty_pred = -5.0,\ty = 1\n",
      "x = [1.15068881 1.31073636],\ty_pred = -5.0,\ty = 0\n",
      "x = [0.9811052  1.44514584],\ty_pred = -5.0,\ty = 0\n",
      "x = [-0.02927111  1.2332513 ],\ty_pred = -5.0,\ty = 1\n",
      "x = [0.99110619 0.14035208],\ty_pred = -5.0,\ty = 1\n",
      "x = [-0.04894724  1.37151687],\ty_pred = -5.0,\ty = 1\n",
      "x = [0.80803072 0.91657635],\ty_pred = -5.0,\ty = 0\n",
      "x = [ 0.0812797  -0.04559206],\ty_pred = -5.0,\ty = 0\n",
      "x = [ 1.14473646 -0.09505029],\ty_pred = -5.0,\ty = 1\n",
      "x = [ 1.33759089 -0.25329926],\ty_pred = -5.0,\ty = 1\n",
      "x = [0.09907986 0.95741249],\ty_pred = -5.0,\ty = 1\n",
      "x = [ 0.02312457 -0.29727808],\ty_pred = -5.0,\ty = 0\n",
      "x = [0.06538889 1.06604984],\ty_pred = -5.0,\ty = 1\n",
      "x = [1.00803146 0.81163687],\ty_pred = -5.0,\ty = 0\n",
      "x = [1.07115781 1.4446391 ],\ty_pred = -5.0,\ty = 0\n",
      "x = [-0.3501215  -0.36073645],\ty_pred = -5.0,\ty = 0\n",
      "x = [1.02305281 0.96188501],\ty_pred = -5.0,\ty = 0\n",
      "x = [1.46921371 1.19522707],\ty_pred = -5.0,\ty = 0\n",
      "x = [-0.44362933 -0.33780838],\ty_pred = -5.0,\ty = 0\n",
      "x = [-0.35466204  0.14213349],\ty_pred = -5.0,\ty = 0\n",
      "x = [ 1.33635736 -0.11228077],\ty_pred = -5.0,\ty = 1\n",
      "x = [-0.28683741  0.08439783],\ty_pred = -5.0,\ty = 0\n",
      "x = [1.16225888 1.08951871],\ty_pred = -5.0,\ty = 0\n",
      "x = [-0.00576374  1.41873775],\ty_pred = -5.0,\ty = 1\n",
      "x = [0.99291525 0.18323049],\ty_pred = -5.0,\ty = 1\n",
      "x = [ 1.48920585 -0.35817851],\ty_pred = -5.0,\ty = 1\n",
      "x = [-0.19817277  1.25690076],\ty_pred = -5.0,\ty = 1\n",
      "x = [0.89011212 1.340349  ],\ty_pred = -5.0,\ty = 0\n",
      "x = [-0.36787845 -0.04927305],\ty_pred = -5.0,\ty = 0\n",
      "x = [1.28198864 0.81844352],\ty_pred = -5.0,\ty = 0\n",
      "x = [1.49235298 1.02291998],\ty_pred = -5.0,\ty = 0\n",
      "x = [-0.0532469  -0.08201089],\ty_pred = -5.0,\ty = 0\n",
      "x = [1.48127679 0.01212453],\ty_pred = -5.0,\ty = 1\n",
      "x = [ 0.16171591 -0.20210703],\ty_pred = -5.0,\ty = 0\n",
      "x = [ 0.04752727 -0.46070127],\ty_pred = -5.0,\ty = 0\n",
      "x = [1.41728344 1.41156856],\ty_pred = -5.0,\ty = 0\n",
      "x = [1.49126324 1.30108238],\ty_pred = -5.0,\ty = 0\n",
      "x = [0.87782387 1.40575487],\ty_pred = -5.0,\ty = 0\n",
      "x = [-0.15411861  1.09353261],\ty_pred = -5.0,\ty = 1\n",
      "x = [1.25222118 1.22356939],\ty_pred = -5.0,\ty = 0\n",
      "x = [-0.14445481  1.07030536],\ty_pred = -5.0,\ty = 1\n",
      "x = [0.05128629 1.3283655 ],\ty_pred = -5.0,\ty = 1\n",
      "x = [0.18999618 0.85034888],\ty_pred = -5.0,\ty = 1\n",
      "x = [-0.09931642  1.34631985],\ty_pred = -5.0,\ty = 1\n",
      "x = [0.95947812 0.82151997],\ty_pred = -5.0,\ty = 0\n",
      "x = [1.13486028 0.01805428],\ty_pred = -5.0,\ty = 1\n",
      "x = [ 1.18255805 -0.11423898],\ty_pred = -5.0,\ty = 1\n",
      "x = [-0.34836795  0.80948104],\ty_pred = -5.0,\ty = 1\n",
      "x = [1.30000686 1.00671978],\ty_pred = -5.0,\ty = 0\n",
      "x = [ 1.4904818  -0.48615743],\ty_pred = -5.0,\ty = 1\n",
      "x = [ 1.19228083 -0.10876733],\ty_pred = -5.0,\ty = 1\n",
      "x = [0.93445297 0.03112285],\ty_pred = -5.0,\ty = 1\n",
      "x = [0.0018503  1.06446948],\ty_pred = -5.0,\ty = 1\n",
      "x = [ 0.87836881 -0.49734443],\ty_pred = -5.0,\ty = 1\n",
      "x = [1.24693457 0.88554866],\ty_pred = -5.0,\ty = 0\n",
      "x = [1.16803283 1.25520284],\ty_pred = -5.0,\ty = 0\n",
      "x = [1.2308305  1.36970869],\ty_pred = -5.0,\ty = 0\n",
      "x = [0.02543702 1.23272729],\ty_pred = -5.0,\ty = 1\n",
      "x = [-0.21869385 -0.01188439],\ty_pred = -5.0,\ty = 0\n",
      "x = [-0.497821    0.04242765],\ty_pred = -5.0,\ty = 0\n",
      "x = [ 1.47100195 -0.332479  ],\ty_pred = -5.0,\ty = 1\n",
      "x = [1.04650875 0.11811996],\ty_pred = -5.0,\ty = 1\n",
      "x = [-0.1197835   1.41088491],\ty_pred = -5.0,\ty = 1\n",
      "x = [ 0.95437086 -0.29689888],\ty_pred = -5.0,\ty = 1\n",
      "x = [-0.07029024 -0.27310303],\ty_pred = -5.0,\ty = 0\n",
      "x = [-0.17984787 -0.18911803],\ty_pred = -5.0,\ty = 0\n",
      "x = [ 0.07969475 -0.20155629],\ty_pred = -5.0,\ty = 0\n",
      "x = [ 0.98876919 -0.02751988],\ty_pred = -5.0,\ty = 1\n",
      "x = [0.93175359 0.92127099],\ty_pred = -5.0,\ty = 0\n",
      "x = [ 0.04912019 -0.18012401],\ty_pred = -5.0,\ty = 0\n",
      "x = [-0.19691295  0.87220275],\ty_pred = -5.0,\ty = 1\n",
      "x = [1.16142123 0.90890453],\ty_pred = -5.0,\ty = 0\n",
      "x = [ 0.99517173 -0.15136106],\ty_pred = -5.0,\ty = 1\n",
      "x = [-0.09870941  0.8066638 ],\ty_pred = -5.0,\ty = 1\n",
      "x = [ 1.0909487  -0.36387393],\ty_pred = -5.0,\ty = 1\n",
      "x = [ 1.01978903 -0.3238526 ],\ty_pred = -5.0,\ty = 1\n",
      "x = [1.20282154 0.96705514],\ty_pred = -5.0,\ty = 0\n",
      "x = [ 1.1908006  -0.06296431],\ty_pred = -5.0,\ty = 1\n",
      "x = [0.90972613 1.32816191],\ty_pred = -5.0,\ty = 0\n",
      "x = [1.03098126 1.25093698],\ty_pred = -5.0,\ty = 0\n",
      "x = [-0.49374263  1.42967164],\ty_pred = -5.0,\ty = 1\n",
      "x = [ 1.41647853 -0.19211843],\ty_pred = -5.0,\ty = 1\n",
      "x = [0.94331456 0.06188266],\ty_pred = -5.0,\ty = 1\n",
      "x = [-0.1654966  -0.40596297],\ty_pred = -5.0,\ty = 0\n",
      "x = [1.43523124 0.12717898],\ty_pred = -5.0,\ty = 1\n",
      "x = [1.23770366 1.22067592],\ty_pred = -5.0,\ty = 0\n",
      "x = [-0.20699538 -0.02157457],\ty_pred = -5.0,\ty = 0\n",
      "x = [ 1.37015012 -0.14598059],\ty_pred = -5.0,\ty = 1\n",
      "x = [ 1.37113467 -0.10485118],\ty_pred = -5.0,\ty = 1\n",
      "x = [ 0.05620485 -0.14504405],\ty_pred = -5.0,\ty = 0\n",
      "x = [ 0.05427473 -0.01296505],\ty_pred = -5.0,\ty = 0\n",
      "x = [ 0.04449393 -0.21546199],\ty_pred = -5.0,\ty = 0\n",
      "x = [-0.04656056  1.37272232],\ty_pred = -5.0,\ty = 1\n",
      "x = [ 0.89474807 -0.37917677],\ty_pred = -5.0,\ty = 1\n",
      "x = [-0.2151546   0.18265564],\ty_pred = -5.0,\ty = 0\n",
      "x = [1.4159549  0.18774366],\ty_pred = -5.0,\ty = 1\n",
      "x = [1.3739786  1.12747263],\ty_pred = -5.0,\ty = 0\n",
      "x = [ 1.09924447 -0.06628928],\ty_pred = -5.0,\ty = 1\n",
      "x = [-0.32357684  0.05499897],\ty_pred = -5.0,\ty = 0\n",
      "x = [ 1.19372632 -0.01184179],\ty_pred = -5.0,\ty = 1\n",
      "x = [1.02394054 1.00037345],\ty_pred = -5.0,\ty = 0\n",
      "x = [ 1.0073237  -0.11911503],\ty_pred = -5.0,\ty = 1\n",
      "x = [-0.15845496  1.21833385],\ty_pred = -5.0,\ty = 1\n",
      "x = [0.1218705  0.93607651],\ty_pred = -5.0,\ty = 1\n",
      "x = [-0.09025608  0.12874353],\ty_pred = -5.0,\ty = 0\n",
      "x = [ 1.35461901 -0.07381818],\ty_pred = -5.0,\ty = 1\n",
      "x = [-0.49036274  1.30496899],\ty_pred = -5.0,\ty = 1\n",
      "x = [0.15693732 1.08339393],\ty_pred = -5.0,\ty = 1\n",
      "x = [ 1.01560663 -0.37768458],\ty_pred = -5.0,\ty = 1\n",
      "x = [-0.26063301 -0.3987816 ],\ty_pred = -5.0,\ty = 0\n",
      "x = [1.26869931 1.28114043],\ty_pred = -5.0,\ty = 0\n",
      "x = [ 0.802202   -0.32262278],\ty_pred = -5.0,\ty = 1\n",
      "x = [-0.05784736  1.00098636],\ty_pred = -5.0,\ty = 1\n",
      "x = [ 1.36210003 -0.04618107],\ty_pred = -5.0,\ty = 1\n",
      "x = [ 0.87827697 -0.39538724],\ty_pred = -5.0,\ty = 1\n",
      "x = [1.36946861 1.06340593],\ty_pred = -5.0,\ty = 0\n",
      "x = [1.11204217 1.32563179],\ty_pred = -5.0,\ty = 0\n",
      "x = [0.86884247 1.05236841],\ty_pred = -5.0,\ty = 0\n",
      "x = [-0.38694246 -0.26029155],\ty_pred = -5.0,\ty = 0\n",
      "x = [1.38796764 1.33609569],\ty_pred = -5.0,\ty = 0\n",
      "x = [1.47587981 1.16609165],\ty_pred = -5.0,\ty = 0\n",
      "x = [ 1.38541159 -0.02988113],\ty_pred = -5.0,\ty = 1\n",
      "x = [-0.05656819 -0.41267409],\ty_pred = -5.0,\ty = 0\n",
      "x = [-0.17058848  0.19060095],\ty_pred = -5.0,\ty = 0\n",
      "x = [ 1.23555165 -0.04844005],\ty_pred = -5.0,\ty = 1\n",
      "x = [1.2840419  1.17240963],\ty_pred = -5.0,\ty = 0\n",
      "x = [-0.20037377 -0.08051117],\ty_pred = -5.0,\ty = 0\n",
      "x = [0.09497892 1.3814918 ],\ty_pred = -5.0,\ty = 1\n",
      "x = [0.87567517 0.84978749],\ty_pred = -5.0,\ty = 0\n",
      "x = [1.33311462 0.99938336],\ty_pred = -5.0,\ty = 0\n",
      "x = [0.99026214 0.80140021],\ty_pred = -5.0,\ty = 0\n",
      "x = [-0.20407314 -0.42474379],\ty_pred = -5.0,\ty = 0\n",
      "x = [-0.06343071 -0.46640521],\ty_pred = -5.0,\ty = 0\n",
      "x = [-0.30076328  1.36860868],\ty_pred = -5.0,\ty = 1\n",
      "x = [-0.00753647  1.11051443],\ty_pred = -5.0,\ty = 1\n",
      "x = [-0.04903759 -0.25454045],\ty_pred = -5.0,\ty = 0\n",
      "x = [-0.33955648 -0.19628164],\ty_pred = -5.0,\ty = 0\n",
      "x = [ 1.41906888 -0.24493535],\ty_pred = -5.0,\ty = 1\n",
      "x = [1.39715986 0.88216432],\ty_pred = -5.0,\ty = 0\n",
      "x = [0.12239176 1.29529196],\ty_pred = -5.0,\ty = 1\n",
      "x = [1.42158606 0.86704322],\ty_pred = -5.0,\ty = 0\n",
      "x = [1.37103941 0.1655274 ],\ty_pred = -5.0,\ty = 1\n",
      "x = [-0.11051516 -0.23654575],\ty_pred = -5.0,\ty = 0\n",
      "x = [ 1.3439134  -0.45914615],\ty_pred = -5.0,\ty = 1\n",
      "x = [1.22516358 1.00123101],\ty_pred = -5.0,\ty = 0\n",
      "x = [-0.10017698  1.37015393],\ty_pred = -5.0,\ty = 1\n",
      "x = [-0.05832856  1.41539953],\ty_pred = -5.0,\ty = 1\n",
      "x = [0.11243179 1.45012285],\ty_pred = -5.0,\ty = 1\n",
      "x = [ 0.86561567 -0.13002656],\ty_pred = -5.0,\ty = 1\n",
      "x = [-0.39445092 -0.24142005],\ty_pred = -5.0,\ty = 0\n",
      "x = [1.13006396 1.30236829],\ty_pred = -5.0,\ty = 0\n",
      "x = [-0.1660909  -0.18578481],\ty_pred = -5.0,\ty = 0\n",
      "x = [0.12019858 1.10665701],\ty_pred = -5.0,\ty = 1\n",
      "x = [-0.21363642  1.43949878],\ty_pred = -5.0,\ty = 1\n",
      "x = [ 0.99485549 -0.02887126],\ty_pred = -5.0,\ty = 1\n",
      "x = [1.30334298 1.4371251 ],\ty_pred = -5.0,\ty = 0\n",
      "x = [0.89317675 1.27852538],\ty_pred = -5.0,\ty = 0\n",
      "x = [-0.36582698  0.03744403],\ty_pred = -5.0,\ty = 0\n",
      "x = [0.94117511 1.37243004],\ty_pred = -5.0,\ty = 0\n",
      "x = [ 0.90411349 -0.03845854],\ty_pred = -5.0,\ty = 1\n",
      "x = [-0.45035712 -0.39317721],\ty_pred = -5.0,\ty = 0\n",
      "x = [ 0.92834283 -0.2181402 ],\ty_pred = -5.0,\ty = 1\n",
      "x = [ 1.29835758 -0.1094616 ],\ty_pred = -5.0,\ty = 1\n",
      "x = [0.19542232 0.08414056],\ty_pred = -5.0,\ty = 0\n",
      "x = [-0.47218991  0.91747481],\ty_pred = -5.0,\ty = 1\n",
      "x = [ 0.15607644 -0.15730453],\ty_pred = -5.0,\ty = 0\n",
      "x = [-0.27014703  1.21832605],\ty_pred = -5.0,\ty = 1\n",
      "x = [-0.34590993 -0.02999958],\ty_pred = -5.0,\ty = 0\n",
      "x = [ 0.90407941 -0.43412981],\ty_pred = -5.0,\ty = 1\n",
      "x = [ 1.13702796 -0.09992054],\ty_pred = -5.0,\ty = 1\n",
      "x = [-0.13193862  1.01553415],\ty_pred = -5.0,\ty = 1\n",
      "x = [ 1.14773624 -0.30133872],\ty_pred = -5.0,\ty = 1\n",
      "x = [-0.13050724 -0.26240829],\ty_pred = -5.0,\ty = 0\n",
      "x = [1.08430003 0.91241078],\ty_pred = -5.0,\ty = 0\n",
      "x = [1.29147791 1.41826298],\ty_pred = -5.0,\ty = 0\n",
      "x = [-0.27193302  1.19445642],\ty_pred = -5.0,\ty = 1\n",
      "x = [-0.17136468  1.25817891],\ty_pred = -5.0,\ty = 1\n",
      "x = [ 0.90261429 -0.27471984],\ty_pred = -5.0,\ty = 1\n",
      "x = [-0.47402113  1.2717482 ],\ty_pred = -5.0,\ty = 1\n",
      "x = [-0.03075498 -0.19866975],\ty_pred = -5.0,\ty = 0\n",
      "x = [ 0.03745228 -0.12479405],\ty_pred = -5.0,\ty = 0\n",
      "x = [ 1.12531231 -0.40564482],\ty_pred = -5.0,\ty = 1\n",
      "x = [1.30925272 1.36503377],\ty_pred = -5.0,\ty = 0\n",
      "x = [1.35368292 1.30102398],\ty_pred = -5.0,\ty = 0\n",
      "x = [-0.14155728 -0.06777729],\ty_pred = -5.0,\ty = 0\n",
      "x = [-0.19735108  0.09339033],\ty_pred = -5.0,\ty = 0\n",
      "x = [-0.18215866 -0.48921754],\ty_pred = -5.0,\ty = 0\n",
      "x = [ 0.1111477  -0.04065892],\ty_pred = -5.0,\ty = 0\n",
      "x = [0.88182421 0.16624299],\ty_pred = -5.0,\ty = 1\n",
      "x = [-0.46436133 -0.3354497 ],\ty_pred = -5.0,\ty = 0\n",
      "x = [ 0.1046804  -0.44286321],\ty_pred = -5.0,\ty = 0\n",
      "x = [0.04101992 0.08899551],\ty_pred = -5.0,\ty = 0\n",
      "x = [ 0.96535943 -0.15949148],\ty_pred = -5.0,\ty = 1\n",
      "x = [1.43665235 1.29935848],\ty_pred = -5.0,\ty = 0\n",
      "x = [ 0.9857603 -0.0702462],\ty_pred = -5.0,\ty = 1\n",
      "x = [0.18144118 1.35564819],\ty_pred = -5.0,\ty = 1\n",
      "x = [ 0.8268712  -0.19578352],\ty_pred = -5.0,\ty = 1\n",
      "x = [1.21155782 1.12027604],\ty_pred = -5.0,\ty = 0\n",
      "x = [ 1.27169631 -0.45456189],\ty_pred = -5.0,\ty = 1\n",
      "x = [ 0.1092974  -0.00903379],\ty_pred = -5.0,\ty = 0\n",
      "x = [-0.07655119  0.01266243],\ty_pred = -5.0,\ty = 0\n",
      "x = [-0.32259267  1.00286234],\ty_pred = -5.0,\ty = 1\n",
      "x = [ 0.07023343 -0.46212044],\ty_pred = -5.0,\ty = 0\n",
      "x = [0.99678795 1.2134171 ],\ty_pred = -5.0,\ty = 0\n",
      "x = [ 1.35309345 -0.12809853],\ty_pred = -5.0,\ty = 1\n",
      "x = [ 1.31134207 -0.293445  ],\ty_pred = -5.0,\ty = 1\n",
      "x = [0.97844651 0.82946423],\ty_pred = -5.0,\ty = 0\n",
      "x = [1.15000868 1.49239821],\ty_pred = -5.0,\ty = 0\n",
      "x = [-0.35763342  1.10861533],\ty_pred = -5.0,\ty = 1\n",
      "x = [0.11723944 1.22902203],\ty_pred = -5.0,\ty = 1\n",
      "x = [0.91175396 0.0985292 ],\ty_pred = -5.0,\ty = 1\n",
      "x = [0.94432471 1.04655139],\ty_pred = -5.0,\ty = 0\n",
      "x = [-0.10261677 -0.41942787],\ty_pred = -5.0,\ty = 0\n",
      "x = [ 1.14318897 -0.08281233],\ty_pred = -5.0,\ty = 1\n",
      "x = [-0.33238763  1.14927068],\ty_pred = -5.0,\ty = 1\n",
      "x = [-0.3867066   0.09141076],\ty_pred = -5.0,\ty = 0\n",
      "x = [1.33184107 0.85224465],\ty_pred = -5.0,\ty = 0\n",
      "x = [-0.0807103 -0.069007 ],\ty_pred = -5.0,\ty = 0\n",
      "x = [1.4555692  0.80006787],\ty_pred = -5.0,\ty = 0\n",
      "x = [-0.49487672 -0.27022073],\ty_pred = -5.0,\ty = 0\n",
      "x = [1.0599047  1.00489796],\ty_pred = -5.0,\ty = 0\n",
      "x = [0.0986332  1.36019733],\ty_pred = -5.0,\ty = 1\n",
      "x = [0.07580471 1.14472759],\ty_pred = -5.0,\ty = 1\n",
      "x = [ 1.36790362 -0.41393166],\ty_pred = -5.0,\ty = 1\n",
      "x = [-0.411285    1.13964886],\ty_pred = -5.0,\ty = 1\n",
      "x = [-0.47475218 -0.35987252],\ty_pred = -5.0,\ty = 0\n",
      "x = [0.91594777 0.95440286],\ty_pred = -5.0,\ty = 0\n",
      "x = [ 0.19823949 -0.09257902],\ty_pred = -5.0,\ty = 0\n",
      "x = [1.42131215 0.15026462],\ty_pred = -5.0,\ty = 1\n",
      "x = [0.87634547 1.39535245],\ty_pred = -5.0,\ty = 0\n",
      "x = [-0.08848995 -0.31510365],\ty_pred = -5.0,\ty = 0\n",
      "x = [-0.28629819 -0.2398418 ],\ty_pred = -5.0,\ty = 0\n",
      "x = [-0.3288864  -0.09081691],\ty_pred = -5.0,\ty = 0\n",
      "x = [-0.01290771 -0.44963695],\ty_pred = -5.0,\ty = 0\n",
      "x = [0.95606599 1.49797816],\ty_pred = -5.0,\ty = 0\n",
      "x = [0.06431421 0.82948971],\ty_pred = -5.0,\ty = 1\n",
      "x = [1.16986929 0.97299158],\ty_pred = -5.0,\ty = 0\n",
      "x = [ 1.35502155 -0.00698062],\ty_pred = -5.0,\ty = 1\n",
      "x = [-0.02284826 -0.01199603],\ty_pred = -5.0,\ty = 0\n",
      "x = [ 1.4953592  -0.39431349],\ty_pred = -5.0,\ty = 1\n",
      "x = [0.95446769 0.04673208],\ty_pred = -5.0,\ty = 1\n",
      "x = [0.13287209 1.24851994],\ty_pred = -5.0,\ty = 1\n",
      "x = [-0.37632477  0.97007488],\ty_pred = -5.0,\ty = 1\n",
      "x = [1.40958603 0.07083385],\ty_pred = -5.0,\ty = 1\n",
      "x = [0.9174712  0.03200123],\ty_pred = -5.0,\ty = 1\n",
      "x = [1.19390542 1.37851204],\ty_pred = -5.0,\ty = 0\n",
      "x = [-0.41947549  0.87116571],\ty_pred = -5.0,\ty = 1\n",
      "x = [-0.36430656  1.43864743],\ty_pred = -5.0,\ty = 1\n",
      "x = [ 0.82633886 -0.17687854],\ty_pred = -5.0,\ty = 1\n",
      "x = [-0.36098595 -0.48216663],\ty_pred = -5.0,\ty = 0\n",
      "x = [1.3187818  0.00744172],\ty_pred = -5.0,\ty = 1\n",
      "x = [-0.26872578  0.96144863],\ty_pred = -5.0,\ty = 1\n",
      "x = [-0.20009027  1.15114604],\ty_pred = -5.0,\ty = 1\n",
      "x = [1.29375818 1.11268845],\ty_pred = -5.0,\ty = 0\n",
      "x = [-0.35949076  0.82907463],\ty_pred = -5.0,\ty = 1\n",
      "x = [0.10966193 0.13612169],\ty_pred = -5.0,\ty = 0\n",
      "x = [-0.26910881 -0.02184794],\ty_pred = -5.0,\ty = 0\n",
      "x = [0.12945466 1.31898729],\ty_pred = -5.0,\ty = 1\n",
      "x = [ 1.4741641  -0.36641245],\ty_pred = -5.0,\ty = 1\n",
      "x = [0.85394496 1.38863571],\ty_pred = -5.0,\ty = 0\n",
      "x = [-0.25896256  1.10541843],\ty_pred = -5.0,\ty = 1\n",
      "x = [-0.05524033  0.09345163],\ty_pred = -5.0,\ty = 0\n",
      "x = [ 0.16941106 -0.08705381],\ty_pred = -5.0,\ty = 0\n",
      "x = [0.96272067 0.92773983],\ty_pred = -5.0,\ty = 0\n",
      "x = [1.47426487 0.19436151],\ty_pred = -5.0,\ty = 1\n",
      "x = [ 0.94497707 -0.24078601],\ty_pred = -5.0,\ty = 1\n",
      "x = [1.01521772 0.19364094],\ty_pred = -5.0,\ty = 1\n",
      "x = [0.15096894 1.02658259],\ty_pred = -5.0,\ty = 1\n",
      "x = [ 1.23364309 -0.1768942 ],\ty_pred = -5.0,\ty = 1\n",
      "x = [-0.10733587  0.04625447],\ty_pred = -5.0,\ty = 0\n",
      "x = [-0.31660021  0.1375643 ],\ty_pred = -5.0,\ty = 0\n",
      "x = [-0.48440994  0.07478533],\ty_pred = -5.0,\ty = 0\n",
      "x = [-0.36807212 -0.01997017],\ty_pred = -5.0,\ty = 0\n",
      "x = [-0.41405951  1.44565579],\ty_pred = -5.0,\ty = 1\n",
      "x = [1.32867377 1.27885867],\ty_pred = -5.0,\ty = 0\n",
      "x = [-0.34068158 -0.39821746],\ty_pred = -5.0,\ty = 0\n",
      "x = [-0.35759632  0.12742579],\ty_pred = -5.0,\ty = 0\n",
      "x = [ 0.95586617 -0.00979739],\ty_pred = -5.0,\ty = 1\n",
      "x = [1.19757518 1.26413068],\ty_pred = -5.0,\ty = 0\n",
      "x = [-0.30707783  0.83944457],\ty_pred = -5.0,\ty = 1\n",
      "x = [-0.22910754 -0.15498339],\ty_pred = -5.0,\ty = 0\n",
      "x = [1.2868581  0.11947656],\ty_pred = -5.0,\ty = 1\n",
      "x = [1.2701383  0.98557679],\ty_pred = -5.0,\ty = 0\n",
      "x = [0.85423429 1.169647  ],\ty_pred = -5.0,\ty = 0\n",
      "x = [1.00283839 1.13715633],\ty_pred = -5.0,\ty = 0\n",
      "x = [1.43139622 1.25621826],\ty_pred = -5.0,\ty = 0\n",
      "x = [1.30632339 0.87181057],\ty_pred = -5.0,\ty = 0\n",
      "x = [-0.05315128  1.08303932],\ty_pred = -5.0,\ty = 1\n",
      "x = [-0.17803029  1.48671175],\ty_pred = -5.0,\ty = 1\n",
      "x = [-0.32227797  0.9399355 ],\ty_pred = -5.0,\ty = 1\n",
      "x = [ 0.96733232 -0.23252955],\ty_pred = -5.0,\ty = 1\n",
      "x = [1.06673106 1.3966823 ],\ty_pred = -5.0,\ty = 0\n",
      "x = [ 0.01919336 -0.06948899],\ty_pred = -5.0,\ty = 0\n",
      "x = [1.37539205 1.24024711],\ty_pred = -5.0,\ty = 0\n",
      "x = [1.21681896 1.1946345 ],\ty_pred = -5.0,\ty = 0\n",
      "x = [1.22056562 1.02599743],\ty_pred = -5.0,\ty = 0\n",
      "x = [-0.25684141  0.04615721],\ty_pred = -5.0,\ty = 0\n",
      "x = [1.41255399 0.07150968],\ty_pred = -5.0,\ty = 1\n",
      "x = [ 0.05108441 -0.42983575],\ty_pred = -5.0,\ty = 0\n",
      "x = [1.34026161 1.26065809],\ty_pred = -5.0,\ty = 0\n",
      "x = [-0.22502394  1.34819203],\ty_pred = -5.0,\ty = 1\n",
      "x = [ 1.0757147  -0.01773147],\ty_pred = -5.0,\ty = 1\n",
      "x = [1.47413646 1.02973947],\ty_pred = -5.0,\ty = 0\n",
      "x = [ 0.02266023 -0.12062026],\ty_pred = -5.0,\ty = 0\n",
      "x = [-0.00962685  1.3233998 ],\ty_pred = -5.0,\ty = 1\n",
      "x = [-0.31580268 -0.4498728 ],\ty_pred = -5.0,\ty = 0\n",
      "x = [0.18507096 1.3447264 ],\ty_pred = -5.0,\ty = 1\n",
      "x = [ 1.05112035 -0.43725851],\ty_pred = -5.0,\ty = 1\n",
      "x = [ 1.47352075 -0.14802293],\ty_pred = -5.0,\ty = 1\n",
      "x = [-0.1234086   1.42640615],\ty_pred = -5.0,\ty = 1\n",
      "x = [1.31249489 0.18571312],\ty_pred = -5.0,\ty = 1\n",
      "x = [1.20679692 0.01772837],\ty_pred = -5.0,\ty = 1\n",
      "x = [-0.47367728  1.29695002],\ty_pred = -5.0,\ty = 1\n",
      "x = [-0.13720289  1.03530251],\ty_pred = -5.0,\ty = 1\n",
      "x = [ 0.9423344  -0.12561744],\ty_pred = -5.0,\ty = 1\n",
      "x = [ 0.03757401 -0.46283518],\ty_pred = -5.0,\ty = 0\n",
      "x = [-0.11566259  1.08073933],\ty_pred = -5.0,\ty = 1\n",
      "x = [0.91996789 0.15201291],\ty_pred = -5.0,\ty = 1\n",
      "x = [-0.44768799  1.49762197],\ty_pred = -5.0,\ty = 1\n",
      "x = [0.85855845 1.32131924],\ty_pred = -5.0,\ty = 0\n",
      "x = [ 0.19896435 -0.40224547],\ty_pred = -5.0,\ty = 0\n",
      "x = [ 0.8297642  -0.44857334],\ty_pred = -5.0,\ty = 1\n",
      "x = [0.95933035 0.18027405],\ty_pred = -5.0,\ty = 1\n",
      "x = [-0.43366316  1.42160934],\ty_pred = -5.0,\ty = 1\n",
      "x = [-0.0203789   1.38261277],\ty_pred = -5.0,\ty = 1\n",
      "x = [-0.25731358  1.15836336],\ty_pred = -5.0,\ty = 1\n",
      "x = [-0.32231278  1.33744998],\ty_pred = -5.0,\ty = 1\n",
      "x = [0.00794978 1.12138149],\ty_pred = -5.0,\ty = 1\n",
      "x = [-0.17693512 -0.30308911],\ty_pred = -5.0,\ty = 0\n",
      "x = [-0.47972367  0.11927733],\ty_pred = -5.0,\ty = 0\n",
      "x = [ 0.03970375 -0.26918544],\ty_pred = -5.0,\ty = 0\n",
      "x = [1.35792265 1.36539547],\ty_pred = -5.0,\ty = 0\n",
      "x = [-0.28448229  0.14967635],\ty_pred = -5.0,\ty = 0\n",
      "x = [0.18384131 1.32867186],\ty_pred = -5.0,\ty = 1\n",
      "x = [1.48255269 1.19531421],\ty_pred = -5.0,\ty = 0\n",
      "x = [-0.0027518   1.38486773],\ty_pred = -5.0,\ty = 1\n",
      "x = [0.95397265 0.19328434],\ty_pred = -5.0,\ty = 1\n",
      "x = [ 0.04174137 -0.26600652],\ty_pred = -5.0,\ty = 0\n",
      "x = [-0.13120369  1.18043753],\ty_pred = -5.0,\ty = 1\n",
      "x = [0.06046176 1.09268794],\ty_pred = -5.0,\ty = 1\n",
      "x = [-0.37549468  0.10204674],\ty_pred = -5.0,\ty = 0\n",
      "x = [0.86497075 0.17162942],\ty_pred = -5.0,\ty = 1\n",
      "x = [1.24835114 1.33744758],\ty_pred = -5.0,\ty = 0\n",
      "x = [ 1.24277468 -0.28112319],\ty_pred = -5.0,\ty = 1\n",
      "x = [-0.46101111 -0.29429626],\ty_pred = -5.0,\ty = 0\n",
      "x = [-0.25078846  0.16757391],\ty_pred = -5.0,\ty = 0\n",
      "x = [-0.14789636  1.47654804],\ty_pred = -5.0,\ty = 1\n",
      "x = [0.09636204 0.96176729],\ty_pred = -5.0,\ty = 1\n",
      "x = [1.32548326 0.91610692],\ty_pred = -5.0,\ty = 0\n",
      "x = [-0.18933636 -0.42889297],\ty_pred = -5.0,\ty = 0\n",
      "x = [-0.34193515  0.84594439],\ty_pred = -5.0,\ty = 1\n",
      "x = [1.11422441 1.38648003],\ty_pred = -5.0,\ty = 0\n",
      "x = [-0.3906953   1.19412851],\ty_pred = -5.0,\ty = 1\n",
      "x = [-0.05760353 -0.35256028],\ty_pred = -5.0,\ty = 0\n",
      "x = [-0.25841886 -0.38805685],\ty_pred = -5.0,\ty = 0\n",
      "x = [-0.18895629 -0.44135753],\ty_pred = -5.0,\ty = 0\n",
      "x = [-0.01628086  1.12560607],\ty_pred = -5.0,\ty = 1\n",
      "x = [ 1.0106226  -0.47589811],\ty_pred = -5.0,\ty = 1\n",
      "x = [1.48287938 0.10425854],\ty_pred = -5.0,\ty = 1\n",
      "x = [0.80051864 1.31465089],\ty_pred = -5.0,\ty = 0\n",
      "x = [ 0.81539476 -0.34330523],\ty_pred = -5.0,\ty = 1\n",
      "x = [0.80735981 0.9043889 ],\ty_pred = -5.0,\ty = 0\n",
      "x = [ 1.28125387 -0.4681625 ],\ty_pred = -5.0,\ty = 1\n",
      "x = [-0.30517031 -0.0520178 ],\ty_pred = -5.0,\ty = 0\n",
      "x = [-0.29371557  0.89125026],\ty_pred = -5.0,\ty = 1\n",
      "x = [ 0.86118512 -0.23362615],\ty_pred = -5.0,\ty = 1\n",
      "x = [1.08271855 0.99348295],\ty_pred = -5.0,\ty = 0\n",
      "x = [-0.05675351  1.02525034],\ty_pred = -5.0,\ty = 1\n",
      "x = [ 1.36010102 -0.40675502],\ty_pred = -5.0,\ty = 1\n",
      "x = [0.15595627 1.10059542],\ty_pred = -5.0,\ty = 1\n",
      "x = [0.86411636 0.99157411],\ty_pred = -5.0,\ty = 0\n",
      "x = [ 0.86606078 -0.37029753],\ty_pred = -5.0,\ty = 1\n",
      "x = [-0.19052922 -0.37027765],\ty_pred = -5.0,\ty = 0\n",
      "x = [1.4803987  1.29656165],\ty_pred = -5.0,\ty = 0\n",
      "x = [1.20581593 1.31346191],\ty_pred = -5.0,\ty = 0\n",
      "x = [-0.03667814 -0.19631212],\ty_pred = -5.0,\ty = 0\n",
      "x = [1.44448612 1.06600406],\ty_pred = -5.0,\ty = 0\n",
      "x = [1.06558136 0.06472277],\ty_pred = -5.0,\ty = 1\n",
      "x = [ 1.13899453 -0.22599875],\ty_pred = -5.0,\ty = 1\n",
      "x = [1.2478997 0.9482399],\ty_pred = -5.0,\ty = 0\n",
      "x = [0.19291842 1.26799797],\ty_pred = -5.0,\ty = 1\n",
      "x = [1.21897554 1.38898387],\ty_pred = -5.0,\ty = 0\n",
      "x = [1.41541953 0.12197947],\ty_pred = -5.0,\ty = 1\n",
      "x = [-0.29751765  0.83825931],\ty_pred = -5.0,\ty = 1\n",
      "x = [ 0.96022431 -0.19574164],\ty_pred = -5.0,\ty = 1\n",
      "x = [-0.38937772 -0.48965254],\ty_pred = -5.0,\ty = 0\n",
      "x = [-0.31414159  1.25078929],\ty_pred = -5.0,\ty = 1\n",
      "x = [ 1.42085688 -0.11397181],\ty_pred = -5.0,\ty = 1\n",
      "x = [1.28516604 0.04614164],\ty_pred = -5.0,\ty = 1\n",
      "x = [-0.29538037 -0.36284764],\ty_pred = -5.0,\ty = 0\n",
      "x = [0.83963845 0.10898333],\ty_pred = -5.0,\ty = 1\n",
      "x = [0.82586712 1.12578736],\ty_pred = -5.0,\ty = 0\n",
      "x = [0.10231967 1.35466616],\ty_pred = -5.0,\ty = 1\n",
      "x = [1.3566721  0.06060155],\ty_pred = -5.0,\ty = 1\n",
      "x = [-0.03124738  0.0654452 ],\ty_pred = -5.0,\ty = 0\n",
      "x = [ 0.1282488  -0.18231903],\ty_pred = -5.0,\ty = 0\n",
      "x = [0.80458981 1.02121642],\ty_pred = -5.0,\ty = 0\n",
      "x = [-0.01561127 -0.02196519],\ty_pred = -5.0,\ty = 0\n",
      "x = [1.00151871 1.39167257],\ty_pred = -5.0,\ty = 0\n",
      "x = [1.40438829 1.24717343],\ty_pred = -5.0,\ty = 0\n",
      "x = [1.32337264 0.91012596],\ty_pred = -5.0,\ty = 0\n",
      "x = [0.16868358 1.0289261 ],\ty_pred = -5.0,\ty = 1\n",
      "x = [-0.44152606 -0.06660562],\ty_pred = -5.0,\ty = 0\n",
      "x = [1.43137037 1.08807364],\ty_pred = -5.0,\ty = 0\n",
      "x = [ 1.13371384 -0.03366834],\ty_pred = -5.0,\ty = 1\n",
      "x = [-0.42453027  1.15214553],\ty_pred = -5.0,\ty = 1\n",
      "x = [-0.06241525 -0.21318812],\ty_pred = -5.0,\ty = 0\n",
      "x = [ 1.02515551 -0.24025524],\ty_pred = -5.0,\ty = 1\n",
      "x = [-0.02949891 -0.36728882],\ty_pred = -5.0,\ty = 0\n",
      "x = [1.06074118 0.01105779],\ty_pred = -5.0,\ty = 1\n",
      "x = [1.06673423 0.02062444],\ty_pred = -5.0,\ty = 1\n",
      "x = [1.35546816 0.87275809],\ty_pred = -5.0,\ty = 0\n",
      "x = [0.03633186 0.15870929],\ty_pred = -5.0,\ty = 0\n",
      "x = [ 0.97716035 -0.16673762],\ty_pred = -5.0,\ty = 1\n",
      "x = [1.17735638 0.95652179],\ty_pred = -5.0,\ty = 0\n",
      "x = [1.38472457 0.12459175],\ty_pred = -5.0,\ty = 1\n",
      "x = [-0.48060178  1.47830548],\ty_pred = -5.0,\ty = 1\n",
      "x = [0.18698733 1.23667085],\ty_pred = -5.0,\ty = 1\n",
      "x = [-0.20765736  1.02887019],\ty_pred = -5.0,\ty = 1\n",
      "x = [1.1031886  1.31408619],\ty_pred = -5.0,\ty = 0\n",
      "x = [ 0.89180513 -0.27356456],\ty_pred = -5.0,\ty = 1\n",
      "x = [ 1.06278443 -0.04441812],\ty_pred = -5.0,\ty = 1\n",
      "x = [1.01489048 0.90504598],\ty_pred = -5.0,\ty = 0\n",
      "x = [ 0.86764524 -0.09527826],\ty_pred = -5.0,\ty = 1\n",
      "x = [1.04212539 1.19617638],\ty_pred = -5.0,\ty = 0\n",
      "x = [-0.39214458  1.11525028],\ty_pred = -5.0,\ty = 1\n",
      "x = [1.32347441 1.03210352],\ty_pred = -5.0,\ty = 0\n",
      "x = [1.20242271 1.0373368 ],\ty_pred = -5.0,\ty = 0\n",
      "x = [-0.41671866  0.96408555],\ty_pred = -5.0,\ty = 1\n",
      "x = [-0.1641837   0.16267368],\ty_pred = -5.0,\ty = 0\n",
      "x = [-0.00585084  0.12645766],\ty_pred = -5.0,\ty = 0\n",
      "x = [-0.2695978   1.43076586],\ty_pred = -5.0,\ty = 1\n",
      "x = [-0.04472131  1.21352942],\ty_pred = -5.0,\ty = 1\n",
      "x = [ 0.88698147 -0.20122506],\ty_pred = -5.0,\ty = 1\n",
      "x = [-0.32632198  0.09193047],\ty_pred = -5.0,\ty = 0\n",
      "x = [0.19067421 0.94385022],\ty_pred = -5.0,\ty = 1\n",
      "x = [1.26420593 0.9795004 ],\ty_pred = -5.0,\ty = 0\n",
      "x = [-0.06219524  1.48036532],\ty_pred = -5.0,\ty = 1\n",
      "x = [ 1.0317542  -0.24019697],\ty_pred = -5.0,\ty = 1\n",
      "x = [-0.34987255  0.15759321],\ty_pred = -5.0,\ty = 0\n",
      "x = [0.02531748 1.18986916],\ty_pred = -5.0,\ty = 1\n",
      "x = [1.24845301 0.83333175],\ty_pred = -5.0,\ty = 0\n",
      "x = [-0.33193339  0.90619379],\ty_pred = -5.0,\ty = 1\n",
      "x = [1.20405183 1.19169272],\ty_pred = -5.0,\ty = 0\n",
      "x = [ 0.13205513 -0.08880599],\ty_pred = -5.0,\ty = 0\n",
      "x = [-0.4367132  -0.40971681],\ty_pred = -5.0,\ty = 0\n",
      "x = [-0.42631623 -0.37909078],\ty_pred = -5.0,\ty = 0\n",
      "x = [1.08941729 1.01297862],\ty_pred = -5.0,\ty = 0\n",
      "x = [1.1678294  0.93367712],\ty_pred = -5.0,\ty = 0\n",
      "x = [0.94987121 1.15755119],\ty_pred = -5.0,\ty = 0\n",
      "x = [0.80969645 1.11184098],\ty_pred = -5.0,\ty = 0\n",
      "x = [-0.28209274  0.05928099],\ty_pred = -5.0,\ty = 0\n",
      "x = [0.95777505 0.10199901],\ty_pred = -5.0,\ty = 1\n",
      "x = [1.04407408 1.27401677],\ty_pred = -5.0,\ty = 0\n",
      "x = [-0.31947491  0.83077386],\ty_pred = -5.0,\ty = 1\n",
      "x = [1.39972799 0.18981144],\ty_pred = -5.0,\ty = 1\n",
      "x = [1.39974336 0.00761666],\ty_pred = -5.0,\ty = 1\n",
      "x = [0.85861329 1.16117876],\ty_pred = -5.0,\ty = 0\n",
      "x = [ 1.11818126 -0.27121852],\ty_pred = -5.0,\ty = 1\n",
      "x = [-0.32537646 -0.34651246],\ty_pred = -5.0,\ty = 0\n",
      "x = [0.05976259 0.92301735],\ty_pred = -5.0,\ty = 1\n",
      "x = [1.20287531 0.04388893],\ty_pred = -5.0,\ty = 1\n",
      "x = [1.48583881 0.01757145],\ty_pred = -5.0,\ty = 1\n",
      "x = [1.40719094 1.20496385],\ty_pred = -5.0,\ty = 0\n",
      "x = [ 0.19037275 -0.48023017],\ty_pred = -5.0,\ty = 0\n",
      "x = [0.86940746 1.4041663 ],\ty_pred = -5.0,\ty = 0\n",
      "x = [ 1.19926882 -0.34987459],\ty_pred = -5.0,\ty = 1\n",
      "x = [-0.06655069 -0.37541937],\ty_pred = -5.0,\ty = 0\n",
      "x = [ 1.39336514 -0.3222463 ],\ty_pred = -5.0,\ty = 1\n",
      "x = [-0.29643569  0.14114105],\ty_pred = -5.0,\ty = 0\n",
      "x = [ 0.19851899 -0.19641718],\ty_pred = -5.0,\ty = 0\n",
      "x = [ 1.34074312 -0.47089804],\ty_pred = -5.0,\ty = 1\n",
      "x = [ 0.19279487 -0.17457866],\ty_pred = -5.0,\ty = 0\n",
      "x = [0.01420951 1.12596948],\ty_pred = -5.0,\ty = 1\n",
      "x = [ 0.00616538 -0.46422237],\ty_pred = -5.0,\ty = 0\n",
      "x = [1.14834652 1.46843277],\ty_pred = -5.0,\ty = 0\n",
      "x = [1.41421159 1.41183475],\ty_pred = -5.0,\ty = 0\n",
      "x = [1.49762038 0.07355087],\ty_pred = -5.0,\ty = 1\n",
      "x = [-0.45114982  1.38792114],\ty_pred = -5.0,\ty = 1\n",
      "x = [-0.46542253  1.42236096],\ty_pred = -5.0,\ty = 1\n",
      "x = [-0.22325467  0.16877299],\ty_pred = -5.0,\ty = 0\n",
      "x = [-0.42244319  0.84242808],\ty_pred = -5.0,\ty = 1\n",
      "x = [1.43496172 1.06674949],\ty_pred = -5.0,\ty = 0\n",
      "x = [-0.36126054  1.2973832 ],\ty_pred = -5.0,\ty = 1\n",
      "x = [-0.46932494 -0.00078522],\ty_pred = -5.0,\ty = 0\n",
      "x = [-0.04231186 -0.18936115],\ty_pred = -5.0,\ty = 0\n",
      "x = [0.00325764 0.96507274],\ty_pred = -5.0,\ty = 1\n",
      "x = [1.32766575 1.45563202],\ty_pred = -5.0,\ty = 0\n",
      "x = [-0.03867504 -0.23481818],\ty_pred = -5.0,\ty = 0\n",
      "x = [1.31301449 0.1644851 ],\ty_pred = -5.0,\ty = 1\n",
      "x = [1.44473627 1.0643894 ],\ty_pred = -5.0,\ty = 0\n",
      "x = [ 0.92555168 -0.11356088],\ty_pred = -5.0,\ty = 1\n",
      "x = [-0.1247982   0.13054818],\ty_pred = -5.0,\ty = 0\n",
      "x = [ 1.48680639 -0.20550076],\ty_pred = -5.0,\ty = 1\n",
      "x = [0.98003376 1.34343905],\ty_pred = -5.0,\ty = 0\n",
      "x = [1.23090848 0.80528384],\ty_pred = -5.0,\ty = 0\n",
      "x = [1.49034357 0.130238  ],\ty_pred = -5.0,\ty = 1\n",
      "x = [-0.49188729 -0.2341649 ],\ty_pred = -5.0,\ty = 0\n",
      "x = [0.01659685 0.88531742],\ty_pred = -5.0,\ty = 1\n",
      "x = [1.12705619 1.31464402],\ty_pred = -5.0,\ty = 0\n",
      "x = [1.47236263 0.81497264],\ty_pred = -5.0,\ty = 0\n",
      "x = [-0.11459431  1.45740221],\ty_pred = -5.0,\ty = 1\n",
      "x = [-0.22304621  0.04020294],\ty_pred = -5.0,\ty = 0\n",
      "x = [0.89047599 1.42021414],\ty_pred = -5.0,\ty = 0\n",
      "x = [ 0.90700349 -0.49751167],\ty_pred = -5.0,\ty = 1\n",
      "x = [ 0.00635273 -0.42370348],\ty_pred = -5.0,\ty = 0\n",
      "x = [0.85496191 0.13969071],\ty_pred = -5.0,\ty = 1\n",
      "x = [ 1.20825322 -0.33781372],\ty_pred = -5.0,\ty = 1\n",
      "x = [0.03909253 1.01894536],\ty_pred = -5.0,\ty = 1\n",
      "x = [-0.11134228 -0.43353075],\ty_pred = -5.0,\ty = 0\n",
      "x = [1.08378901e+00 1.07886700e-03],\ty_pred = -5.0,\ty = 1\n",
      "x = [0.88941663 1.42549156],\ty_pred = -5.0,\ty = 0\n",
      "x = [0.86470165 0.88644651],\ty_pred = -5.0,\ty = 0\n",
      "x = [0.99350548 0.83433044],\ty_pred = -5.0,\ty = 0\n",
      "x = [-0.00794779 -0.37054548],\ty_pred = -5.0,\ty = 0\n",
      "x = [1.45518558 0.13616562],\ty_pred = -5.0,\ty = 1\n",
      "x = [-0.39451701  1.19921355],\ty_pred = -5.0,\ty = 1\n",
      "x = [ 1.48337093 -0.15046123],\ty_pred = -5.0,\ty = 1\n",
      "x = [-0.4736913   1.04528469],\ty_pred = -5.0,\ty = 1\n",
      "x = [0.14584709 1.04696821],\ty_pred = -5.0,\ty = 1\n",
      "x = [ 1.48514823 -0.06667226],\ty_pred = -5.0,\ty = 1\n",
      "x = [1.21841566 0.18675583],\ty_pred = -5.0,\ty = 1\n",
      "x = [ 0.92987243 -0.12222456],\ty_pred = -5.0,\ty = 1\n",
      "x = [-0.06739207  0.85176576],\ty_pred = -5.0,\ty = 1\n",
      "x = [ 1.3505216  -0.15629403],\ty_pred = -5.0,\ty = 1\n",
      "x = [ 0.03680366 -0.05600347],\ty_pred = -5.0,\ty = 0\n",
      "x = [-0.17271496  1.19344287],\ty_pred = -5.0,\ty = 1\n",
      "x = [ 1.42118068 -0.13200189],\ty_pred = -5.0,\ty = 1\n",
      "x = [ 0.91302342 -0.37316323],\ty_pred = -5.0,\ty = 1\n",
      "x = [ 1.33338775 -0.07799426],\ty_pred = -5.0,\ty = 1\n",
      "x = [1.2050404  1.08987353],\ty_pred = -5.0,\ty = 0\n",
      "x = [1.21287056 1.08394196],\ty_pred = -5.0,\ty = 0\n",
      "x = [-0.07899661  0.00817119],\ty_pred = -5.0,\ty = 0\n",
      "x = [-0.21043089 -0.02098326],\ty_pred = -5.0,\ty = 0\n",
      "x = [-0.41783616  0.82134039],\ty_pred = -5.0,\ty = 1\n",
      "x = [0.93568458 0.13364194],\ty_pred = -5.0,\ty = 1\n",
      "x = [-0.36799568  1.1357842 ],\ty_pred = -5.0,\ty = 1\n",
      "x = [ 0.99441595 -0.14114518],\ty_pred = -5.0,\ty = 1\n",
      "x = [ 0.81848137 -0.42022397],\ty_pred = -5.0,\ty = 1\n",
      "x = [1.18152721 1.49828341],\ty_pred = -5.0,\ty = 0\n",
      "x = [-0.20199291  0.97662745],\ty_pred = -5.0,\ty = 1\n",
      "x = [-0.20221757  0.95902275],\ty_pred = -5.0,\ty = 1\n",
      "x = [0.84961321 1.09753586],\ty_pred = -5.0,\ty = 0\n",
      "x = [0.87449197 1.30618457],\ty_pred = -5.0,\ty = 0\n",
      "x = [-0.02211137  1.14325316],\ty_pred = -5.0,\ty = 1\n",
      "x = [1.3815783  0.95428475],\ty_pred = -5.0,\ty = 0\n",
      "x = [ 0.06009778 -0.31174476],\ty_pred = -5.0,\ty = 0\n",
      "x = [-0.34659234  1.01757178],\ty_pred = -5.0,\ty = 1\n",
      "x = [ 1.3853443  -0.18473425],\ty_pred = -5.0,\ty = 1\n",
      "x = [0.8115938  1.18477512],\ty_pred = -5.0,\ty = 0\n",
      "x = [-0.17551004  0.92549867],\ty_pred = -5.0,\ty = 1\n",
      "x = [-0.12747292  0.82484327],\ty_pred = -5.0,\ty = 1\n",
      "x = [1.48770272 1.26081315],\ty_pred = -5.0,\ty = 0\n",
      "x = [1.07089585 0.84373983],\ty_pred = -5.0,\ty = 0\n",
      "x = [0.83307172 0.05903422],\ty_pred = -5.0,\ty = 1\n",
      "x = [ 1.09594586 -0.04741504],\ty_pred = -5.0,\ty = 1\n",
      "x = [0.9169239  1.27613617],\ty_pred = -5.0,\ty = 0\n",
      "x = [1.0990639 0.8677658],\ty_pred = -5.0,\ty = 0\n",
      "x = [-0.16579343 -0.17277808],\ty_pred = -5.0,\ty = 0\n",
      "x = [0.98971829 1.15215579],\ty_pred = -5.0,\ty = 0\n",
      "x = [-0.10029387  1.15703097],\ty_pred = -5.0,\ty = 1\n",
      "x = [ 0.89906892 -0.07723658],\ty_pred = -5.0,\ty = 1\n",
      "x = [1.08692902 0.90210381],\ty_pred = -5.0,\ty = 0\n",
      "x = [1.19362927 1.11866227],\ty_pred = -5.0,\ty = 0\n",
      "x = [-0.40883048 -0.0413591 ],\ty_pred = -5.0,\ty = 0\n",
      "x = [-0.37726719  1.2249748 ],\ty_pred = -5.0,\ty = 1\n",
      "x = [-0.46898184  1.15044238],\ty_pred = -5.0,\ty = 1\n",
      "x = [ 0.17495703 -0.14360242],\ty_pred = -5.0,\ty = 0\n",
      "x = [1.05167415 1.13626586],\ty_pred = -5.0,\ty = 0\n",
      "x = [0.16045657 0.99989   ],\ty_pred = -5.0,\ty = 1\n",
      "x = [ 1.15194142 -0.30129274],\ty_pred = -5.0,\ty = 1\n",
      "x = [ 1.2006729  -0.33166097],\ty_pred = -5.0,\ty = 1\n",
      "x = [1.37128947 0.90797225],\ty_pred = -5.0,\ty = 0\n",
      "x = [0.92963556 0.01569767],\ty_pred = -5.0,\ty = 1\n",
      "x = [ 0.84297878 -0.1867443 ],\ty_pred = -5.0,\ty = 1\n",
      "x = [1.0351979 0.080113 ],\ty_pred = -5.0,\ty = 1\n",
      "x = [-0.47830143  0.16270979],\ty_pred = -5.0,\ty = 0\n",
      "x = [1.28095134 0.11277212],\ty_pred = -5.0,\ty = 1\n",
      "x = [ 0.81608472 -0.37085308],\ty_pred = -5.0,\ty = 1\n",
      "x = [ 1.46807638 -0.25934833],\ty_pred = -5.0,\ty = 1\n",
      "x = [1.02765257 1.43744372],\ty_pred = -5.0,\ty = 0\n",
      "x = [-0.3093194  -0.08084776],\ty_pred = -5.0,\ty = 0\n",
      "x = [0.01937496 0.88806562],\ty_pred = -5.0,\ty = 1\n",
      "x = [0.95058798 1.41137539],\ty_pred = -5.0,\ty = 0\n",
      "x = [1.11031697 1.0584381 ],\ty_pred = -5.0,\ty = 0\n",
      "x = [1.17552449 0.03819699],\ty_pred = -5.0,\ty = 1\n",
      "x = [-0.05145211  0.92870484],\ty_pred = -5.0,\ty = 1\n",
      "x = [1.20969197 0.82330774],\ty_pred = -5.0,\ty = 0\n",
      "x = [-0.47932988  1.18596249],\ty_pred = -5.0,\ty = 1\n",
      "x = [0.89028202 0.88317459],\ty_pred = -5.0,\ty = 0\n",
      "x = [0.98588423 1.33403581],\ty_pred = -5.0,\ty = 0\n",
      "x = [-0.44923913  1.19119649],\ty_pred = -5.0,\ty = 1\n",
      "x = [1.4508257  0.07712173],\ty_pred = -5.0,\ty = 1\n",
      "x = [ 1.31394519 -0.08291904],\ty_pred = -5.0,\ty = 1\n",
      "x = [-0.33187839  0.94258697],\ty_pred = -5.0,\ty = 1\n",
      "x = [ 0.8904162  -0.33395016],\ty_pred = -5.0,\ty = 1\n",
      "x = [-0.12235638  0.02449655],\ty_pred = -5.0,\ty = 0\n",
      "x = [-0.47218502  0.98244617],\ty_pred = -5.0,\ty = 1\n",
      "x = [ 0.09600723 -0.42675486],\ty_pred = -5.0,\ty = 0\n",
      "x = [1.38479105 1.25133954],\ty_pred = -5.0,\ty = 0\n",
      "x = [0.86593352 0.89384783],\ty_pred = -5.0,\ty = 0\n",
      "x = [0.82087687 0.04080619],\ty_pred = -5.0,\ty = 1\n",
      "x = [1.0718469  0.92346232],\ty_pred = -5.0,\ty = 0\n",
      "x = [-0.30963072  0.93271899],\ty_pred = -5.0,\ty = 1\n",
      "x = [-0.02930546 -0.13754929],\ty_pred = -5.0,\ty = 0\n",
      "x = [ 1.13440263 -0.17160589],\ty_pred = -5.0,\ty = 1\n",
      "x = [-0.13163923  1.33661608],\ty_pred = -5.0,\ty = 1\n",
      "x = [-0.32241994  1.36754018],\ty_pred = -5.0,\ty = 1\n",
      "x = [1.37003624 0.18727709],\ty_pred = -5.0,\ty = 1\n",
      "x = [-0.40696563 -0.3015763 ],\ty_pred = -5.0,\ty = 0\n",
      "x = [0.87424025 1.41409749],\ty_pred = -5.0,\ty = 0\n",
      "x = [ 1.04058953 -0.27974668],\ty_pred = -5.0,\ty = 1\n",
      "x = [0.9427003  1.04472407],\ty_pred = -5.0,\ty = 0\n",
      "x = [1.28333556 1.44589457],\ty_pred = -5.0,\ty = 0\n",
      "x = [0.14800437 1.0322255 ],\ty_pred = -5.0,\ty = 1\n",
      "x = [-0.28483296  1.31128009],\ty_pred = -5.0,\ty = 1\n",
      "x = [0.11681782 0.80441633],\ty_pred = -5.0,\ty = 1\n",
      "x = [0.85371412 0.99725338],\ty_pred = -5.0,\ty = 0\n",
      "x = [ 1.09768444 -0.36530748],\ty_pred = -5.0,\ty = 1\n",
      "x = [1.30914643 0.06251624],\ty_pred = -5.0,\ty = 1\n",
      "x = [-0.22210825 -0.38689817],\ty_pred = -5.0,\ty = 0\n",
      "x = [1.05376299 0.02732806],\ty_pred = -5.0,\ty = 1\n",
      "x = [-0.30386516 -0.1840467 ],\ty_pred = -5.0,\ty = 0\n",
      "x = [0.13031424 1.13795123],\ty_pred = -5.0,\ty = 1\n",
      "x = [ 1.42597316 -0.08636958],\ty_pred = -5.0,\ty = 1\n",
      "x = [0.07216759 0.13535125],\ty_pred = -5.0,\ty = 0\n",
      "x = [-0.49824471  1.12791763],\ty_pred = -5.0,\ty = 1\n",
      "x = [1.4217198 0.0137462],\ty_pred = -5.0,\ty = 1\n",
      "x = [ 0.87277801 -0.22017151],\ty_pred = -5.0,\ty = 1\n",
      "x = [-0.30426517  1.41522653],\ty_pred = -5.0,\ty = 1\n",
      "x = [-0.1526347  -0.06567226],\ty_pred = -5.0,\ty = 0\n",
      "x = [0.9968745 0.9392492],\ty_pred = -5.0,\ty = 0\n",
      "x = [-0.49651654  1.19489753],\ty_pred = -5.0,\ty = 1\n",
      "x = [ 0.90820289 -0.39711531],\ty_pred = -5.0,\ty = 1\n",
      "x = [-0.08093528 -0.07195037],\ty_pred = -5.0,\ty = 0\n",
      "x = [-0.04271936 -0.36680156],\ty_pred = -5.0,\ty = 0\n",
      "x = [1.33153088 0.01445941],\ty_pred = -5.0,\ty = 1\n",
      "x = [-0.18954731 -0.01151084],\ty_pred = -5.0,\ty = 0\n",
      "x = [1.31874124 1.4419594 ],\ty_pred = -5.0,\ty = 0\n",
      "x = [1.11017087 1.49088925],\ty_pred = -5.0,\ty = 0\n",
      "x = [ 1.35964142 -0.36291604],\ty_pred = -5.0,\ty = 1\n",
      "x = [-0.18223314  1.0512552 ],\ty_pred = -5.0,\ty = 1\n",
      "x = [1.0832685 1.1471288],\ty_pred = -5.0,\ty = 0\n",
      "x = [ 1.29107362 -0.22884763],\ty_pred = -5.0,\ty = 1\n",
      "x = [ 0.84135182 -0.35750774],\ty_pred = -5.0,\ty = 1\n",
      "x = [1.09928912 1.09682269],\ty_pred = -5.0,\ty = 0\n",
      "x = [ 1.03122499 -0.05315967],\ty_pred = -5.0,\ty = 1\n",
      "x = [0.97211898 1.18388352],\ty_pred = -5.0,\ty = 0\n",
      "x = [1.29938059 1.41643519],\ty_pred = -5.0,\ty = 0\n",
      "x = [ 1.18580017 -0.09911819],\ty_pred = -5.0,\ty = 1\n",
      "x = [-0.24627428 -0.15752865],\ty_pred = -5.0,\ty = 0\n",
      "x = [0.8214625  1.33254635],\ty_pred = -5.0,\ty = 0\n",
      "x = [-0.47902677  1.00181943],\ty_pred = -5.0,\ty = 1\n",
      "x = [0.87421163 1.28262215],\ty_pred = -5.0,\ty = 0\n",
      "x = [-0.29490148  1.08284269],\ty_pred = -5.0,\ty = 1\n",
      "x = [ 0.0129389  -0.19176352],\ty_pred = -5.0,\ty = 0\n",
      "x = [-0.03579022  1.31779669],\ty_pred = -5.0,\ty = 1\n",
      "x = [ 0.19901936 -0.32998503],\ty_pred = -5.0,\ty = 0\n",
      "x = [ 0.15857989 -0.34794617],\ty_pred = -5.0,\ty = 0\n",
      "x = [1.10086354 1.40154571],\ty_pred = -5.0,\ty = 0\n",
      "x = [ 0.82134746 -0.00609371],\ty_pred = -5.0,\ty = 1\n",
      "x = [-0.19169161  0.02792252],\ty_pred = -5.0,\ty = 0\n",
      "x = [ 0.1439675  -0.19105378],\ty_pred = -5.0,\ty = 0\n",
      "x = [-0.13042416 -0.45377509],\ty_pred = -5.0,\ty = 0\n",
      "x = [-0.22645885 -0.172933  ],\ty_pred = -5.0,\ty = 0\n",
      "x = [1.20800082 1.35421349],\ty_pred = -5.0,\ty = 0\n",
      "x = [ 1.17639043 -0.11817018],\ty_pred = -5.0,\ty = 1\n",
      "x = [-0.39727683  1.09670877],\ty_pred = -5.0,\ty = 1\n",
      "x = [1.08736533 0.81396295],\ty_pred = -5.0,\ty = 0\n",
      "x = [1.11394588 0.93958701],\ty_pred = -5.0,\ty = 0\n",
      "x = [1.03514794 0.99776105],\ty_pred = -5.0,\ty = 0\n",
      "x = [1.22017431 1.3904629 ],\ty_pred = -5.0,\ty = 0\n",
      "x = [ 0.02004488 -0.26135583],\ty_pred = -5.0,\ty = 0\n",
      "x = [0.849789   1.12716739],\ty_pred = -5.0,\ty = 0\n",
      "x = [ 0.13177559 -0.28498746],\ty_pred = -5.0,\ty = 0\n",
      "x = [0.02736605 1.16381444],\ty_pred = -5.0,\ty = 1\n",
      "x = [ 1.04730192 -0.29509141],\ty_pred = -5.0,\ty = 1\n",
      "x = [-0.21041648  1.31136357],\ty_pred = -5.0,\ty = 1\n",
      "x = [-0.2767098   1.36010702],\ty_pred = -5.0,\ty = 1\n",
      "x = [ 0.17411277 -0.14721189],\ty_pred = -5.0,\ty = 0\n",
      "x = [1.02176186 1.22906606],\ty_pred = -5.0,\ty = 0\n",
      "x = [-0.1796063   0.02823556],\ty_pred = -5.0,\ty = 0\n",
      "x = [-0.06038384  1.05769504],\ty_pred = -5.0,\ty = 1\n",
      "x = [1.28186371 1.44983687],\ty_pred = -5.0,\ty = 0\n",
      "x = [-0.28628053  1.45693419],\ty_pred = -5.0,\ty = 1\n",
      "x = [-0.31221602  0.91960053],\ty_pred = -5.0,\ty = 1\n",
      "x = [1.31023386 1.0840041 ],\ty_pred = -5.0,\ty = 0\n",
      "x = [-0.40703476  0.03029925],\ty_pred = -5.0,\ty = 0\n",
      "x = [-0.04182373  1.16144421],\ty_pred = -5.0,\ty = 1\n",
      "x = [1.42252389 0.14610213],\ty_pred = -5.0,\ty = 1\n",
      "x = [1.44024379 0.0807016 ],\ty_pred = -5.0,\ty = 1\n",
      "x = [ 1.10296684 -0.12054669],\ty_pred = -5.0,\ty = 1\n",
      "x = [1.0206052  0.88374415],\ty_pred = -5.0,\ty = 0\n",
      "x = [-0.01476381 -0.08876086],\ty_pred = -5.0,\ty = 0\n",
      "x = [-0.05077557 -0.23814387],\ty_pred = -5.0,\ty = 0\n",
      "x = [ 0.96738481 -0.14341399],\ty_pred = -5.0,\ty = 1\n",
      "x = [ 0.12007618 -0.10429723],\ty_pred = -5.0,\ty = 0\n",
      "x = [ 1.08036717 -0.19103454],\ty_pred = -5.0,\ty = 1\n",
      "x = [1.43074895 1.10000399],\ty_pred = -5.0,\ty = 0\n",
      "x = [-0.25156824  0.89736052],\ty_pred = -5.0,\ty = 1\n",
      "x = [0.87040255 0.11883935],\ty_pred = -5.0,\ty = 1\n",
      "x = [-0.36610956 -0.22906764],\ty_pred = -5.0,\ty = 0\n",
      "x = [ 0.80068447 -0.06351374],\ty_pred = -5.0,\ty = 1\n",
      "x = [-0.21436701  1.48132372],\ty_pred = -5.0,\ty = 1\n",
      "x = [1.26421522 1.14595171],\ty_pred = -5.0,\ty = 0\n",
      "x = [0.85153632 1.17400652],\ty_pred = -5.0,\ty = 0\n",
      "x = [ 0.89928128 -0.4395667 ],\ty_pred = -5.0,\ty = 1\n",
      "x = [1.2033042  0.94903997],\ty_pred = -5.0,\ty = 0\n",
      "x = [1.02084852 1.25045083],\ty_pred = -5.0,\ty = 0\n",
      "x = [-0.00837897 -0.06248908],\ty_pred = -5.0,\ty = 0\n",
      "x = [1.13471148 1.35548723],\ty_pred = -5.0,\ty = 0\n",
      "x = [ 0.14653102 -0.02534195],\ty_pred = -5.0,\ty = 0\n",
      "x = [0.03995376 1.39739604],\ty_pred = -5.0,\ty = 1\n",
      "x = [1.10598671 1.45123263],\ty_pred = -5.0,\ty = 0\n",
      "x = [ 1.20573001 -0.07127721],\ty_pred = -5.0,\ty = 1\n",
      "x = [1.11700294 0.14111511],\ty_pred = -5.0,\ty = 1\n",
      "x = [-0.46664171  1.38995162],\ty_pred = -5.0,\ty = 1\n",
      "x = [-0.10968853  1.04055268],\ty_pred = -5.0,\ty = 1\n",
      "x = [ 0.13376417 -0.25681025],\ty_pred = -5.0,\ty = 0\n",
      "x = [-0.18673013  1.31514319],\ty_pred = -5.0,\ty = 1\n",
      "x = [-0.09621949  1.37626588],\ty_pred = -5.0,\ty = 1\n",
      "x = [1.15080507 1.33750369],\ty_pred = -5.0,\ty = 0\n",
      "x = [-0.06533333  1.19764832],\ty_pred = -5.0,\ty = 1\n",
      "x = [-0.4769639   1.18108072],\ty_pred = -5.0,\ty = 1\n",
      "x = [-0.16577725  1.18935342],\ty_pred = -5.0,\ty = 1\n",
      "x = [ 0.89900887 -0.43169217],\ty_pred = -5.0,\ty = 1\n",
      "x = [-0.32432692  0.84962039],\ty_pred = -5.0,\ty = 1\n",
      "x = [-0.41892128  1.41451461],\ty_pred = -5.0,\ty = 1\n",
      "x = [0.87303618 0.18953189],\ty_pred = -5.0,\ty = 1\n",
      "x = [-0.07189847 -0.23515231],\ty_pred = -5.0,\ty = 0\n",
      "x = [-0.48143015  0.97818886],\ty_pred = -5.0,\ty = 1\n",
      "x = [1.09533445 0.15170224],\ty_pred = -5.0,\ty = 1\n",
      "x = [1.04129372 0.94945117],\ty_pred = -5.0,\ty = 0\n",
      "x = [-0.03438215  1.19971724],\ty_pred = -5.0,\ty = 1\n",
      "x = [-0.14596566  1.02901562],\ty_pred = -5.0,\ty = 1\n",
      "x = [-0.43239468  1.29436468],\ty_pred = -5.0,\ty = 1\n",
      "x = [-0.48175805  1.0447905 ],\ty_pred = -5.0,\ty = 1\n",
      "x = [-0.45832998 -0.16301968],\ty_pred = -5.0,\ty = 0\n",
      "x = [ 1.38016756 -0.21610983],\ty_pred = -5.0,\ty = 1\n",
      "x = [ 1.17782076 -0.27674489],\ty_pred = -5.0,\ty = 1\n",
      "x = [1.14694076 0.15678324],\ty_pred = -5.0,\ty = 1\n",
      "x = [ 0.9360618 -0.3590257],\ty_pred = -5.0,\ty = 1\n",
      "x = [-0.08776391  0.08976275],\ty_pred = -5.0,\ty = 0\n",
      "x = [-0.26429524 -0.0894994 ],\ty_pred = -5.0,\ty = 0\n",
      "x = [-0.3864285  -0.36378439],\ty_pred = -5.0,\ty = 0\n",
      "x = [ 1.22723703 -0.39493108],\ty_pred = -5.0,\ty = 1\n",
      "x = [ 1.08674113 -0.0173536 ],\ty_pred = -5.0,\ty = 1\n",
      "x = [ 0.9397694  -0.47746392],\ty_pred = -5.0,\ty = 1\n",
      "x = [0.83523778 0.9203033 ],\ty_pred = -5.0,\ty = 0\n",
      "x = [1.48642162 0.0650334 ],\ty_pred = -5.0,\ty = 1\n",
      "x = [1.45781031 1.43591101],\ty_pred = -5.0,\ty = 0\n",
      "x = [ 1.10899204 -0.39989712],\ty_pred = -5.0,\ty = 1\n",
      "x = [0.96618942 0.83466002],\ty_pred = -5.0,\ty = 0\n",
      "x = [-0.4192946  -0.35433181],\ty_pred = -5.0,\ty = 0\n",
      "x = [ 1.17245412 -0.21761536],\ty_pred = -5.0,\ty = 1\n",
      "x = [1.13819269 0.12121855],\ty_pred = -5.0,\ty = 1\n",
      "x = [-0.47015922 -0.43039182],\ty_pred = -5.0,\ty = 0\n",
      "x = [-0.3437331   0.06460956],\ty_pred = -5.0,\ty = 0\n",
      "x = [ 0.8002751  -0.38329465],\ty_pred = -5.0,\ty = 1\n",
      "x = [1.28156244 0.01820554],\ty_pred = -5.0,\ty = 1\n",
      "x = [-0.03771165 -0.32563694],\ty_pred = -5.0,\ty = 0\n",
      "x = [ 1.30191661 -0.2381673 ],\ty_pred = -5.0,\ty = 1\n",
      "x = [1.27519817 1.4244315 ],\ty_pred = -5.0,\ty = 0\n",
      "x = [0.1033342  1.23775749],\ty_pred = -5.0,\ty = 1\n",
      "x = [1.00214486 1.08217195],\ty_pred = -5.0,\ty = 0\n",
      "x = [-0.42900546  1.43571958],\ty_pred = -5.0,\ty = 1\n",
      "x = [1.011461  0.1062542],\ty_pred = -5.0,\ty = 1\n",
      "x = [ 0.10441391 -0.00408445],\ty_pred = -5.0,\ty = 0\n",
      "x = [0.80009893 1.06406815],\ty_pred = -5.0,\ty = 0\n",
      "x = [0.8856277  0.05824719],\ty_pred = -5.0,\ty = 1\n",
      "x = [ 0.05049196 -0.39112999],\ty_pred = -5.0,\ty = 0\n",
      "x = [-0.27752771 -0.25921178],\ty_pred = -5.0,\ty = 0\n",
      "x = [ 1.18115526 -0.10334811],\ty_pred = -5.0,\ty = 1\n",
      "x = [-0.47081879  1.34860348],\ty_pred = -5.0,\ty = 1\n",
      "x = [ 1.02590914 -0.20847621],\ty_pred = -5.0,\ty = 1\n",
      "x = [ 0.90162983 -0.25589126],\ty_pred = -5.0,\ty = 1\n",
      "x = [1.17008909 1.11512976],\ty_pred = -5.0,\ty = 0\n",
      "x = [-0.08289314  1.36607472],\ty_pred = -5.0,\ty = 1\n",
      "x = [-0.3383408  -0.29953601],\ty_pred = -5.0,\ty = 0\n",
      "x = [-0.11350283 -0.1023022 ],\ty_pred = -5.0,\ty = 0\n",
      "x = [-0.25960593 -0.25456797],\ty_pred = -5.0,\ty = 0\n"
     ]
    },
    {
     "data": {
      "text/plain": [
       "5.508"
      ]
     },
     "execution_count": 14,
     "metadata": {},
     "output_type": "execute_result"
    }
   ],
   "source": [
    "# 比較輸入、預測值、標籤\n",
    "diff = np.zeros(num_analysis, dtype=int)\n",
    "for x, y, idx in zip(X, Y, range(num_analysis)):\n",
    "    x_n = normalizer.normalize(x-0.5)\n",
    "    pred = nn_best.forward([x_n])[0]\n",
    "    y_pred = 0.5 + normalizer.unnormalize(pred)\n",
    "    y_pred = y_pred.round()\n",
    "    \n",
    "    diff[idx] = y[0] - y_pred[0]\n",
    "    print(f\"x = {x},\\ty_pred = {y_pred[0]},\\ty = {y[0]}\")\n",
    "\n",
    "np.absolute(diff).mean()"
   ]
  },
  {
   "cell_type": "markdown",
   "metadata": {},
   "source": [
    "loss 還不錯"
   ]
  },
  {
   "cell_type": "markdown",
   "metadata": {},
   "source": [
    "## (3) 學習曲線\n",
    "最佳隱藏層數量下，30 次建模結果最佳解的學習曲線"
   ]
  },
  {
   "cell_type": "code",
   "execution_count": 15,
   "metadata": {},
   "outputs": [],
   "source": [
    "import numpy as np\n",
    "from module.for_model.checkpoint import get_best_model, load_checkpoint\n",
    "import matplotlib.pyplot as plt"
   ]
  },
  {
   "cell_type": "markdown",
   "metadata": {},
   "source": [
    "#### 調出 best model 的所有 checkpoint"
   ]
  },
  {
   "cell_type": "code",
   "execution_count": 16,
   "metadata": {},
   "outputs": [
    {
     "data": {
      "text/plain": [
       "5"
      ]
     },
     "execution_count": 16,
     "metadata": {},
     "output_type": "execute_result"
    }
   ],
   "source": [
    "name_experiment = \"2024_0606_0319_part3\"\n",
    "n = 2\n",
    "_, idx_best = get_best_model(name_experiment, n)\n",
    "idx_best"
   ]
  },
  {
   "cell_type": "code",
   "execution_count": 17,
   "metadata": {},
   "outputs": [
    {
     "data": {
      "text/plain": [
       "(30, 1001, 2)"
      ]
     },
     "execution_count": 17,
     "metadata": {},
     "output_type": "execute_result"
    }
   ],
   "source": [
    "path_folder = f\"checkpoints\\\\{name_experiment}\\\\node_{n:02d}\"\n",
    "ttl_loss = load_checkpoint(path_folder, \"loss\")\n",
    "ttl_loss = np.array(ttl_loss)\n",
    "ttl_loss.shape"
   ]
  },
  {
   "cell_type": "markdown",
   "metadata": {},
   "source": [
    "#### 畫圖"
   ]
  },
  {
   "cell_type": "code",
   "execution_count": 18,
   "metadata": {},
   "outputs": [],
   "source": [
    "x = range(ttl_loss.shape[1])\n",
    "y_loss_in = ttl_loss[idx_best,:,0]      # in-sample loss        # 紅色\n",
    "y_loss_out = ttl_loss[idx_best,:,1]     # out-of-sample loss    # 藍色"
   ]
  },
  {
   "cell_type": "markdown",
   "metadata": {},
   "source": [
    "##### 觀察整體\n",
    "看起來學習曲線下降得非常快，但仍在穩定下降中"
   ]
  },
  {
   "cell_type": "code",
   "execution_count": 19,
   "metadata": {},
   "outputs": [
    {
     "data": {
      "text/plain": [
       "<matplotlib.legend.Legend at 0x21f1b86e010>"
      ]
     },
     "execution_count": 19,
     "metadata": {},
     "output_type": "execute_result"
    },
    {
     "data": {
      "image/png": "[encoded data removed]",
      "text/plain": [
       "<Figure size 640x480 with 1 Axes>"
      ]
     },
     "metadata": {},
     "output_type": "display_data"
    }
   ],
   "source": [
    "plt.scatter(x, y_loss_in, s=0.5, label=\"loss_in\", color=\"r\")\n",
    "plt.scatter(x, y_loss_out, s=0.5, label=\"loss_out\")\n",
    "plt.legend(loc='center left', bbox_to_anchor=(1.1, 0.5), labelspacing=3)"
   ]
  },
  {
   "cell_type": "markdown",
   "metadata": {},
   "source": [
    "##### 觀察前期\n",
    "一開始 loss_out 低於 loss_in 的狀況，很有趣。"
   ]
  },
  {
   "cell_type": "code",
   "execution_count": 20,
   "metadata": {},
   "outputs": [
    {
     "data": {
      "text/plain": [
       "(0.025, 0.3)"
      ]
     },
     "execution_count": 20,
     "metadata": {},
     "output_type": "execute_result"
    },
    {
     "data": {
      "image/png": "[encoded data removed]",
      "text/plain": [
       "<Figure size 640x480 with 1 Axes>"
      ]
     },
     "metadata": {},
     "output_type": "display_data"
    }
   ],
   "source": [
    "plt.scatter(x, y_loss_in, s=0.5, label=\"loss_in\", color=\"r\")\n",
    "plt.scatter(x, y_loss_out, s=0.5, label=\"loss_out\")\n",
    "plt.legend(loc='center left', bbox_to_anchor=(1.1, 0.5), labelspacing=3)\n",
    "plt.xlim([-1,2.5])\n",
    "plt.ylim([0.025,0.3])"
   ]
  },
  {
   "cell_type": "markdown",
   "metadata": {},
   "source": [
    "##### 觀察轉折點\n",
    "loss_out 下降速度趨緩，逐漸被 loss_in 超過"
   ]
  },
  {
   "cell_type": "code",
   "execution_count": 21,
   "metadata": {},
   "outputs": [
    {
     "data": {
      "text/plain": [
       "(0.03, 0.034)"
      ]
     },
     "execution_count": 21,
     "metadata": {},
     "output_type": "execute_result"
    },
    {
     "data": {
      "image/png": "[encoded data removed]",
      "text/plain": [
       "<Figure size 640x480 with 1 Axes>"
      ]
     },
     "metadata": {},
     "output_type": "display_data"
    }
   ],
   "source": [
    "# plt.scatter(x, y_loss_in, s=0.5, label=\"loss_in\", color=\"r\")\n",
    "# plt.scatter(x, y_loss_out, s=0.5, label=\"loss_out\")\n",
    "\n",
    "# plt.plot(x, y_loss_in, label=\"loss_in\", color=\"r\")\n",
    "# plt.plot(x, y_loss_out, label=\"loss_out\")\n",
    "plt.plot(x, y_loss_in, linewidth=1, label=\"loss_in\", color=\"r\")\n",
    "plt.plot(x, y_loss_out, linewidth=1, label=\"loss_out\")\n",
    "plt.legend(loc='center left', bbox_to_anchor=(1.1, 0.5), labelspacing=3)\n",
    "plt.xlim([5,8])\n",
    "plt.ylim([0.03,0.034])"
   ]
  },
  {
   "cell_type": "markdown",
   "metadata": {},
   "source": [
    "##### 觀察後期\n",
    "loss_out 穩定低於 loss_in，很怪"
   ]
  },
  {
   "cell_type": "code",
   "execution_count": 22,
   "metadata": {},
   "outputs": [
    {
     "data": {
      "text/plain": [
       "(0.0122, 0.0155)"
      ]
     },
     "execution_count": 22,
     "metadata": {},
     "output_type": "execute_result"
    },
    {
     "data": {
      "image/png": "[encoded data removed]",
      "text/plain": [
       "<Figure size 640x480 with 1 Axes>"
      ]
     },
     "metadata": {},
     "output_type": "display_data"
    }
   ],
   "source": [
    "plt.plot(x, y_loss_in, linewidth=1, label=\"loss_in\", color=\"r\")\n",
    "plt.plot(x, y_loss_out, linewidth=1, label=\"loss_out\")\n",
    "plt.legend(loc='center left', bbox_to_anchor=(1.1, 0.5), labelspacing=3)\n",
    "plt.xlim([800,1000])\n",
    "plt.ylim([0.0122,0.0155])"
   ]
  },
  {
   "cell_type": "markdown",
   "metadata": {},
   "source": [
    "## (4) Error Histogram\n",
    "最佳隱藏層數量下，30 次建模結果最佳解的 Error Histogram。"
   ]
  },
  {
   "cell_type": "code",
   "execution_count": 23,
   "metadata": {},
   "outputs": [],
   "source": [
    "import numpy as np\n",
    "from module.for_model.checkpoint import get_best_model\n",
    "from module.for_dataset.create_dataset import create_dataset\n",
    "from module.for_dataset.normalization import normalization\n",
    "import matplotlib.pyplot as plt"
   ]
  },
  {
   "cell_type": "markdown",
   "metadata": {},
   "source": [
    "### 調出 best model 的 best checkpoint 的參數"
   ]
  },
  {
   "cell_type": "code",
   "execution_count": 24,
   "metadata": {},
   "outputs": [],
   "source": [
    "name_experiment = \"2024_0606_0319_part3\"\n",
    "n = 2\n",
    "nn_best, _ = get_best_model(name_experiment, n)"
   ]
  },
  {
   "cell_type": "markdown",
   "metadata": {},
   "source": [
    "### 建立其他沒看過的資料"
   ]
  },
  {
   "cell_type": "code",
   "execution_count": 25,
   "metadata": {},
   "outputs": [
    {
     "data": {
      "text/plain": [
       "array([[0.95117522, 0.00895316],\n",
       "       [0.69245491, 0.15225998],\n",
       "       [0.76898911, 0.72619817],\n",
       "       ...,\n",
       "       [0.66068486, 0.74352127],\n",
       "       [0.10167781, 0.21090751],\n",
       "       [0.27443305, 0.96329347]])"
      ]
     },
     "execution_count": 25,
     "metadata": {},
     "output_type": "execute_result"
    }
   ],
   "source": [
    "# 建立其他沒看過的資料\n",
    "# (之前 random seed 設 0，這次要設不一樣)\n",
    "\n",
    "random_seed = 2\n",
    "num_analysis = 10000\n",
    "num_data = int(num_analysis/0.8)\n",
    "\n",
    "X, Y, _, _ = create_dataset(random_seed, num_data, \"xor\")\n",
    "\n",
    "# reshape for the model output\n",
    "Y = Y.reshape((-1,1))\n",
    "\n",
    "# normalize\n",
    "normalizer = normalization(X-0.5)\n",
    "X_n = normalizer.normalize(X-0.5)\n",
    "# Y_n = normalizer.normalize(Y-5)\n",
    "\n",
    "X_n"
   ]
  },
  {
   "cell_type": "markdown",
   "metadata": {},
   "source": [
    "### 取得 error"
   ]
  },
  {
   "cell_type": "code",
   "execution_count": 26,
   "metadata": {},
   "outputs": [
    {
     "data": {
      "text/plain": [
       "array([0, 0, 0, ..., 0, 0, 0])"
      ]
     },
     "execution_count": 26,
     "metadata": {},
     "output_type": "execute_result"
    }
   ],
   "source": [
    "# 取得 error\n",
    "ttl_error = np.zeros(num_analysis, dtype=int)\n",
    "for x_n, y, idx in zip(X_n, Y, range(num_analysis)):\n",
    "    pred = nn_best.forward([x_n])\n",
    "    y_pred = 0.5 + normalizer.unnormalize(pred)\n",
    "    y_pred = y_pred.round()\n",
    "    ttl_error[idx] = y[0] - y_pred[0,0]\n",
    "ttl_error"
   ]
  },
  {
   "cell_type": "code",
   "execution_count": 27,
   "metadata": {},
   "outputs": [
    {
     "data": {
      "text/plain": [
       "(array([ 647.,    0.,    0.,    0.,    0., 9254.,    0.,    0.,    0.,\n",
       "          99.]),\n",
       " array([-1. , -0.8, -0.6, -0.4, -0.2,  0. ,  0.2,  0.4,  0.6,  0.8,  1. ]),\n",
       " <BarContainer object of 10 artists>)"
      ]
     },
     "execution_count": 27,
     "metadata": {},
     "output_type": "execute_result"
    },
    {
     "data": {
      "image/png": "[encoded data removed]",
      "text/plain": [
       "<Figure size 640x480 with 1 Axes>"
      ]
     },
     "metadata": {},
     "output_type": "display_data"
    }
   ],
   "source": [
    "# 畫圖\n",
    "plt.hist(ttl_error)"
   ]
  },
  {
   "cell_type": "markdown",
   "metadata": {},
   "source": [
    "從長調圖可以看出:\n",
    "1. 正確率超過九成\n",
    "2. 如果有錯誤，幾乎都是<b>誤判成不同類</b>，而非同類"
   ]
  },
  {
   "cell_type": "markdown",
   "metadata": {},
   "source": []
  },
  {
   "cell_type": "markdown",
   "metadata": {},
   "source": [
    "## (5) 動畫"
   ]
  },
  {
   "cell_type": "code",
   "execution_count": 1,
   "metadata": {},
   "outputs": [],
   "source": [
    "import matplotlib.pyplot as plt\n",
    "import matplotlib.animation as animation\n",
    "from module.for_model.checkpoint import get_best_model, load_checkpoint\n",
    "from module.draw.draw import plot_decision_boundary"
   ]
  },
  {
   "cell_type": "markdown",
   "metadata": {},
   "source": [
    "### Epoch-Wise"
   ]
  },
  {
   "cell_type": "markdown",
   "metadata": {},
   "source": [
    "#### 調出 best model 的所有 checkpoint"
   ]
  },
  {
   "cell_type": "code",
   "execution_count": 2,
   "metadata": {},
   "outputs": [
    {
     "data": {
      "text/plain": [
       "5"
      ]
     },
     "execution_count": 2,
     "metadata": {},
     "output_type": "execute_result"
    }
   ],
   "source": [
    "name_experiment = \"2024_0606_0319_part3\"\n",
    "n = 2\n",
    "_, idx_best = get_best_model(name_experiment, n)\n",
    "idx_best"
   ]
  },
  {
   "cell_type": "code",
   "execution_count": 5,
   "metadata": {},
   "outputs": [
    {
     "data": {
      "text/plain": [
       "30"
      ]
     },
     "execution_count": 5,
     "metadata": {},
     "output_type": "execute_result"
    }
   ],
   "source": [
    "path_folder = f\"checkpoints\\\\{name_experiment}\\\\node_{n:02d}\"\n",
    "ttl_param = load_checkpoint(path_folder, \"param\")\n",
    "len(ttl_param)"
   ]
  },
  {
   "cell_type": "code",
   "execution_count": 6,
   "metadata": {},
   "outputs": [
    {
     "data": {
      "text/plain": [
       "1001"
      ]
     },
     "execution_count": 6,
     "metadata": {},
     "output_type": "execute_result"
    }
   ],
   "source": [
    "ttl_checkpoint_4_best_model = ttl_param[idx_best]\n",
    "len(ttl_checkpoint_4_best_model)"
   ]
  },
  {
   "cell_type": "code",
   "execution_count": 7,
   "metadata": {},
   "outputs": [
    {
     "data": {
      "text/plain": [
       "1001"
      ]
     },
     "execution_count": 7,
     "metadata": {},
     "output_type": "execute_result"
    }
   ],
   "source": [
    "ttl_w = [param[0] for param in ttl_checkpoint_4_best_model]\n",
    "ttl_b = [param[1] for param in ttl_checkpoint_4_best_model]\n",
    "params = [(w,b[0]) for w,b in zip(ttl_w, ttl_b)]\n",
    "len(params)"
   ]
  },
  {
   "cell_type": "code",
   "execution_count": 9,
   "metadata": {},
   "outputs": [
    {
     "name": "stderr",
     "output_type": "stream",
     "text": [
      "MovieWriter imagemagick unavailable; using Pillow instead.\n"
     ]
    },
    {
     "data": {
      "image/png": "[encoded data removed]",
      "text/plain": [
       "<Figure size 640x480 with 1 Axes>"
      ]
     },
     "metadata": {},
     "output_type": "display_data"
    }
   ],
   "source": [
    "num_epoch = 1001\n",
    "fig, ax = plt.subplots()\n",
    "ani = animation.FuncAnimation(fig, plot_decision_boundary, fargs=(params, ax), frames=num_epoch, repeat=False, interval=0.1)\n",
    "\n",
    "# 保存動畫\n",
    "ani.save('GIFs/xor_2024_0606_0319_speedup_small_withData.gif', writer='imagemagick')\n"
   ]
  }
 ],
 "metadata": {
  "kernelspec": {
   "display_name": "Python 3",
   "language": "python",
   "name": "python3"
  },
  "language_info": {
   "codemirror_mode": {
    "name": "ipython",
    "version": 3
   },
   "file_extension": ".py",
   "mimetype": "text/x-python",
   "name": "python",
   "nbconvert_exporter": "python",
   "pygments_lexer": "ipython3",
   "version": "3.11.9"
  }
 },
 "nbformat": 4,
 "nbformat_minor": 2
}
