{
 "cells": [
  {
   "cell_type": "markdown",
   "metadata": {},
   "source": [
    "# Drawing"
   ]
  },
  {
   "cell_type": "markdown",
   "metadata": {},
   "source": [
    "## (1) 盒鬚圖\n",
    "不同隱藏層神經元數量 (n=[1,20])下的 30 次建模結果盒鬚圖"
   ]
  },
  {
   "cell_type": "code",
   "execution_count": 1,
   "metadata": {},
   "outputs": [],
   "source": [
    "from module.for_model.checkpoint import specific_loss\n",
    "import matplotlib.pyplot as plt"
   ]
  },
  {
   "cell_type": "code",
   "execution_count": 2,
   "metadata": {},
   "outputs": [],
   "source": [
    "name_experiment = \"2024_0608_0010_part3\"\n",
    "n = 2"
   ]
  },
  {
   "cell_type": "code",
   "execution_count": 3,
   "metadata": {},
   "outputs": [
    {
     "data": {
      "image/png": "[encoded data removed]",
      "text/plain": [
       "<Figure size 640x480 with 1 Axes>"
      ]
     },
     "metadata": {},
     "output_type": "display_data"
    }
   ],
   "source": [
    "# 拿每個模型最好的 checkpoint 的 loss\n",
    "# in-sample loss 跟 out-of-sample loss 可能拿不同的 checkpoint\n",
    "loss_in, _ = specific_loss(name_experiment, n, type_loss=0)\n",
    "loss_out, _ = specific_loss(name_experiment, n, type_loss=1)\n",
    "\n",
    "ttl_loss = [loss_in, loss_out]\n",
    "loss_name = [\"loss_in\", \"loss_out\"]\n",
    "plt.boxplot(ttl_loss, patch_artist=True, tick_labels=loss_name)\n",
    "\n",
    "# 添加标题和标签\n",
    "# plt.title(\"Model with Different Hidden Nodes\")\n",
    "plt.xlabel(\"Number of Nodes\")\n",
    "plt.ylabel(\"Loss\")\n",
    "\n",
    "# 显示图表\n",
    "plt.show()"
   ]
  },
  {
   "cell_type": "markdown",
   "metadata": {},
   "source": [
    "兩者分布幾乎相同"
   ]
  },
  {
   "cell_type": "markdown",
   "metadata": {},
   "source": [
    "## (2) 真實 vs 預測\n",
    "最佳隱藏層數量下，30 次建模結果最佳解的真實與預測解比較"
   ]
  },
  {
   "cell_type": "code",
   "execution_count": 4,
   "metadata": {},
   "outputs": [],
   "source": [
    "import numpy as np\n",
    "from module.for_model.checkpoint import get_best_model\n",
    "from module.for_dataset.create_dataset import create_dataset\n",
    "from module.for_dataset.normalization import normalization"
   ]
  },
  {
   "cell_type": "markdown",
   "metadata": {},
   "source": [
    "### 調出 best model 的 best checkpoint 的參數"
   ]
  },
  {
   "cell_type": "code",
   "execution_count": 5,
   "metadata": {},
   "outputs": [],
   "source": [
    "name_experiment = \"2024_0608_0010_part3\"\n",
    "n = 2\n",
    "nn_best, _ = get_best_model(name_experiment, n)"
   ]
  },
  {
   "cell_type": "markdown",
   "metadata": {},
   "source": [
    "### 建立其他沒看過的資料"
   ]
  },
  {
   "cell_type": "code",
   "execution_count": 6,
   "metadata": {},
   "outputs": [
    {
     "name": "stdout",
     "output_type": "stream",
     "text": [
      "X = [-0.2080846   1.18734076], Y = [1]\n"
     ]
    }
   ],
   "source": [
    "# 建立其他沒看過的資料\n",
    "# (之前 random seed 設 0，這次要設不一樣)\n",
    "\n",
    "random_seed = 1\n",
    "num_analysis = 1000\n",
    "num_data = int(num_analysis/0.8)\n",
    "\n",
    "X, Y, _, _ = create_dataset(random_seed, num_data, \"xor\")\n",
    "\n",
    "# reshape for the model output\n",
    "Y = Y.reshape((-1,1))\n",
    "\n",
    "# normalize\n",
    "normalizer = normalization(X-5)\n",
    "X_n = normalizer.normalize(X-5)\n",
    "Y_n = normalizer.normalize(Y-5)\n",
    "\n",
    "\n",
    "print(f\"X = {X[0]}, Y = {Y[0]}\")"
   ]
  },
  {
   "cell_type": "markdown",
   "metadata": {},
   "source": [
    "### 比較不同輸入時，預測值、真實值的差異"
   ]
  },
  {
   "cell_type": "code",
   "execution_count": 7,
   "metadata": {},
   "outputs": [
    {
     "data": {
      "text/plain": [
       "0.006966124333514228"
      ]
     },
     "execution_count": 7,
     "metadata": {},
     "output_type": "execute_result"
    }
   ],
   "source": [
    "# 稍微計算一下 loss\n",
    "loss_average = nn_best.evaluate(X_n, Y_n)\n",
    "loss_average"
   ]
  },
  {
   "cell_type": "code",
   "execution_count": 8,
   "metadata": {},
   "outputs": [
    {
     "name": "stdout",
     "output_type": "stream",
     "text": [
      "x = [-0.2080846   1.18734076],\ty_pred = -6.0,\ty = 1\n",
      "x = [ 1.25265499 -0.43536298],\ty_pred = -6.0,\ty = 1\n",
      "x = [ 0.90162131 -0.25810749],\ty_pred = -6.0,\ty = 1\n",
      "x = [1.1223038  0.88947516],\ty_pred = -6.0,\ty = 0\n",
      "x = [-0.20656384  0.95969914],\ty_pred = -6.0,\ty = 1\n",
      "x = [1.39325182 1.03903186],\ty_pred = -6.0,\ty = 0\n",
      "x = [-0.48082868  1.08572698],\ty_pred = -6.0,\ty = 1\n",
      "x = [1.27814483 0.8459354 ],\ty_pred = -6.0,\ty = 0\n",
      "x = [0.0605212 1.232428 ],\ty_pred = -6.0,\ty = 1\n",
      "x = [-0.28060308  0.91816013],\ty_pred = -6.0,\ty = 1\n",
      "x = [ 0.90551776 -0.47266165],\ty_pred = -6.0,\ty = 1\n",
      "x = [-0.38111871  1.04088354],\ty_pred = -6.0,\ty = 1\n",
      "x = [ 1.28344736 -0.20522466],\ty_pred = -6.0,\ty = 1\n",
      "x = [ 0.17052267 -0.1267843 ],\ty_pred = -6.0,\ty = 0\n",
      "x = [-0.01568602 -0.27913906],\ty_pred = -6.0,\ty = 0\n",
      "x = [-0.48719821  0.85058533],\ty_pred = -6.0,\ty = 1\n",
      "x = [1.17977816 1.41774032],\ty_pred = -6.0,\ty = 0\n",
      "x = [1.17225433 0.05249553],\ty_pred = -6.0,\ty = 1\n",
      "x = [ 0.93191765 -0.18647453],\ty_pred = -6.0,\ty = 1\n",
      "x = [ 0.93119734 -0.2944701 ],\ty_pred = -6.0,\ty = 1\n"
     ]
    },
    {
     "data": {
      "text/plain": [
       "6.523"
      ]
     },
     "execution_count": 8,
     "metadata": {},
     "output_type": "execute_result"
    }
   ],
   "source": [
    "# 比較輸入、預測值、標籤\n",
    "diff = np.zeros(num_analysis, dtype=int)\n",
    "for x, y, idx in zip(X, Y, range(num_analysis)):\n",
    "    x_n = normalizer.normalize(x-0.5)\n",
    "    pred = nn_best.forward([x_n])[0]\n",
    "    y_pred = 0.5 + normalizer.unnormalize(pred)\n",
    "    y_pred = y_pred.round()\n",
    "    \n",
    "    diff[idx] = y[0] - y_pred[0]\n",
    "    if idx<20:\n",
    "        print(f\"x = {x},\\ty_pred = {y_pred[0]},\\ty = {y[0]}\")\n",
    "\n",
    "np.absolute(diff).mean()"
   ]
  },
  {
   "cell_type": "markdown",
   "metadata": {},
   "source": [
    "loss 還不錯"
   ]
  },
  {
   "cell_type": "markdown",
   "metadata": {},
   "source": [
    "## (3) 學習曲線\n",
    "最佳隱藏層數量下，30 次建模結果最佳解的學習曲線"
   ]
  },
  {
   "cell_type": "code",
   "execution_count": 9,
   "metadata": {},
   "outputs": [],
   "source": [
    "import numpy as np\n",
    "from module.for_model.checkpoint import get_best_model, load_checkpoint\n",
    "import matplotlib.pyplot as plt"
   ]
  },
  {
   "cell_type": "markdown",
   "metadata": {},
   "source": [
    "#### 調出 best model 的所有 checkpoint"
   ]
  },
  {
   "cell_type": "code",
   "execution_count": 10,
   "metadata": {},
   "outputs": [
    {
     "data": {
      "text/plain": [
       "4"
      ]
     },
     "execution_count": 10,
     "metadata": {},
     "output_type": "execute_result"
    }
   ],
   "source": [
    "name_experiment = \"2024_0608_0010_part3\"\n",
    "n = 2\n",
    "_, idx_best = get_best_model(name_experiment, n)\n",
    "idx_best"
   ]
  },
  {
   "cell_type": "code",
   "execution_count": 11,
   "metadata": {},
   "outputs": [
    {
     "data": {
      "text/plain": [
       "(5, 1001, 2)"
      ]
     },
     "execution_count": 11,
     "metadata": {},
     "output_type": "execute_result"
    }
   ],
   "source": [
    "path_folder = f\"checkpoints\\\\{name_experiment}\\\\node_{n:02d}\"\n",
    "ttl_loss = load_checkpoint(path_folder, \"loss\")\n",
    "ttl_loss = np.array(ttl_loss)\n",
    "ttl_loss.shape"
   ]
  },
  {
   "cell_type": "markdown",
   "metadata": {},
   "source": [
    "#### 畫圖"
   ]
  },
  {
   "cell_type": "code",
   "execution_count": 12,
   "metadata": {},
   "outputs": [],
   "source": [
    "x = range(ttl_loss.shape[1])\n",
    "y_loss_in = ttl_loss[idx_best,:,0]      # in-sample loss        # 紅色\n",
    "y_loss_out = ttl_loss[idx_best,:,1]     # out-of-sample loss    # 藍色"
   ]
  },
  {
   "cell_type": "markdown",
   "metadata": {},
   "source": [
    "##### 觀察整體\n",
    "看起來學習曲線下降得非常快，但仍在穩定下降中"
   ]
  },
  {
   "cell_type": "code",
   "execution_count": 13,
   "metadata": {},
   "outputs": [
    {
     "data": {
      "text/plain": [
       "<matplotlib.legend.Legend at 0x1fe8e12df10>"
      ]
     },
     "execution_count": 13,
     "metadata": {},
     "output_type": "execute_result"
    },
    {
     "data": {
      "image/png": "[encoded data removed]",
      "text/plain": [
       "<Figure size 640x480 with 1 Axes>"
      ]
     },
     "metadata": {},
     "output_type": "display_data"
    }
   ],
   "source": [
    "plt.scatter(x, y_loss_in, s=0.5, label=\"loss_in\", color=\"r\")\n",
    "plt.scatter(x, y_loss_out, s=0.5, label=\"loss_out\")\n",
    "plt.legend(loc='center left', bbox_to_anchor=(1.1, 0.5), labelspacing=3)"
   ]
  },
  {
   "cell_type": "markdown",
   "metadata": {},
   "source": [
    "##### 觀察前期\n",
    "一開始 loss_out 低於 loss_in 的狀況，很有趣。"
   ]
  },
  {
   "cell_type": "code",
   "execution_count": 14,
   "metadata": {},
   "outputs": [
    {
     "data": {
      "text/plain": [
       "(0.025, 0.3)"
      ]
     },
     "execution_count": 14,
     "metadata": {},
     "output_type": "execute_result"
    },
    {
     "data": {
      "image/png": "[encoded data removed]",
      "text/plain": [
       "<Figure size 640x480 with 1 Axes>"
      ]
     },
     "metadata": {},
     "output_type": "display_data"
    }
   ],
   "source": [
    "plt.scatter(x, y_loss_in, s=0.5, label=\"loss_in\", color=\"r\")\n",
    "plt.scatter(x, y_loss_out, s=0.5, label=\"loss_out\")\n",
    "plt.legend(loc='center left', bbox_to_anchor=(1.1, 0.5), labelspacing=3)\n",
    "plt.xlim([-1,2.5])\n",
    "plt.ylim([0.025,0.3])"
   ]
  },
  {
   "cell_type": "markdown",
   "metadata": {},
   "source": [
    "##### 觀察轉折點\n",
    "loss_out 下降速度趨緩，逐漸被 loss_in 超過"
   ]
  },
  {
   "cell_type": "code",
   "execution_count": 15,
   "metadata": {},
   "outputs": [
    {
     "data": {
      "text/plain": [
       "(0.03, 0.034)"
      ]
     },
     "execution_count": 15,
     "metadata": {},
     "output_type": "execute_result"
    },
    {
     "data": {
      "image/png": "[encoded data removed]",
      "text/plain": [
       "<Figure size 640x480 with 1 Axes>"
      ]
     },
     "metadata": {},
     "output_type": "display_data"
    }
   ],
   "source": [
    "# plt.scatter(x, y_loss_in, s=0.5, label=\"loss_in\", color=\"r\")\n",
    "# plt.scatter(x, y_loss_out, s=0.5, label=\"loss_out\")\n",
    "\n",
    "# plt.plot(x, y_loss_in, label=\"loss_in\", color=\"r\")\n",
    "# plt.plot(x, y_loss_out, label=\"loss_out\")\n",
    "plt.plot(x, y_loss_in, linewidth=1, label=\"loss_in\", color=\"r\")\n",
    "plt.plot(x, y_loss_out, linewidth=1, label=\"loss_out\")\n",
    "plt.legend(loc='center left', bbox_to_anchor=(1.1, 0.5), labelspacing=3)\n",
    "plt.xlim([5,8])\n",
    "plt.ylim([0.03,0.034])"
   ]
  },
  {
   "cell_type": "markdown",
   "metadata": {},
   "source": [
    "##### 觀察後期\n",
    "loss_out 穩定低於 loss_in，很怪"
   ]
  },
  {
   "cell_type": "code",
   "execution_count": 16,
   "metadata": {},
   "outputs": [
    {
     "data": {
      "text/plain": [
       "(0.0122, 0.0155)"
      ]
     },
     "execution_count": 16,
     "metadata": {},
     "output_type": "execute_result"
    },
    {
     "data": {
      "image/png": "[encoded data removed]",
      "text/plain": [
       "<Figure size 640x480 with 1 Axes>"
      ]
     },
     "metadata": {},
     "output_type": "display_data"
    }
   ],
   "source": [
    "plt.plot(x, y_loss_in, linewidth=1, label=\"loss_in\", color=\"r\")\n",
    "plt.plot(x, y_loss_out, linewidth=1, label=\"loss_out\")\n",
    "plt.legend(loc='center left', bbox_to_anchor=(1.1, 0.5), labelspacing=3)\n",
    "plt.xlim([800,1000])\n",
    "plt.ylim([0.0122,0.0155])"
   ]
  },
  {
   "cell_type": "markdown",
   "metadata": {},
   "source": [
    "## (4) Error Histogram\n",
    "最佳隱藏層數量下，30 次建模結果最佳解的 Error Histogram。"
   ]
  },
  {
   "cell_type": "code",
   "execution_count": 17,
   "metadata": {},
   "outputs": [],
   "source": [
    "import numpy as np\n",
    "from module.for_model.checkpoint import get_best_model\n",
    "from module.for_dataset.create_dataset import create_dataset\n",
    "from module.for_dataset.normalization import normalization\n",
    "import matplotlib.pyplot as plt"
   ]
  },
  {
   "cell_type": "markdown",
   "metadata": {},
   "source": [
    "### 調出 best model 的 best checkpoint 的參數"
   ]
  },
  {
   "cell_type": "code",
   "execution_count": 18,
   "metadata": {},
   "outputs": [],
   "source": [
    "name_experiment = \"2024_0608_0010_part3\"\n",
    "n = 2\n",
    "nn_best, _ = get_best_model(name_experiment, n)"
   ]
  },
  {
   "cell_type": "markdown",
   "metadata": {},
   "source": [
    "### 建立其他沒看過的資料"
   ]
  },
  {
   "cell_type": "code",
   "execution_count": 19,
   "metadata": {},
   "outputs": [
    {
     "data": {
      "text/plain": [
       "array([[0.15249539, 0.83604498],\n",
       "       [0.19228408, 0.15225998],\n",
       "       [0.14702521, 0.72619817],\n",
       "       ...,\n",
       "       [0.66068486, 0.74352127],\n",
       "       [0.10167781, 0.21090751],\n",
       "       [0.96758382, 0.96329347]])"
      ]
     },
     "execution_count": 19,
     "metadata": {},
     "output_type": "execute_result"
    }
   ],
   "source": [
    "# 建立其他沒看過的資料\n",
    "# (之前 random seed 設 0，這次要設不一樣)\n",
    "\n",
    "random_seed = 2\n",
    "num_analysis = 10000\n",
    "num_data = int(num_analysis/0.8)\n",
    "\n",
    "X, Y, _, _ = create_dataset(random_seed, num_data, \"xor\")\n",
    "\n",
    "# reshape for the model output\n",
    "Y = Y.reshape((-1,1))\n",
    "\n",
    "# normalize\n",
    "normalizer = normalization(X-0.5)\n",
    "X_n = normalizer.normalize(X-0.5)\n",
    "# Y_n = normalizer.normalize(Y-5)\n",
    "\n",
    "X_n"
   ]
  },
  {
   "cell_type": "markdown",
   "metadata": {},
   "source": [
    "### 取得 error"
   ]
  },
  {
   "cell_type": "code",
   "execution_count": 20,
   "metadata": {},
   "outputs": [
    {
     "data": {
      "text/plain": [
       "array([ 0,  0,  0, ..., -1,  0,  0])"
      ]
     },
     "execution_count": 20,
     "metadata": {},
     "output_type": "execute_result"
    }
   ],
   "source": [
    "# 取得 error\n",
    "ttl_error = np.zeros(num_analysis, dtype=int)\n",
    "for x_n, y, idx in zip(X_n, Y, range(num_analysis)):\n",
    "    pred = nn_best.forward([x_n])\n",
    "    y_pred = 0.5 + normalizer.unnormalize(pred)\n",
    "    y_pred = y_pred.round()\n",
    "    ttl_error[idx] = y[0] - y_pred[0,0]\n",
    "ttl_error"
   ]
  },
  {
   "cell_type": "code",
   "execution_count": 21,
   "metadata": {},
   "outputs": [
    {
     "data": {
      "text/plain": [
       "(array([ 449.,    0.,    0.,    0.,    0., 9527.,    0.,    0.,    0.,\n",
       "          24.]),\n",
       " array([-1. , -0.8, -0.6, -0.4, -0.2,  0. ,  0.2,  0.4,  0.6,  0.8,  1. ]),\n",
       " <BarContainer object of 10 artists>)"
      ]
     },
     "execution_count": 21,
     "metadata": {},
     "output_type": "execute_result"
    },
    {
     "data": {
      "image/png": "[encoded data removed]",
      "text/plain": [
       "<Figure size 640x480 with 1 Axes>"
      ]
     },
     "metadata": {},
     "output_type": "display_data"
    }
   ],
   "source": [
    "# 畫圖\n",
    "plt.hist(ttl_error)"
   ]
  },
  {
   "cell_type": "markdown",
   "metadata": {},
   "source": [
    "從長調圖可以看出:\n",
    "1. 正確率超過九成\n",
    "2. 如果有錯誤，幾乎都是<b>誤判成不同類</b>，而非同類"
   ]
  },
  {
   "cell_type": "markdown",
   "metadata": {},
   "source": []
  },
  {
   "cell_type": "markdown",
   "metadata": {},
   "source": [
    "## (5) 動畫"
   ]
  },
  {
   "cell_type": "code",
   "execution_count": 1,
   "metadata": {},
   "outputs": [],
   "source": [
    "import matplotlib.pyplot as plt\n",
    "import matplotlib.animation as animation\n",
    "from module.for_model.checkpoint import get_best_model, load_checkpoint\n",
    "from module.draw.draw import plot_decision_boundary"
   ]
  },
  {
   "cell_type": "markdown",
   "metadata": {},
   "source": [
    "### Epoch-Wise"
   ]
  },
  {
   "cell_type": "markdown",
   "metadata": {},
   "source": [
    "#### 調出 best model 的所有 checkpoint"
   ]
  },
  {
   "cell_type": "code",
   "execution_count": 2,
   "metadata": {},
   "outputs": [
    {
     "data": {
      "text/plain": [
       "20"
      ]
     },
     "execution_count": 2,
     "metadata": {},
     "output_type": "execute_result"
    }
   ],
   "source": [
    "name_experiment = \"2024_0608_0216_part3\"\n",
    "n = 2\n",
    "_, idx_best = get_best_model(name_experiment, n)\n",
    "idx_best"
   ]
  },
  {
   "cell_type": "code",
   "execution_count": 3,
   "metadata": {},
   "outputs": [
    {
     "data": {
      "text/plain": [
       "30"
      ]
     },
     "execution_count": 3,
     "metadata": {},
     "output_type": "execute_result"
    }
   ],
   "source": [
    "path_folder = f\"checkpoints\\\\{name_experiment}\\\\node_{n:02d}\"\n",
    "ttl_param = load_checkpoint(path_folder, \"param\")\n",
    "len(ttl_param)"
   ]
  },
  {
   "cell_type": "code",
   "execution_count": 4,
   "metadata": {},
   "outputs": [
    {
     "data": {
      "text/plain": [
       "101"
      ]
     },
     "execution_count": 4,
     "metadata": {},
     "output_type": "execute_result"
    }
   ],
   "source": [
    "ttl_checkpoint_4_best_model = ttl_param[idx_best]\n",
    "len(ttl_checkpoint_4_best_model)"
   ]
  },
  {
   "cell_type": "code",
   "execution_count": 5,
   "metadata": {},
   "outputs": [
    {
     "data": {
      "text/plain": [
       "101"
      ]
     },
     "execution_count": 5,
     "metadata": {},
     "output_type": "execute_result"
    }
   ],
   "source": [
    "ttl_w = [param[0] for param in ttl_checkpoint_4_best_model]\n",
    "ttl_b = [param[1] for param in ttl_checkpoint_4_best_model]\n",
    "params = [(w,b[0]) for w,b in zip(ttl_w, ttl_b)]\n",
    "len(params)"
   ]
  },
  {
   "cell_type": "code",
   "execution_count": 6,
   "metadata": {},
   "outputs": [
    {
     "name": "stderr",
     "output_type": "stream",
     "text": [
      "MovieWriter imagemagick unavailable; using Pillow instead.\n"
     ]
    },
    {
     "data": {
      "image/png": "[encoded data removed]",
      "text/plain": [
       "<Figure size 640x480 with 1 Axes>"
      ]
     },
     "metadata": {},
     "output_type": "display_data"
    }
   ],
   "source": [
    "num_epoch = 101\n",
    "fig, ax = plt.subplots()\n",
    "ani = animation.FuncAnimation(fig, plot_decision_boundary, fargs=(params, ax), frames=num_epoch, repeat=False, interval=0.1)\n",
    "\n",
    "# 保存動畫\n",
    "ani.save('GIFs/2024_0608_0216_part3_linear.gif', writer='imagemagick')\n"
   ]
  },
  {
   "cell_type": "code",
   "execution_count": null,
   "metadata": {},
   "outputs": [],
   "source": []
  }
 ],
 "metadata": {
  "kernelspec": {
   "display_name": "Python 3",
   "language": "python",
   "name": "python3"
  },
  "language_info": {
   "codemirror_mode": {
    "name": "ipython",
    "version": 3
   },
   "file_extension": ".py",
   "mimetype": "text/x-python",
   "name": "python",
   "nbconvert_exporter": "python",
   "pygments_lexer": "ipython3",
   "version": "3.11.9"
  }
 },
 "nbformat": 4,
 "nbformat_minor": 2
}
